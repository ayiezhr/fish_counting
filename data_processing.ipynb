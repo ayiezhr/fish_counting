version https://git-lfs.github.com/spec/v1
oid sha256:03cf3c9cf170b4f21a17dd4a3b472b8848875c87b640e13efb52ac58a71bcbd0
size 507706550
