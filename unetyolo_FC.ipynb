{
  "cells": [
    {
      "cell_type": "code",
      "execution_count": null,
      "metadata": {
        "colab": {
          "base_uri": "https://localhost:8080/"
        },
        "id": "3RkCg-Sq2NLY",
        "outputId": "63b10deb-25e5-4c67-8a98-bf7146d6b2fe"
      },
      "outputs": [
        {
          "output_type": "stream",
          "name": "stdout",
          "text": [
            "Mounted at /content/drive\n"
          ]
        }
      ],
      "source": [
        "from google.colab import drive\n",
        "drive.mount('/content/drive')"
      ]
    },
    {
      "cell_type": "code",
      "execution_count": null,
      "metadata": {
        "colab": {
          "base_uri": "https://localhost:8080/"
        },
        "id": "R1oFxV3Z7G1q",
        "outputId": "bb122a68-b800-416d-c320-8faa2b316ed8"
      },
      "outputs": [
        {
          "name": "stdout",
          "output_type": "stream",
          "text": [
            "YAML file created at /content/drive/MyDrive/yolov11/dataset/unet_dataset_640/data.yaml\n"
          ]
        }
      ],
      "source": [
        "import yaml\n",
        "\n",
        "# Paths to the dataset splits\n",
        "train_images_path = '/content/drive/MyDrive/yolov11/dataset/unet_dataset_640/images/train'\n",
        "val_images_path = '/content/drive/MyDrive/yolov11/dataset/unet_dataset_640/images/val'\n",
        "test_images_path = '/content/drive/MyDrive/yolov11/dataset/unet_dataset_640/images/test'\n",
        "\n",
        "# Define the names of your classes (adjust this list based on your dataset)\n",
        "class_names = ['fish_larvae']  # Update if you have more than one class\n",
        "\n",
        "# YAML content\n",
        "data_yaml = {\n",
        "    'train': train_images_path,\n",
        "    'val': val_images_path,\n",
        "    'test': test_images_path,\n",
        "    'nc': len(class_names),  # Number of classes\n",
        "    'names': class_names     # Class names\n",
        "}\n",
        "\n",
        "# Output path for the YAML file\n",
        "output_yaml_path = '/content/drive/MyDrive/yolov11/dataset/unet_dataset_640/data.yaml'\n",
        "\n",
        "# Write the YAML file\n",
        "with open(output_yaml_path, 'w') as file:\n",
        "    yaml.dump(data_yaml, file, default_flow_style=False)\n",
        "\n",
        "print(f\"YAML file created at {output_yaml_path}\")"
      ]
    },
    {
      "cell_type": "code",
      "execution_count": null,
      "metadata": {
        "colab": {
          "base_uri": "https://localhost:8080/"
        },
        "id": "FipeQ2xN6_YY",
        "outputId": "0c95d753-3bec-4c62-cc67-fc1b7017212d"
      },
      "outputs": [
        {
          "output_type": "stream",
          "name": "stdout",
          "text": [
            "Fri Jan 17 05:39:29 2025       \n",
            "+---------------------------------------------------------------------------------------+\n",
            "| NVIDIA-SMI 535.104.05             Driver Version: 535.104.05   CUDA Version: 12.2     |\n",
            "|-----------------------------------------+----------------------+----------------------+\n",
            "| GPU  Name                 Persistence-M | Bus-Id        Disp.A | Volatile Uncorr. ECC |\n",
            "| Fan  Temp   Perf          Pwr:Usage/Cap |         Memory-Usage | GPU-Util  Compute M. |\n",
            "|                                         |                      |               MIG M. |\n",
            "|=========================================+======================+======================|\n",
            "|   0  Tesla T4                       Off | 00000000:00:04.0 Off |                    0 |\n",
            "| N/A   33C    P8               9W /  70W |      0MiB / 15360MiB |      0%      Default |\n",
            "|                                         |                      |                  N/A |\n",
            "+-----------------------------------------+----------------------+----------------------+\n",
            "                                                                                         \n",
            "+---------------------------------------------------------------------------------------+\n",
            "| Processes:                                                                            |\n",
            "|  GPU   GI   CI        PID   Type   Process name                            GPU Memory |\n",
            "|        ID   ID                                                             Usage      |\n",
            "|=======================================================================================|\n",
            "|  No running processes found                                                           |\n",
            "+---------------------------------------------------------------------------------------+\n"
          ]
        }
      ],
      "source": [
        "!nvidia-smi"
      ]
    },
    {
      "cell_type": "code",
      "execution_count": null,
      "metadata": {
        "colab": {
          "base_uri": "https://localhost:8080/"
        },
        "id": "of6O90lz82dN",
        "outputId": "efa6060c-92f5-453c-8e4d-253e1314f769"
      },
      "outputs": [
        {
          "output_type": "stream",
          "name": "stdout",
          "text": [
            "/content\n"
          ]
        }
      ],
      "source": [
        "import os\n",
        "HOME = os.getcwd()\n",
        "print(HOME)"
      ]
    },
    {
      "cell_type": "code",
      "execution_count": null,
      "metadata": {
        "colab": {
          "base_uri": "https://localhost:8080/"
        },
        "id": "hw4fOUCI86MW",
        "outputId": "4b7dc5b2-66c6-4c78-8873-acc7e5132db2"
      },
      "outputs": [
        {
          "output_type": "stream",
          "name": "stdout",
          "text": [
            "Mounted at /content/drive\n"
          ]
        }
      ],
      "source": [
        "from google.colab import drive\n",
        "drive.mount('/content/drive')"
      ]
    },
    {
      "cell_type": "code",
      "execution_count": null,
      "metadata": {
        "colab": {
          "base_uri": "https://localhost:8080/"
        },
        "id": "72Im2ehI88CI",
        "outputId": "b458ad7b-f662-46f6-e56a-5210c2934933"
      },
      "outputs": [
        {
          "output_type": "stream",
          "name": "stdout",
          "text": [
            "Requirement already satisfied: opencv-python in /usr/local/lib/python3.10/dist-packages (4.10.0.84)\n",
            "Collecting ultralytics\n",
            "  Downloading ultralytics-8.3.62-py3-none-any.whl.metadata (35 kB)\n",
            "Requirement already satisfied: numpy>=1.21.2 in /usr/local/lib/python3.10/dist-packages (from opencv-python) (1.26.4)\n",
            "Requirement already satisfied: matplotlib>=3.3.0 in /usr/local/lib/python3.10/dist-packages (from ultralytics) (3.8.0)\n",
            "Requirement already satisfied: pillow>=7.1.2 in /usr/local/lib/python3.10/dist-packages (from ultralytics) (11.0.0)\n",
            "Requirement already satisfied: pyyaml>=5.3.1 in /usr/local/lib/python3.10/dist-packages (from ultralytics) (6.0.2)\n",
            "Requirement already satisfied: requests>=2.23.0 in /usr/local/lib/python3.10/dist-packages (from ultralytics) (2.32.3)\n",
            "Requirement already satisfied: scipy>=1.4.1 in /usr/local/lib/python3.10/dist-packages (from ultralytics) (1.13.1)\n",
            "Requirement already satisfied: torch>=1.8.0 in /usr/local/lib/python3.10/dist-packages (from ultralytics) (2.5.1+cu121)\n",
            "Requirement already satisfied: torchvision>=0.9.0 in /usr/local/lib/python3.10/dist-packages (from ultralytics) (0.20.1+cu121)\n",
            "Requirement already satisfied: tqdm>=4.64.0 in /usr/local/lib/python3.10/dist-packages (from ultralytics) (4.67.1)\n",
            "Requirement already satisfied: psutil in /usr/local/lib/python3.10/dist-packages (from ultralytics) (5.9.5)\n",
            "Requirement already satisfied: py-cpuinfo in /usr/local/lib/python3.10/dist-packages (from ultralytics) (9.0.0)\n",
            "Requirement already satisfied: pandas>=1.1.4 in /usr/local/lib/python3.10/dist-packages (from ultralytics) (2.2.2)\n",
            "Requirement already satisfied: seaborn>=0.11.0 in /usr/local/lib/python3.10/dist-packages (from ultralytics) (0.13.2)\n",
            "Collecting ultralytics-thop>=2.0.0 (from ultralytics)\n",
            "  Downloading ultralytics_thop-2.0.14-py3-none-any.whl.metadata (9.4 kB)\n",
            "Requirement already satisfied: contourpy>=1.0.1 in /usr/local/lib/python3.10/dist-packages (from matplotlib>=3.3.0->ultralytics) (1.3.1)\n",
            "Requirement already satisfied: cycler>=0.10 in /usr/local/lib/python3.10/dist-packages (from matplotlib>=3.3.0->ultralytics) (0.12.1)\n",
            "Requirement already satisfied: fonttools>=4.22.0 in /usr/local/lib/python3.10/dist-packages (from matplotlib>=3.3.0->ultralytics) (4.55.3)\n",
            "Requirement already satisfied: kiwisolver>=1.0.1 in /usr/local/lib/python3.10/dist-packages (from matplotlib>=3.3.0->ultralytics) (1.4.7)\n",
            "Requirement already satisfied: packaging>=20.0 in /usr/local/lib/python3.10/dist-packages (from matplotlib>=3.3.0->ultralytics) (24.2)\n",
            "Requirement already satisfied: pyparsing>=2.3.1 in /usr/local/lib/python3.10/dist-packages (from matplotlib>=3.3.0->ultralytics) (3.2.0)\n",
            "Requirement already satisfied: python-dateutil>=2.7 in /usr/local/lib/python3.10/dist-packages (from matplotlib>=3.3.0->ultralytics) (2.8.2)\n",
            "Requirement already satisfied: pytz>=2020.1 in /usr/local/lib/python3.10/dist-packages (from pandas>=1.1.4->ultralytics) (2024.2)\n",
            "Requirement already satisfied: tzdata>=2022.7 in /usr/local/lib/python3.10/dist-packages (from pandas>=1.1.4->ultralytics) (2024.2)\n",
            "Requirement already satisfied: charset-normalizer<4,>=2 in /usr/local/lib/python3.10/dist-packages (from requests>=2.23.0->ultralytics) (3.4.0)\n",
            "Requirement already satisfied: idna<4,>=2.5 in /usr/local/lib/python3.10/dist-packages (from requests>=2.23.0->ultralytics) (3.10)\n",
            "Requirement already satisfied: urllib3<3,>=1.21.1 in /usr/local/lib/python3.10/dist-packages (from requests>=2.23.0->ultralytics) (2.2.3)\n",
            "Requirement already satisfied: certifi>=2017.4.17 in /usr/local/lib/python3.10/dist-packages (from requests>=2.23.0->ultralytics) (2024.12.14)\n",
            "Requirement already satisfied: filelock in /usr/local/lib/python3.10/dist-packages (from torch>=1.8.0->ultralytics) (3.16.1)\n",
            "Requirement already satisfied: typing-extensions>=4.8.0 in /usr/local/lib/python3.10/dist-packages (from torch>=1.8.0->ultralytics) (4.12.2)\n",
            "Requirement already satisfied: networkx in /usr/local/lib/python3.10/dist-packages (from torch>=1.8.0->ultralytics) (3.4.2)\n",
            "Requirement already satisfied: jinja2 in /usr/local/lib/python3.10/dist-packages (from torch>=1.8.0->ultralytics) (3.1.4)\n",
            "Requirement already satisfied: fsspec in /usr/local/lib/python3.10/dist-packages (from torch>=1.8.0->ultralytics) (2024.10.0)\n",
            "Requirement already satisfied: sympy==1.13.1 in /usr/local/lib/python3.10/dist-packages (from torch>=1.8.0->ultralytics) (1.13.1)\n",
            "Requirement already satisfied: mpmath<1.4,>=1.1.0 in /usr/local/lib/python3.10/dist-packages (from sympy==1.13.1->torch>=1.8.0->ultralytics) (1.3.0)\n",
            "Requirement already satisfied: six>=1.5 in /usr/local/lib/python3.10/dist-packages (from python-dateutil>=2.7->matplotlib>=3.3.0->ultralytics) (1.17.0)\n",
            "Requirement already satisfied: MarkupSafe>=2.0 in /usr/local/lib/python3.10/dist-packages (from jinja2->torch>=1.8.0->ultralytics) (3.0.2)\n",
            "Downloading ultralytics-8.3.62-py3-none-any.whl (910 kB)\n",
            "\u001b[2K   \u001b[90m━━━━━━━━━━━━━━━━━━━━━━━━━━━━━━━━━━━━━━━━\u001b[0m \u001b[32m910.1/910.1 kB\u001b[0m \u001b[31m14.2 MB/s\u001b[0m eta \u001b[36m0:00:00\u001b[0m\n",
            "\u001b[?25hDownloading ultralytics_thop-2.0.14-py3-none-any.whl (26 kB)\n",
            "Installing collected packages: ultralytics-thop, ultralytics\n",
            "Successfully installed ultralytics-8.3.62 ultralytics-thop-2.0.14\n"
          ]
        }
      ],
      "source": [
        "!pip install opencv-python ultralytics"
      ]
    },
    {
      "cell_type": "code",
      "execution_count": null,
      "metadata": {
        "colab": {
          "base_uri": "https://localhost:8080/"
        },
        "id": "S6JGkZep8_8v",
        "outputId": "1d44c77d-753b-429c-b1dd-b2e0c8252192"
      },
      "outputs": [
        {
          "output_type": "stream",
          "name": "stdout",
          "text": [
            "Creating new Ultralytics Settings v0.0.6 file ✅ \n",
            "View Ultralytics Settings with 'yolo settings' or at '/root/.config/Ultralytics/settings.json'\n",
            "Update Settings with 'yolo settings key=value', i.e. 'yolo settings runs_dir=path/to/dir'. For help see https://docs.ultralytics.com/quickstart/#ultralytics-settings.\n"
          ]
        }
      ],
      "source": [
        "import cv2\n",
        "from ultralytics import YOLO"
      ]
    },
    {
      "cell_type": "code",
      "execution_count": null,
      "metadata": {
        "colab": {
          "base_uri": "https://localhost:8080/"
        },
        "id": "R726hiqLMLPO",
        "outputId": "5cd80df0-9e6a-4987-f9fd-9022cf1e30a0"
      },
      "outputs": [
        {
          "output_type": "stream",
          "name": "stdout",
          "text": [
            "Downloading https://github.com/ultralytics/assets/releases/download/v8.3.0/yolo11n.pt to 'yolo11n.pt'...\n"
          ]
        },
        {
          "output_type": "stream",
          "name": "stderr",
          "text": [
            "100%|██████████| 5.35M/5.35M [00:00<00:00, 362MB/s]"
          ]
        },
        {
          "output_type": "stream",
          "name": "stdout",
          "text": [
            "Ultralytics 8.3.59 🚀 Python-3.10.12 torch-2.5.1+cu121 CUDA:0 (Tesla T4, 15102MiB)\n"
          ]
        },
        {
          "output_type": "stream",
          "name": "stderr",
          "text": [
            "\n"
          ]
        },
        {
          "output_type": "stream",
          "name": "stdout",
          "text": [
            "\u001b[34m\u001b[1mengine/trainer: \u001b[0mtask=detect, mode=train, model=yolo11n.pt, data=/content/drive/MyDrive/yolov11/dataset/unet_dataset_640/data.yaml, epochs=100, time=None, patience=100, batch=16, imgsz=640, save=True, save_period=-1, cache=False, device=None, workers=8, project=/content/drive/MyDrive/yolov11/runs/, name=experiment_unet2, exist_ok=False, pretrained=True, optimizer=auto, verbose=True, seed=0, deterministic=True, single_cls=False, rect=False, cos_lr=False, close_mosaic=10, resume=False, amp=True, fraction=1.0, profile=False, freeze=None, multi_scale=False, overlap_mask=True, mask_ratio=4, dropout=0.0, val=True, split=val, save_json=False, save_hybrid=False, conf=None, iou=0.7, max_det=300, half=False, dnn=False, plots=True, source=None, vid_stride=1, stream_buffer=False, visualize=False, augment=False, agnostic_nms=False, classes=None, retina_masks=False, embed=None, show=False, save_frames=False, save_txt=False, save_conf=False, save_crop=False, show_labels=True, show_conf=True, show_boxes=True, line_width=None, format=torchscript, keras=False, optimize=False, int8=False, dynamic=False, simplify=True, opset=None, workspace=None, nms=False, lr0=0.01, lrf=0.01, momentum=0.937, weight_decay=0.0005, warmup_epochs=3.0, warmup_momentum=0.8, warmup_bias_lr=0.1, box=7.5, cls=0.5, dfl=1.5, pose=12.0, kobj=1.0, nbs=64, hsv_h=0.015, hsv_s=0.7, hsv_v=0.4, degrees=0.0, translate=0.1, scale=0.5, shear=0.0, perspective=0.0, flipud=0.0, fliplr=0.5, bgr=0.0, mosaic=1.0, mixup=0.0, copy_paste=0.0, copy_paste_mode=flip, auto_augment=randaugment, erasing=0.4, crop_fraction=1.0, cfg=None, tracker=botsort.yaml, save_dir=/content/drive/MyDrive/yolov11/runs/experiment_unet2\n",
            "Downloading https://ultralytics.com/assets/Arial.ttf to '/root/.config/Ultralytics/Arial.ttf'...\n"
          ]
        },
        {
          "output_type": "stream",
          "name": "stderr",
          "text": [
            "100%|██████████| 755k/755k [00:00<00:00, 133MB/s]\n"
          ]
        },
        {
          "output_type": "stream",
          "name": "stdout",
          "text": [
            "Overriding model.yaml nc=80 with nc=1\n",
            "\n",
            "                   from  n    params  module                                       arguments                     \n",
            "  0                  -1  1       464  ultralytics.nn.modules.conv.Conv             [3, 16, 3, 2]                 \n",
            "  1                  -1  1      4672  ultralytics.nn.modules.conv.Conv             [16, 32, 3, 2]                \n",
            "  2                  -1  1      6640  ultralytics.nn.modules.block.C3k2            [32, 64, 1, False, 0.25]      \n",
            "  3                  -1  1     36992  ultralytics.nn.modules.conv.Conv             [64, 64, 3, 2]                \n",
            "  4                  -1  1     26080  ultralytics.nn.modules.block.C3k2            [64, 128, 1, False, 0.25]     \n",
            "  5                  -1  1    147712  ultralytics.nn.modules.conv.Conv             [128, 128, 3, 2]              \n",
            "  6                  -1  1     87040  ultralytics.nn.modules.block.C3k2            [128, 128, 1, True]           \n",
            "  7                  -1  1    295424  ultralytics.nn.modules.conv.Conv             [128, 256, 3, 2]              \n",
            "  8                  -1  1    346112  ultralytics.nn.modules.block.C3k2            [256, 256, 1, True]           \n",
            "  9                  -1  1    164608  ultralytics.nn.modules.block.SPPF            [256, 256, 5]                 \n",
            " 10                  -1  1    249728  ultralytics.nn.modules.block.C2PSA           [256, 256, 1]                 \n",
            " 11                  -1  1         0  torch.nn.modules.upsampling.Upsample         [None, 2, 'nearest']          \n",
            " 12             [-1, 6]  1         0  ultralytics.nn.modules.conv.Concat           [1]                           \n",
            " 13                  -1  1    111296  ultralytics.nn.modules.block.C3k2            [384, 128, 1, False]          \n",
            " 14                  -1  1         0  torch.nn.modules.upsampling.Upsample         [None, 2, 'nearest']          \n",
            " 15             [-1, 4]  1         0  ultralytics.nn.modules.conv.Concat           [1]                           \n",
            " 16                  -1  1     32096  ultralytics.nn.modules.block.C3k2            [256, 64, 1, False]           \n",
            " 17                  -1  1     36992  ultralytics.nn.modules.conv.Conv             [64, 64, 3, 2]                \n",
            " 18            [-1, 13]  1         0  ultralytics.nn.modules.conv.Concat           [1]                           \n",
            " 19                  -1  1     86720  ultralytics.nn.modules.block.C3k2            [192, 128, 1, False]          \n",
            " 20                  -1  1    147712  ultralytics.nn.modules.conv.Conv             [128, 128, 3, 2]              \n",
            " 21            [-1, 10]  1         0  ultralytics.nn.modules.conv.Concat           [1]                           \n",
            " 22                  -1  1    378880  ultralytics.nn.modules.block.C3k2            [384, 256, 1, True]           \n",
            " 23        [16, 19, 22]  1    430867  ultralytics.nn.modules.head.Detect           [1, [64, 128, 256]]           \n",
            "YOLO11n summary: 319 layers, 2,590,035 parameters, 2,590,019 gradients, 6.4 GFLOPs\n",
            "\n",
            "Transferred 448/499 items from pretrained weights\n",
            "\u001b[34m\u001b[1mTensorBoard: \u001b[0mStart with 'tensorboard --logdir /content/drive/MyDrive/yolov11/runs/experiment_unet2', view at http://localhost:6006/\n",
            "Freezing layer 'model.23.dfl.conv.weight'\n",
            "\u001b[34m\u001b[1mAMP: \u001b[0mrunning Automatic Mixed Precision (AMP) checks...\n",
            "\u001b[34m\u001b[1mAMP: \u001b[0mchecks passed ✅\n"
          ]
        },
        {
          "output_type": "stream",
          "name": "stderr",
          "text": [
            "\u001b[34m\u001b[1mtrain: \u001b[0mScanning /content/drive/MyDrive/yolov11/dataset/unet_dataset_640/labels/train.cache... 2021 images, 0 backgrounds, 0 corrupt: 100%|██████████| 2021/2021 [00:00<?, ?it/s]\n"
          ]
        },
        {
          "output_type": "stream",
          "name": "stdout",
          "text": [
            "\u001b[34m\u001b[1malbumentations: \u001b[0mBlur(p=0.01, blur_limit=(3, 7)), MedianBlur(p=0.01, blur_limit=(3, 7)), ToGray(p=0.01, num_output_channels=3, method='weighted_average'), CLAHE(p=0.01, clip_limit=(1.0, 4.0), tile_grid_size=(8, 8))\n"
          ]
        },
        {
          "output_type": "stream",
          "name": "stderr",
          "text": [
            "/usr/local/lib/python3.10/dist-packages/albumentations/__init__.py:24: UserWarning: A new version of Albumentations is available: 2.0.0 (you have 1.4.20). Upgrade using: pip install -U albumentations. To disable automatic update checks, set the environment variable NO_ALBUMENTATIONS_UPDATE to 1.\n",
            "  check_for_updates()\n",
            "\u001b[34m\u001b[1mval: \u001b[0mScanning /content/drive/MyDrive/yolov11/dataset/unet_dataset_640/labels/val.cache... 578 images, 0 backgrounds, 0 corrupt: 100%|██████████| 578/578 [00:00<?, ?it/s]\n"
          ]
        },
        {
          "output_type": "stream",
          "name": "stdout",
          "text": [
            "Plotting labels to /content/drive/MyDrive/yolov11/runs/experiment_unet2/labels.jpg... \n",
            "\u001b[34m\u001b[1moptimizer:\u001b[0m 'optimizer=auto' found, ignoring 'lr0=0.01' and 'momentum=0.937' and determining best 'optimizer', 'lr0' and 'momentum' automatically... \n",
            "\u001b[34m\u001b[1moptimizer:\u001b[0m AdamW(lr=0.002, momentum=0.9) with parameter groups 81 weight(decay=0.0), 88 weight(decay=0.0005), 87 bias(decay=0.0)\n",
            "\u001b[34m\u001b[1mTensorBoard: \u001b[0mmodel graph visualization added ✅\n",
            "Image sizes 640 train, 640 val\n",
            "Using 8 dataloader workers\n",
            "Logging results to \u001b[1m/content/drive/MyDrive/yolov11/runs/experiment_unet2\u001b[0m\n",
            "Starting training for 100 epochs...\n",
            "\n",
            "      Epoch    GPU_mem   box_loss   cls_loss   dfl_loss  Instances       Size\n"
          ]
        },
        {
          "output_type": "stream",
          "name": "stderr",
          "text": [
            "      1/100      2.38G     0.9259      1.418     0.9037         24        640: 100%|██████████| 127/127 [00:27<00:00,  4.55it/s]\n",
            "                 Class     Images  Instances      Box(P          R      mAP50  mAP50-95): 100%|██████████| 19/19 [00:37<00:00,  1.99s/it]\n"
          ]
        },
        {
          "output_type": "stream",
          "name": "stdout",
          "text": [
            "                   all        578       1784       0.97      0.963      0.982      0.825\n",
            "\n",
            "      Epoch    GPU_mem   box_loss   cls_loss   dfl_loss  Instances       Size\n"
          ]
        },
        {
          "output_type": "stream",
          "name": "stderr",
          "text": [
            "      2/100      2.44G      0.676     0.7309     0.8384          7        640: 100%|██████████| 127/127 [00:21<00:00,  6.03it/s]\n",
            "                 Class     Images  Instances      Box(P          R      mAP50  mAP50-95): 100%|██████████| 19/19 [00:03<00:00,  4.99it/s]"
          ]
        },
        {
          "output_type": "stream",
          "name": "stdout",
          "text": [
            "                   all        578       1784      0.976      0.961      0.976      0.801\n"
          ]
        },
        {
          "output_type": "stream",
          "name": "stderr",
          "text": [
            "\n"
          ]
        },
        {
          "output_type": "stream",
          "name": "stdout",
          "text": [
            "\n",
            "      Epoch    GPU_mem   box_loss   cls_loss   dfl_loss  Instances       Size\n"
          ]
        },
        {
          "output_type": "stream",
          "name": "stderr",
          "text": [
            "      3/100      2.44G      0.636     0.5942     0.8351         23        640: 100%|██████████| 127/127 [00:21<00:00,  6.05it/s]\n",
            "                 Class     Images  Instances      Box(P          R      mAP50  mAP50-95): 100%|██████████| 19/19 [00:03<00:00,  5.15it/s]"
          ]
        },
        {
          "output_type": "stream",
          "name": "stdout",
          "text": [
            "                   all        578       1784      0.978      0.972      0.981      0.852\n"
          ]
        },
        {
          "output_type": "stream",
          "name": "stderr",
          "text": [
            "\n"
          ]
        },
        {
          "output_type": "stream",
          "name": "stdout",
          "text": [
            "\n",
            "      Epoch    GPU_mem   box_loss   cls_loss   dfl_loss  Instances       Size\n"
          ]
        },
        {
          "output_type": "stream",
          "name": "stderr",
          "text": [
            "      4/100      2.44G     0.5958     0.5023     0.8274         30        640: 100%|██████████| 127/127 [00:20<00:00,  6.11it/s]\n",
            "                 Class     Images  Instances      Box(P          R      mAP50  mAP50-95): 100%|██████████| 19/19 [00:03<00:00,  5.11it/s]"
          ]
        },
        {
          "output_type": "stream",
          "name": "stdout",
          "text": [
            "                   all        578       1784      0.974      0.973      0.983      0.878\n"
          ]
        },
        {
          "output_type": "stream",
          "name": "stderr",
          "text": [
            "\n"
          ]
        },
        {
          "output_type": "stream",
          "name": "stdout",
          "text": [
            "\n",
            "      Epoch    GPU_mem   box_loss   cls_loss   dfl_loss  Instances       Size\n"
          ]
        },
        {
          "output_type": "stream",
          "name": "stderr",
          "text": [
            "      5/100      2.45G     0.5801     0.4606     0.8227         15        640: 100%|██████████| 127/127 [00:20<00:00,  6.19it/s]\n",
            "                 Class     Images  Instances      Box(P          R      mAP50  mAP50-95): 100%|██████████| 19/19 [00:03<00:00,  5.41it/s]"
          ]
        },
        {
          "output_type": "stream",
          "name": "stdout",
          "text": [
            "                   all        578       1784       0.98      0.978      0.985      0.851\n"
          ]
        },
        {
          "output_type": "stream",
          "name": "stderr",
          "text": [
            "\n"
          ]
        },
        {
          "output_type": "stream",
          "name": "stdout",
          "text": [
            "\n",
            "      Epoch    GPU_mem   box_loss   cls_loss   dfl_loss  Instances       Size\n"
          ]
        },
        {
          "output_type": "stream",
          "name": "stderr",
          "text": [
            "      6/100      2.44G     0.5595     0.4361     0.8229         21        640: 100%|██████████| 127/127 [00:20<00:00,  6.20it/s]\n",
            "                 Class     Images  Instances      Box(P          R      mAP50  mAP50-95): 100%|██████████| 19/19 [00:03<00:00,  5.06it/s]"
          ]
        },
        {
          "output_type": "stream",
          "name": "stdout",
          "text": [
            "                   all        578       1784      0.973      0.979      0.986      0.876\n"
          ]
        },
        {
          "output_type": "stream",
          "name": "stderr",
          "text": [
            "\n"
          ]
        },
        {
          "output_type": "stream",
          "name": "stdout",
          "text": [
            "\n",
            "      Epoch    GPU_mem   box_loss   cls_loss   dfl_loss  Instances       Size\n"
          ]
        },
        {
          "output_type": "stream",
          "name": "stderr",
          "text": [
            "      7/100      2.44G     0.5327     0.4143      0.813         35        640: 100%|██████████| 127/127 [00:20<00:00,  6.17it/s]\n",
            "                 Class     Images  Instances      Box(P          R      mAP50  mAP50-95): 100%|██████████| 19/19 [00:03<00:00,  5.41it/s]"
          ]
        },
        {
          "output_type": "stream",
          "name": "stdout",
          "text": [
            "                   all        578       1784      0.983      0.971      0.985      0.906\n"
          ]
        },
        {
          "output_type": "stream",
          "name": "stderr",
          "text": [
            "\n"
          ]
        },
        {
          "output_type": "stream",
          "name": "stdout",
          "text": [
            "\n",
            "      Epoch    GPU_mem   box_loss   cls_loss   dfl_loss  Instances       Size\n"
          ]
        },
        {
          "output_type": "stream",
          "name": "stderr",
          "text": [
            "      8/100      2.45G      0.521     0.3986     0.8176         19        640: 100%|██████████| 127/127 [00:20<00:00,  6.18it/s]\n",
            "                 Class     Images  Instances      Box(P          R      mAP50  mAP50-95): 100%|██████████| 19/19 [00:03<00:00,  5.14it/s]"
          ]
        },
        {
          "output_type": "stream",
          "name": "stdout",
          "text": [
            "                   all        578       1784      0.982      0.974      0.985      0.895\n"
          ]
        },
        {
          "output_type": "stream",
          "name": "stderr",
          "text": [
            "\n"
          ]
        },
        {
          "output_type": "stream",
          "name": "stdout",
          "text": [
            "\n",
            "      Epoch    GPU_mem   box_loss   cls_loss   dfl_loss  Instances       Size\n"
          ]
        },
        {
          "output_type": "stream",
          "name": "stderr",
          "text": [
            "      9/100      2.45G     0.5029     0.3875     0.8141         18        640: 100%|██████████| 127/127 [00:20<00:00,  6.21it/s]\n",
            "                 Class     Images  Instances      Box(P          R      mAP50  mAP50-95): 100%|██████████| 19/19 [00:03<00:00,  5.42it/s]"
          ]
        },
        {
          "output_type": "stream",
          "name": "stdout",
          "text": [
            "                   all        578       1784      0.982      0.976      0.986      0.906\n"
          ]
        },
        {
          "output_type": "stream",
          "name": "stderr",
          "text": [
            "\n"
          ]
        },
        {
          "output_type": "stream",
          "name": "stdout",
          "text": [
            "\n",
            "      Epoch    GPU_mem   box_loss   cls_loss   dfl_loss  Instances       Size\n"
          ]
        },
        {
          "output_type": "stream",
          "name": "stderr",
          "text": [
            "     10/100      2.45G     0.5078     0.3812     0.8139         16        640: 100%|██████████| 127/127 [00:20<00:00,  6.16it/s]\n",
            "                 Class     Images  Instances      Box(P          R      mAP50  mAP50-95): 100%|██████████| 19/19 [00:03<00:00,  5.15it/s]"
          ]
        },
        {
          "output_type": "stream",
          "name": "stdout",
          "text": [
            "                   all        578       1784      0.987      0.979      0.986      0.923\n"
          ]
        },
        {
          "output_type": "stream",
          "name": "stderr",
          "text": [
            "\n"
          ]
        },
        {
          "output_type": "stream",
          "name": "stdout",
          "text": [
            "\n",
            "      Epoch    GPU_mem   box_loss   cls_loss   dfl_loss  Instances       Size\n"
          ]
        },
        {
          "output_type": "stream",
          "name": "stderr",
          "text": [
            "     11/100      2.44G     0.4796     0.3672     0.8103         13        640: 100%|██████████| 127/127 [00:20<00:00,  6.17it/s]\n",
            "                 Class     Images  Instances      Box(P          R      mAP50  mAP50-95): 100%|██████████| 19/19 [00:03<00:00,  5.50it/s]"
          ]
        },
        {
          "output_type": "stream",
          "name": "stdout",
          "text": [
            "                   all        578       1784      0.973      0.964      0.983      0.902\n"
          ]
        },
        {
          "output_type": "stream",
          "name": "stderr",
          "text": [
            "\n"
          ]
        },
        {
          "output_type": "stream",
          "name": "stdout",
          "text": [
            "\n",
            "      Epoch    GPU_mem   box_loss   cls_loss   dfl_loss  Instances       Size\n"
          ]
        },
        {
          "output_type": "stream",
          "name": "stderr",
          "text": [
            "     12/100      2.45G     0.4814     0.3621      0.812         29        640: 100%|██████████| 127/127 [00:20<00:00,  6.16it/s]\n",
            "                 Class     Images  Instances      Box(P          R      mAP50  mAP50-95): 100%|██████████| 19/19 [00:03<00:00,  5.31it/s]"
          ]
        },
        {
          "output_type": "stream",
          "name": "stdout",
          "text": [
            "                   all        578       1784      0.981      0.978      0.986        0.9\n"
          ]
        },
        {
          "output_type": "stream",
          "name": "stderr",
          "text": [
            "\n"
          ]
        },
        {
          "output_type": "stream",
          "name": "stdout",
          "text": [
            "\n",
            "      Epoch    GPU_mem   box_loss   cls_loss   dfl_loss  Instances       Size\n"
          ]
        },
        {
          "output_type": "stream",
          "name": "stderr",
          "text": [
            "     13/100      2.42G      0.463     0.3551     0.8072         22        640: 100%|██████████| 127/127 [00:20<00:00,  6.20it/s]\n",
            "                 Class     Images  Instances      Box(P          R      mAP50  mAP50-95): 100%|██████████| 19/19 [00:03<00:00,  5.29it/s]"
          ]
        },
        {
          "output_type": "stream",
          "name": "stdout",
          "text": [
            "                   all        578       1784      0.982      0.978      0.985      0.917\n"
          ]
        },
        {
          "output_type": "stream",
          "name": "stderr",
          "text": [
            "\n"
          ]
        },
        {
          "output_type": "stream",
          "name": "stdout",
          "text": [
            "\n",
            "      Epoch    GPU_mem   box_loss   cls_loss   dfl_loss  Instances       Size\n"
          ]
        },
        {
          "output_type": "stream",
          "name": "stderr",
          "text": [
            "     14/100      2.44G     0.4711     0.3496     0.8081         23        640: 100%|██████████| 127/127 [00:20<00:00,  6.15it/s]\n",
            "                 Class     Images  Instances      Box(P          R      mAP50  mAP50-95): 100%|██████████| 19/19 [00:03<00:00,  5.45it/s]"
          ]
        },
        {
          "output_type": "stream",
          "name": "stdout",
          "text": [
            "                   all        578       1784      0.984       0.98      0.986      0.921\n"
          ]
        },
        {
          "output_type": "stream",
          "name": "stderr",
          "text": [
            "\n"
          ]
        },
        {
          "output_type": "stream",
          "name": "stdout",
          "text": [
            "\n",
            "      Epoch    GPU_mem   box_loss   cls_loss   dfl_loss  Instances       Size\n"
          ]
        },
        {
          "output_type": "stream",
          "name": "stderr",
          "text": [
            "     15/100      2.43G      0.469      0.348     0.8085         11        640: 100%|██████████| 127/127 [00:20<00:00,  6.18it/s]\n",
            "                 Class     Images  Instances      Box(P          R      mAP50  mAP50-95): 100%|██████████| 19/19 [00:03<00:00,  5.17it/s]"
          ]
        },
        {
          "output_type": "stream",
          "name": "stdout",
          "text": [
            "                   all        578       1784      0.978       0.98      0.986      0.936\n"
          ]
        },
        {
          "output_type": "stream",
          "name": "stderr",
          "text": [
            "\n"
          ]
        },
        {
          "output_type": "stream",
          "name": "stdout",
          "text": [
            "\n",
            "      Epoch    GPU_mem   box_loss   cls_loss   dfl_loss  Instances       Size\n"
          ]
        },
        {
          "output_type": "stream",
          "name": "stderr",
          "text": [
            "     16/100      2.44G      0.451     0.3386     0.8072         27        640: 100%|██████████| 127/127 [00:20<00:00,  6.19it/s]\n",
            "                 Class     Images  Instances      Box(P          R      mAP50  mAP50-95): 100%|██████████| 19/19 [00:03<00:00,  5.42it/s]"
          ]
        },
        {
          "output_type": "stream",
          "name": "stdout",
          "text": [
            "                   all        578       1784       0.98      0.982      0.986      0.915\n"
          ]
        },
        {
          "output_type": "stream",
          "name": "stderr",
          "text": [
            "\n"
          ]
        },
        {
          "output_type": "stream",
          "name": "stdout",
          "text": [
            "\n",
            "      Epoch    GPU_mem   box_loss   cls_loss   dfl_loss  Instances       Size\n"
          ]
        },
        {
          "output_type": "stream",
          "name": "stderr",
          "text": [
            "     17/100      2.44G     0.4545     0.3397     0.8045         30        640: 100%|██████████| 127/127 [00:20<00:00,  6.24it/s]\n",
            "                 Class     Images  Instances      Box(P          R      mAP50  mAP50-95): 100%|██████████| 19/19 [00:03<00:00,  5.18it/s]"
          ]
        },
        {
          "output_type": "stream",
          "name": "stdout",
          "text": [
            "                   all        578       1784      0.985      0.983      0.987      0.933\n"
          ]
        },
        {
          "output_type": "stream",
          "name": "stderr",
          "text": [
            "\n"
          ]
        },
        {
          "output_type": "stream",
          "name": "stdout",
          "text": [
            "\n",
            "      Epoch    GPU_mem   box_loss   cls_loss   dfl_loss  Instances       Size\n"
          ]
        },
        {
          "output_type": "stream",
          "name": "stderr",
          "text": [
            "     18/100      2.44G     0.4454     0.3289     0.8074         26        640: 100%|██████████| 127/127 [00:20<00:00,  6.19it/s]\n",
            "                 Class     Images  Instances      Box(P          R      mAP50  mAP50-95): 100%|██████████| 19/19 [00:03<00:00,  5.30it/s]"
          ]
        },
        {
          "output_type": "stream",
          "name": "stdout",
          "text": [
            "                   all        578       1784      0.986      0.978      0.987      0.936\n"
          ]
        },
        {
          "output_type": "stream",
          "name": "stderr",
          "text": [
            "\n"
          ]
        },
        {
          "output_type": "stream",
          "name": "stdout",
          "text": [
            "\n",
            "      Epoch    GPU_mem   box_loss   cls_loss   dfl_loss  Instances       Size\n"
          ]
        },
        {
          "output_type": "stream",
          "name": "stderr",
          "text": [
            "     19/100      2.44G     0.4367     0.3252     0.8043         21        640: 100%|██████████| 127/127 [00:20<00:00,  6.20it/s]\n",
            "                 Class     Images  Instances      Box(P          R      mAP50  mAP50-95): 100%|██████████| 19/19 [00:03<00:00,  5.09it/s]"
          ]
        },
        {
          "output_type": "stream",
          "name": "stdout",
          "text": [
            "                   all        578       1784      0.983      0.981      0.985      0.919\n"
          ]
        },
        {
          "output_type": "stream",
          "name": "stderr",
          "text": [
            "\n"
          ]
        },
        {
          "output_type": "stream",
          "name": "stdout",
          "text": [
            "\n",
            "      Epoch    GPU_mem   box_loss   cls_loss   dfl_loss  Instances       Size\n"
          ]
        },
        {
          "output_type": "stream",
          "name": "stderr",
          "text": [
            "     20/100      2.47G     0.4396     0.3278     0.8042         11        640: 100%|██████████| 127/127 [00:20<00:00,  6.20it/s]\n",
            "                 Class     Images  Instances      Box(P          R      mAP50  mAP50-95): 100%|██████████| 19/19 [00:03<00:00,  5.40it/s]"
          ]
        },
        {
          "output_type": "stream",
          "name": "stdout",
          "text": [
            "                   all        578       1784      0.985      0.982      0.985      0.921\n"
          ]
        },
        {
          "output_type": "stream",
          "name": "stderr",
          "text": [
            "\n"
          ]
        },
        {
          "output_type": "stream",
          "name": "stdout",
          "text": [
            "\n",
            "      Epoch    GPU_mem   box_loss   cls_loss   dfl_loss  Instances       Size\n"
          ]
        },
        {
          "output_type": "stream",
          "name": "stderr",
          "text": [
            "     21/100      2.42G     0.4449     0.3304     0.8064         35        640: 100%|██████████| 127/127 [00:20<00:00,  6.18it/s]\n",
            "                 Class     Images  Instances      Box(P          R      mAP50  mAP50-95): 100%|██████████| 19/19 [00:03<00:00,  5.23it/s]"
          ]
        },
        {
          "output_type": "stream",
          "name": "stdout",
          "text": [
            "                   all        578       1784      0.983      0.978      0.986       0.92\n"
          ]
        },
        {
          "output_type": "stream",
          "name": "stderr",
          "text": [
            "\n"
          ]
        },
        {
          "output_type": "stream",
          "name": "stdout",
          "text": [
            "\n",
            "      Epoch    GPU_mem   box_loss   cls_loss   dfl_loss  Instances       Size\n"
          ]
        },
        {
          "output_type": "stream",
          "name": "stderr",
          "text": [
            "     22/100      2.44G      0.435     0.3181     0.8032         24        640: 100%|██████████| 127/127 [00:20<00:00,  6.22it/s]\n",
            "                 Class     Images  Instances      Box(P          R      mAP50  mAP50-95): 100%|██████████| 19/19 [00:03<00:00,  5.38it/s]"
          ]
        },
        {
          "output_type": "stream",
          "name": "stdout",
          "text": [
            "                   all        578       1784      0.984      0.976      0.988      0.937\n"
          ]
        },
        {
          "output_type": "stream",
          "name": "stderr",
          "text": [
            "\n"
          ]
        },
        {
          "output_type": "stream",
          "name": "stdout",
          "text": [
            "\n",
            "      Epoch    GPU_mem   box_loss   cls_loss   dfl_loss  Instances       Size\n"
          ]
        },
        {
          "output_type": "stream",
          "name": "stderr",
          "text": [
            "     23/100      2.44G     0.4235     0.3161     0.8029         18        640: 100%|██████████| 127/127 [00:20<00:00,  6.18it/s]\n",
            "                 Class     Images  Instances      Box(P          R      mAP50  mAP50-95): 100%|██████████| 19/19 [00:03<00:00,  5.17it/s]"
          ]
        },
        {
          "output_type": "stream",
          "name": "stdout",
          "text": [
            "                   all        578       1784      0.988      0.974      0.987      0.936\n"
          ]
        },
        {
          "output_type": "stream",
          "name": "stderr",
          "text": [
            "\n"
          ]
        },
        {
          "output_type": "stream",
          "name": "stdout",
          "text": [
            "\n",
            "      Epoch    GPU_mem   box_loss   cls_loss   dfl_loss  Instances       Size\n"
          ]
        },
        {
          "output_type": "stream",
          "name": "stderr",
          "text": [
            "     24/100      2.44G     0.4316     0.3204     0.8035         24        640: 100%|██████████| 127/127 [00:20<00:00,  6.20it/s]\n",
            "                 Class     Images  Instances      Box(P          R      mAP50  mAP50-95): 100%|██████████| 19/19 [00:03<00:00,  5.40it/s]"
          ]
        },
        {
          "output_type": "stream",
          "name": "stdout",
          "text": [
            "                   all        578       1784      0.983      0.976      0.985       0.93\n"
          ]
        },
        {
          "output_type": "stream",
          "name": "stderr",
          "text": [
            "\n"
          ]
        },
        {
          "output_type": "stream",
          "name": "stdout",
          "text": [
            "\n",
            "      Epoch    GPU_mem   box_loss   cls_loss   dfl_loss  Instances       Size\n"
          ]
        },
        {
          "output_type": "stream",
          "name": "stderr",
          "text": [
            "     25/100      2.45G     0.4248     0.3134     0.8015         21        640: 100%|██████████| 127/127 [00:20<00:00,  6.19it/s]\n",
            "                 Class     Images  Instances      Box(P          R      mAP50  mAP50-95): 100%|██████████| 19/19 [00:03<00:00,  5.38it/s]"
          ]
        },
        {
          "output_type": "stream",
          "name": "stdout",
          "text": [
            "                   all        578       1784      0.987      0.978      0.987      0.941\n"
          ]
        },
        {
          "output_type": "stream",
          "name": "stderr",
          "text": [
            "\n"
          ]
        },
        {
          "output_type": "stream",
          "name": "stdout",
          "text": [
            "\n",
            "      Epoch    GPU_mem   box_loss   cls_loss   dfl_loss  Instances       Size\n"
          ]
        },
        {
          "output_type": "stream",
          "name": "stderr",
          "text": [
            "     26/100      2.45G     0.4245     0.3092     0.8025         20        640: 100%|██████████| 127/127 [00:20<00:00,  6.18it/s]\n",
            "                 Class     Images  Instances      Box(P          R      mAP50  mAP50-95): 100%|██████████| 19/19 [00:03<00:00,  5.24it/s]"
          ]
        },
        {
          "output_type": "stream",
          "name": "stdout",
          "text": [
            "                   all        578       1784      0.982      0.978      0.985      0.932\n"
          ]
        },
        {
          "output_type": "stream",
          "name": "stderr",
          "text": [
            "\n"
          ]
        },
        {
          "output_type": "stream",
          "name": "stdout",
          "text": [
            "\n",
            "      Epoch    GPU_mem   box_loss   cls_loss   dfl_loss  Instances       Size\n"
          ]
        },
        {
          "output_type": "stream",
          "name": "stderr",
          "text": [
            "     27/100      2.44G     0.4124     0.3046     0.8005         24        640: 100%|██████████| 127/127 [00:20<00:00,  6.16it/s]\n",
            "                 Class     Images  Instances      Box(P          R      mAP50  mAP50-95): 100%|██████████| 19/19 [00:03<00:00,  5.33it/s]"
          ]
        },
        {
          "output_type": "stream",
          "name": "stdout",
          "text": [
            "                   all        578       1784      0.986      0.979      0.986      0.937\n"
          ]
        },
        {
          "output_type": "stream",
          "name": "stderr",
          "text": [
            "\n"
          ]
        },
        {
          "output_type": "stream",
          "name": "stdout",
          "text": [
            "\n",
            "      Epoch    GPU_mem   box_loss   cls_loss   dfl_loss  Instances       Size\n"
          ]
        },
        {
          "output_type": "stream",
          "name": "stderr",
          "text": [
            "     28/100      2.45G     0.4245     0.3033     0.8017         22        640: 100%|██████████| 127/127 [00:20<00:00,  6.17it/s]\n",
            "                 Class     Images  Instances      Box(P          R      mAP50  mAP50-95): 100%|██████████| 19/19 [00:03<00:00,  5.20it/s]"
          ]
        },
        {
          "output_type": "stream",
          "name": "stdout",
          "text": [
            "                   all        578       1784      0.982       0.98      0.987      0.937\n"
          ]
        },
        {
          "output_type": "stream",
          "name": "stderr",
          "text": [
            "\n"
          ]
        },
        {
          "output_type": "stream",
          "name": "stdout",
          "text": [
            "\n",
            "      Epoch    GPU_mem   box_loss   cls_loss   dfl_loss  Instances       Size\n"
          ]
        },
        {
          "output_type": "stream",
          "name": "stderr",
          "text": [
            "     29/100      2.44G     0.4124     0.3041      0.802         32        640: 100%|██████████| 127/127 [00:20<00:00,  6.23it/s]\n",
            "                 Class     Images  Instances      Box(P          R      mAP50  mAP50-95): 100%|██████████| 19/19 [00:03<00:00,  5.45it/s]"
          ]
        },
        {
          "output_type": "stream",
          "name": "stdout",
          "text": [
            "                   all        578       1784      0.987      0.978      0.984      0.911\n"
          ]
        },
        {
          "output_type": "stream",
          "name": "stderr",
          "text": [
            "\n"
          ]
        },
        {
          "output_type": "stream",
          "name": "stdout",
          "text": [
            "\n",
            "      Epoch    GPU_mem   box_loss   cls_loss   dfl_loss  Instances       Size\n"
          ]
        },
        {
          "output_type": "stream",
          "name": "stderr",
          "text": [
            "     30/100      2.45G       0.41     0.3017     0.8004         14        640: 100%|██████████| 127/127 [00:20<00:00,  6.21it/s]\n",
            "                 Class     Images  Instances      Box(P          R      mAP50  mAP50-95): 100%|██████████| 19/19 [00:03<00:00,  5.11it/s]"
          ]
        },
        {
          "output_type": "stream",
          "name": "stdout",
          "text": [
            "                   all        578       1784      0.985       0.98      0.985      0.942\n"
          ]
        },
        {
          "output_type": "stream",
          "name": "stderr",
          "text": [
            "\n"
          ]
        },
        {
          "output_type": "stream",
          "name": "stdout",
          "text": [
            "\n",
            "      Epoch    GPU_mem   box_loss   cls_loss   dfl_loss  Instances       Size\n"
          ]
        },
        {
          "output_type": "stream",
          "name": "stderr",
          "text": [
            "     31/100      2.43G      0.408     0.2972     0.8007         35        640: 100%|██████████| 127/127 [00:20<00:00,  6.18it/s]\n",
            "                 Class     Images  Instances      Box(P          R      mAP50  mAP50-95): 100%|██████████| 19/19 [00:03<00:00,  5.32it/s]"
          ]
        },
        {
          "output_type": "stream",
          "name": "stdout",
          "text": [
            "                   all        578       1784      0.982      0.982      0.986      0.926\n"
          ]
        },
        {
          "output_type": "stream",
          "name": "stderr",
          "text": [
            "\n"
          ]
        },
        {
          "output_type": "stream",
          "name": "stdout",
          "text": [
            "\n",
            "      Epoch    GPU_mem   box_loss   cls_loss   dfl_loss  Instances       Size\n"
          ]
        },
        {
          "output_type": "stream",
          "name": "stderr",
          "text": [
            "     32/100      2.44G     0.4155     0.2974     0.7995         20        640: 100%|██████████| 127/127 [00:20<00:00,  6.19it/s]\n",
            "                 Class     Images  Instances      Box(P          R      mAP50  mAP50-95): 100%|██████████| 19/19 [00:03<00:00,  5.11it/s]"
          ]
        },
        {
          "output_type": "stream",
          "name": "stdout",
          "text": [
            "                   all        578       1784      0.985      0.978      0.985      0.934\n"
          ]
        },
        {
          "output_type": "stream",
          "name": "stderr",
          "text": [
            "\n"
          ]
        },
        {
          "output_type": "stream",
          "name": "stdout",
          "text": [
            "\n",
            "      Epoch    GPU_mem   box_loss   cls_loss   dfl_loss  Instances       Size\n"
          ]
        },
        {
          "output_type": "stream",
          "name": "stderr",
          "text": [
            "     33/100      2.44G     0.4089     0.2966     0.7998         26        640: 100%|██████████| 127/127 [00:20<00:00,  6.23it/s]\n",
            "                 Class     Images  Instances      Box(P          R      mAP50  mAP50-95): 100%|██████████| 19/19 [00:03<00:00,  5.42it/s]"
          ]
        },
        {
          "output_type": "stream",
          "name": "stdout",
          "text": [
            "                   all        578       1784      0.988      0.977      0.986      0.939\n"
          ]
        },
        {
          "output_type": "stream",
          "name": "stderr",
          "text": [
            "\n"
          ]
        },
        {
          "output_type": "stream",
          "name": "stdout",
          "text": [
            "\n",
            "      Epoch    GPU_mem   box_loss   cls_loss   dfl_loss  Instances       Size\n"
          ]
        },
        {
          "output_type": "stream",
          "name": "stderr",
          "text": [
            "     34/100      2.45G      0.393     0.2872     0.7998         19        640: 100%|██████████| 127/127 [00:20<00:00,  6.20it/s]\n",
            "                 Class     Images  Instances      Box(P          R      mAP50  mAP50-95): 100%|██████████| 19/19 [00:03<00:00,  5.21it/s]"
          ]
        },
        {
          "output_type": "stream",
          "name": "stdout",
          "text": [
            "                   all        578       1784      0.988       0.98      0.986      0.946\n"
          ]
        },
        {
          "output_type": "stream",
          "name": "stderr",
          "text": [
            "\n"
          ]
        },
        {
          "output_type": "stream",
          "name": "stdout",
          "text": [
            "\n",
            "      Epoch    GPU_mem   box_loss   cls_loss   dfl_loss  Instances       Size\n"
          ]
        },
        {
          "output_type": "stream",
          "name": "stderr",
          "text": [
            "     35/100      2.43G     0.4009     0.2915      0.798         21        640: 100%|██████████| 127/127 [00:20<00:00,  6.23it/s]\n",
            "                 Class     Images  Instances      Box(P          R      mAP50  mAP50-95): 100%|██████████| 19/19 [00:03<00:00,  5.45it/s]"
          ]
        },
        {
          "output_type": "stream",
          "name": "stdout",
          "text": [
            "                   all        578       1784      0.983      0.984      0.986      0.942\n"
          ]
        },
        {
          "output_type": "stream",
          "name": "stderr",
          "text": [
            "\n"
          ]
        },
        {
          "output_type": "stream",
          "name": "stdout",
          "text": [
            "\n",
            "      Epoch    GPU_mem   box_loss   cls_loss   dfl_loss  Instances       Size\n"
          ]
        },
        {
          "output_type": "stream",
          "name": "stderr",
          "text": [
            "     36/100      2.45G     0.4005     0.2919     0.7985         35        640: 100%|██████████| 127/127 [00:20<00:00,  6.17it/s]\n",
            "                 Class     Images  Instances      Box(P          R      mAP50  mAP50-95): 100%|██████████| 19/19 [00:03<00:00,  5.43it/s]"
          ]
        },
        {
          "output_type": "stream",
          "name": "stdout",
          "text": [
            "                   all        578       1784      0.985      0.983      0.987       0.95\n"
          ]
        },
        {
          "output_type": "stream",
          "name": "stderr",
          "text": [
            "\n"
          ]
        },
        {
          "output_type": "stream",
          "name": "stdout",
          "text": [
            "\n",
            "      Epoch    GPU_mem   box_loss   cls_loss   dfl_loss  Instances       Size\n"
          ]
        },
        {
          "output_type": "stream",
          "name": "stderr",
          "text": [
            "     37/100      2.45G     0.3941      0.288     0.8013         14        640: 100%|██████████| 127/127 [00:20<00:00,  6.22it/s]\n",
            "                 Class     Images  Instances      Box(P          R      mAP50  mAP50-95): 100%|██████████| 19/19 [00:03<00:00,  5.38it/s]"
          ]
        },
        {
          "output_type": "stream",
          "name": "stdout",
          "text": [
            "                   all        578       1784      0.983      0.983      0.985      0.939\n"
          ]
        },
        {
          "output_type": "stream",
          "name": "stderr",
          "text": [
            "\n"
          ]
        },
        {
          "output_type": "stream",
          "name": "stdout",
          "text": [
            "\n",
            "      Epoch    GPU_mem   box_loss   cls_loss   dfl_loss  Instances       Size\n"
          ]
        },
        {
          "output_type": "stream",
          "name": "stderr",
          "text": [
            "     38/100      2.45G     0.4042     0.2937     0.7994         12        640: 100%|██████████| 127/127 [00:20<00:00,  6.17it/s]\n",
            "                 Class     Images  Instances      Box(P          R      mAP50  mAP50-95): 100%|██████████| 19/19 [00:03<00:00,  5.44it/s]"
          ]
        },
        {
          "output_type": "stream",
          "name": "stdout",
          "text": [
            "                   all        578       1784      0.988      0.983      0.986      0.942\n"
          ]
        },
        {
          "output_type": "stream",
          "name": "stderr",
          "text": [
            "\n"
          ]
        },
        {
          "output_type": "stream",
          "name": "stdout",
          "text": [
            "\n",
            "      Epoch    GPU_mem   box_loss   cls_loss   dfl_loss  Instances       Size\n"
          ]
        },
        {
          "output_type": "stream",
          "name": "stderr",
          "text": [
            "     39/100      2.44G     0.3825     0.2789     0.7957         19        640: 100%|██████████| 127/127 [00:20<00:00,  6.23it/s]\n",
            "                 Class     Images  Instances      Box(P          R      mAP50  mAP50-95): 100%|██████████| 19/19 [00:03<00:00,  5.27it/s]"
          ]
        },
        {
          "output_type": "stream",
          "name": "stdout",
          "text": [
            "                   all        578       1784      0.989      0.981      0.986      0.942\n"
          ]
        },
        {
          "output_type": "stream",
          "name": "stderr",
          "text": [
            "\n"
          ]
        },
        {
          "output_type": "stream",
          "name": "stdout",
          "text": [
            "\n",
            "      Epoch    GPU_mem   box_loss   cls_loss   dfl_loss  Instances       Size\n"
          ]
        },
        {
          "output_type": "stream",
          "name": "stderr",
          "text": [
            "     40/100      2.44G     0.3864     0.2777     0.7977         24        640: 100%|██████████| 127/127 [00:20<00:00,  6.19it/s]\n",
            "                 Class     Images  Instances      Box(P          R      mAP50  mAP50-95): 100%|██████████| 19/19 [00:03<00:00,  5.40it/s]"
          ]
        },
        {
          "output_type": "stream",
          "name": "stdout",
          "text": [
            "                   all        578       1784      0.983      0.983      0.986      0.943\n"
          ]
        },
        {
          "output_type": "stream",
          "name": "stderr",
          "text": [
            "\n"
          ]
        },
        {
          "output_type": "stream",
          "name": "stdout",
          "text": [
            "\n",
            "      Epoch    GPU_mem   box_loss   cls_loss   dfl_loss  Instances       Size\n"
          ]
        },
        {
          "output_type": "stream",
          "name": "stderr",
          "text": [
            "     41/100      2.47G     0.3919     0.2796      0.796         14        640: 100%|██████████| 127/127 [00:20<00:00,  6.22it/s]\n",
            "                 Class     Images  Instances      Box(P          R      mAP50  mAP50-95): 100%|██████████| 19/19 [00:03<00:00,  5.18it/s]"
          ]
        },
        {
          "output_type": "stream",
          "name": "stdout",
          "text": [
            "                   all        578       1784       0.99      0.981      0.986       0.95\n"
          ]
        },
        {
          "output_type": "stream",
          "name": "stderr",
          "text": [
            "\n"
          ]
        },
        {
          "output_type": "stream",
          "name": "stdout",
          "text": [
            "\n",
            "      Epoch    GPU_mem   box_loss   cls_loss   dfl_loss  Instances       Size\n"
          ]
        },
        {
          "output_type": "stream",
          "name": "stderr",
          "text": [
            "     42/100      2.44G     0.3903     0.2748     0.7973         29        640: 100%|██████████| 127/127 [00:20<00:00,  6.20it/s]\n",
            "                 Class     Images  Instances      Box(P          R      mAP50  mAP50-95): 100%|██████████| 19/19 [00:03<00:00,  5.48it/s]"
          ]
        },
        {
          "output_type": "stream",
          "name": "stdout",
          "text": [
            "                   all        578       1784      0.986       0.98      0.986      0.933\n"
          ]
        },
        {
          "output_type": "stream",
          "name": "stderr",
          "text": [
            "\n"
          ]
        },
        {
          "output_type": "stream",
          "name": "stdout",
          "text": [
            "\n",
            "      Epoch    GPU_mem   box_loss   cls_loss   dfl_loss  Instances       Size\n"
          ]
        },
        {
          "output_type": "stream",
          "name": "stderr",
          "text": [
            "     43/100      2.43G     0.3909     0.2798     0.7961         30        640: 100%|██████████| 127/127 [00:20<00:00,  6.16it/s]\n",
            "                 Class     Images  Instances      Box(P          R      mAP50  mAP50-95): 100%|██████████| 19/19 [00:03<00:00,  5.09it/s]"
          ]
        },
        {
          "output_type": "stream",
          "name": "stdout",
          "text": [
            "                   all        578       1784      0.987       0.98      0.986      0.943\n"
          ]
        },
        {
          "output_type": "stream",
          "name": "stderr",
          "text": [
            "\n"
          ]
        },
        {
          "output_type": "stream",
          "name": "stdout",
          "text": [
            "\n",
            "      Epoch    GPU_mem   box_loss   cls_loss   dfl_loss  Instances       Size\n"
          ]
        },
        {
          "output_type": "stream",
          "name": "stderr",
          "text": [
            "     44/100      2.45G     0.3901     0.2754     0.7982         35        640: 100%|██████████| 127/127 [00:20<00:00,  6.20it/s]\n",
            "                 Class     Images  Instances      Box(P          R      mAP50  mAP50-95): 100%|██████████| 19/19 [00:03<00:00,  5.37it/s]"
          ]
        },
        {
          "output_type": "stream",
          "name": "stdout",
          "text": [
            "                   all        578       1784      0.986      0.978      0.988      0.954\n"
          ]
        },
        {
          "output_type": "stream",
          "name": "stderr",
          "text": [
            "\n"
          ]
        },
        {
          "output_type": "stream",
          "name": "stdout",
          "text": [
            "\n",
            "      Epoch    GPU_mem   box_loss   cls_loss   dfl_loss  Instances       Size\n"
          ]
        },
        {
          "output_type": "stream",
          "name": "stderr",
          "text": [
            "     45/100      2.44G     0.3805     0.2742     0.8017         22        640: 100%|██████████| 127/127 [00:20<00:00,  6.20it/s]\n",
            "                 Class     Images  Instances      Box(P          R      mAP50  mAP50-95): 100%|██████████| 19/19 [00:03<00:00,  5.15it/s]"
          ]
        },
        {
          "output_type": "stream",
          "name": "stdout",
          "text": [
            "                   all        578       1784      0.989      0.981      0.987       0.95\n"
          ]
        },
        {
          "output_type": "stream",
          "name": "stderr",
          "text": [
            "\n"
          ]
        },
        {
          "output_type": "stream",
          "name": "stdout",
          "text": [
            "\n",
            "      Epoch    GPU_mem   box_loss   cls_loss   dfl_loss  Instances       Size\n"
          ]
        },
        {
          "output_type": "stream",
          "name": "stderr",
          "text": [
            "     46/100      2.44G     0.3766     0.2711     0.7941         17        640: 100%|██████████| 127/127 [00:20<00:00,  6.21it/s]\n",
            "                 Class     Images  Instances      Box(P          R      mAP50  mAP50-95): 100%|██████████| 19/19 [00:03<00:00,  5.39it/s]"
          ]
        },
        {
          "output_type": "stream",
          "name": "stdout",
          "text": [
            "                   all        578       1784      0.989      0.982      0.987      0.946\n"
          ]
        },
        {
          "output_type": "stream",
          "name": "stderr",
          "text": [
            "\n"
          ]
        },
        {
          "output_type": "stream",
          "name": "stdout",
          "text": [
            "\n",
            "      Epoch    GPU_mem   box_loss   cls_loss   dfl_loss  Instances       Size\n"
          ]
        },
        {
          "output_type": "stream",
          "name": "stderr",
          "text": [
            "     47/100      2.43G     0.3805     0.2733     0.7947         28        640: 100%|██████████| 127/127 [00:20<00:00,  6.17it/s]\n",
            "                 Class     Images  Instances      Box(P          R      mAP50  mAP50-95): 100%|██████████| 19/19 [00:03<00:00,  5.25it/s]"
          ]
        },
        {
          "output_type": "stream",
          "name": "stdout",
          "text": [
            "                   all        578       1784      0.988      0.983      0.987      0.943\n"
          ]
        },
        {
          "output_type": "stream",
          "name": "stderr",
          "text": [
            "\n"
          ]
        },
        {
          "output_type": "stream",
          "name": "stdout",
          "text": [
            "\n",
            "      Epoch    GPU_mem   box_loss   cls_loss   dfl_loss  Instances       Size\n"
          ]
        },
        {
          "output_type": "stream",
          "name": "stderr",
          "text": [
            "     48/100      2.44G     0.3796     0.2738     0.7986         33        640: 100%|██████████| 127/127 [00:20<00:00,  6.22it/s]\n",
            "                 Class     Images  Instances      Box(P          R      mAP50  mAP50-95): 100%|██████████| 19/19 [00:03<00:00,  5.41it/s]"
          ]
        },
        {
          "output_type": "stream",
          "name": "stdout",
          "text": [
            "                   all        578       1784      0.983      0.983      0.986      0.946\n"
          ]
        },
        {
          "output_type": "stream",
          "name": "stderr",
          "text": [
            "\n"
          ]
        },
        {
          "output_type": "stream",
          "name": "stdout",
          "text": [
            "\n",
            "      Epoch    GPU_mem   box_loss   cls_loss   dfl_loss  Instances       Size\n"
          ]
        },
        {
          "output_type": "stream",
          "name": "stderr",
          "text": [
            "     49/100      2.45G     0.3726     0.2692     0.7938         25        640: 100%|██████████| 127/127 [00:20<00:00,  6.19it/s]\n",
            "                 Class     Images  Instances      Box(P          R      mAP50  mAP50-95): 100%|██████████| 19/19 [00:03<00:00,  5.35it/s]"
          ]
        },
        {
          "output_type": "stream",
          "name": "stdout",
          "text": [
            "                   all        578       1784      0.989      0.979      0.988      0.951\n"
          ]
        },
        {
          "output_type": "stream",
          "name": "stderr",
          "text": [
            "\n"
          ]
        },
        {
          "output_type": "stream",
          "name": "stdout",
          "text": [
            "\n",
            "      Epoch    GPU_mem   box_loss   cls_loss   dfl_loss  Instances       Size\n"
          ]
        },
        {
          "output_type": "stream",
          "name": "stderr",
          "text": [
            "     50/100      2.47G     0.3749     0.2673     0.7975         29        640: 100%|██████████| 127/127 [00:20<00:00,  6.20it/s]\n",
            "                 Class     Images  Instances      Box(P          R      mAP50  mAP50-95): 100%|██████████| 19/19 [00:03<00:00,  5.23it/s]"
          ]
        },
        {
          "output_type": "stream",
          "name": "stdout",
          "text": [
            "                   all        578       1784      0.987       0.98      0.986      0.943\n"
          ]
        },
        {
          "output_type": "stream",
          "name": "stderr",
          "text": [
            "\n"
          ]
        },
        {
          "output_type": "stream",
          "name": "stdout",
          "text": [
            "\n",
            "      Epoch    GPU_mem   box_loss   cls_loss   dfl_loss  Instances       Size\n"
          ]
        },
        {
          "output_type": "stream",
          "name": "stderr",
          "text": [
            "     51/100      2.43G      0.375     0.2683     0.7943         29        640: 100%|██████████| 127/127 [00:20<00:00,  6.19it/s]\n",
            "                 Class     Images  Instances      Box(P          R      mAP50  mAP50-95): 100%|██████████| 19/19 [00:03<00:00,  5.44it/s]"
          ]
        },
        {
          "output_type": "stream",
          "name": "stdout",
          "text": [
            "                   all        578       1784      0.986      0.981      0.987      0.951\n"
          ]
        },
        {
          "output_type": "stream",
          "name": "stderr",
          "text": [
            "\n"
          ]
        },
        {
          "output_type": "stream",
          "name": "stdout",
          "text": [
            "\n",
            "      Epoch    GPU_mem   box_loss   cls_loss   dfl_loss  Instances       Size\n"
          ]
        },
        {
          "output_type": "stream",
          "name": "stderr",
          "text": [
            "     52/100      2.44G     0.3689     0.2679     0.7942         33        640: 100%|██████████| 127/127 [00:20<00:00,  6.21it/s]\n",
            "                 Class     Images  Instances      Box(P          R      mAP50  mAP50-95): 100%|██████████| 19/19 [00:03<00:00,  5.06it/s]"
          ]
        },
        {
          "output_type": "stream",
          "name": "stdout",
          "text": [
            "                   all        578       1784      0.989      0.983      0.988      0.949\n"
          ]
        },
        {
          "output_type": "stream",
          "name": "stderr",
          "text": [
            "\n"
          ]
        },
        {
          "output_type": "stream",
          "name": "stdout",
          "text": [
            "\n",
            "      Epoch    GPU_mem   box_loss   cls_loss   dfl_loss  Instances       Size\n"
          ]
        },
        {
          "output_type": "stream",
          "name": "stderr",
          "text": [
            "     53/100      2.44G     0.3836     0.2743     0.7986         24        640: 100%|██████████| 127/127 [00:20<00:00,  6.19it/s]\n",
            "                 Class     Images  Instances      Box(P          R      mAP50  mAP50-95): 100%|██████████| 19/19 [00:03<00:00,  5.44it/s]"
          ]
        },
        {
          "output_type": "stream",
          "name": "stdout",
          "text": [
            "                   all        578       1784      0.987      0.979      0.986      0.952\n"
          ]
        },
        {
          "output_type": "stream",
          "name": "stderr",
          "text": [
            "\n"
          ]
        },
        {
          "output_type": "stream",
          "name": "stdout",
          "text": [
            "\n",
            "      Epoch    GPU_mem   box_loss   cls_loss   dfl_loss  Instances       Size\n"
          ]
        },
        {
          "output_type": "stream",
          "name": "stderr",
          "text": [
            "     54/100      2.47G     0.3695     0.2626     0.7935         20        640: 100%|██████████| 127/127 [00:20<00:00,  6.21it/s]\n",
            "                 Class     Images  Instances      Box(P          R      mAP50  mAP50-95): 100%|██████████| 19/19 [00:03<00:00,  5.16it/s]"
          ]
        },
        {
          "output_type": "stream",
          "name": "stdout",
          "text": [
            "                   all        578       1784      0.988      0.981      0.987       0.95\n"
          ]
        },
        {
          "output_type": "stream",
          "name": "stderr",
          "text": [
            "\n"
          ]
        },
        {
          "output_type": "stream",
          "name": "stdout",
          "text": [
            "\n",
            "      Epoch    GPU_mem   box_loss   cls_loss   dfl_loss  Instances       Size\n"
          ]
        },
        {
          "output_type": "stream",
          "name": "stderr",
          "text": [
            "     55/100      2.44G     0.3588     0.2594     0.7938         19        640: 100%|██████████| 127/127 [00:20<00:00,  6.21it/s]\n",
            "                 Class     Images  Instances      Box(P          R      mAP50  mAP50-95): 100%|██████████| 19/19 [00:03<00:00,  5.27it/s]"
          ]
        },
        {
          "output_type": "stream",
          "name": "stdout",
          "text": [
            "                   all        578       1784      0.988      0.984      0.988      0.952\n"
          ]
        },
        {
          "output_type": "stream",
          "name": "stderr",
          "text": [
            "\n"
          ]
        },
        {
          "output_type": "stream",
          "name": "stdout",
          "text": [
            "\n",
            "      Epoch    GPU_mem   box_loss   cls_loss   dfl_loss  Instances       Size\n"
          ]
        },
        {
          "output_type": "stream",
          "name": "stderr",
          "text": [
            "     56/100      2.45G     0.3639     0.2581     0.7962         32        640: 100%|██████████| 127/127 [00:20<00:00,  6.06it/s]\n",
            "                 Class     Images  Instances      Box(P          R      mAP50  mAP50-95): 100%|██████████| 19/19 [00:03<00:00,  4.92it/s]"
          ]
        },
        {
          "output_type": "stream",
          "name": "stdout",
          "text": [
            "                   all        578       1784       0.99      0.982      0.988      0.952\n"
          ]
        },
        {
          "output_type": "stream",
          "name": "stderr",
          "text": [
            "\n"
          ]
        },
        {
          "output_type": "stream",
          "name": "stdout",
          "text": [
            "\n",
            "      Epoch    GPU_mem   box_loss   cls_loss   dfl_loss  Instances       Size\n"
          ]
        },
        {
          "output_type": "stream",
          "name": "stderr",
          "text": [
            "     57/100      2.44G     0.3671     0.2588     0.7948         31        640: 100%|██████████| 127/127 [00:20<00:00,  6.16it/s]\n",
            "                 Class     Images  Instances      Box(P          R      mAP50  mAP50-95): 100%|██████████| 19/19 [00:03<00:00,  5.46it/s]"
          ]
        },
        {
          "output_type": "stream",
          "name": "stdout",
          "text": [
            "                   all        578       1784      0.989      0.979      0.988      0.958\n"
          ]
        },
        {
          "output_type": "stream",
          "name": "stderr",
          "text": [
            "\n"
          ]
        },
        {
          "output_type": "stream",
          "name": "stdout",
          "text": [
            "\n",
            "      Epoch    GPU_mem   box_loss   cls_loss   dfl_loss  Instances       Size\n"
          ]
        },
        {
          "output_type": "stream",
          "name": "stderr",
          "text": [
            "     58/100      2.45G     0.3627     0.2568     0.7931         11        640: 100%|██████████| 127/127 [00:20<00:00,  6.18it/s]\n",
            "                 Class     Images  Instances      Box(P          R      mAP50  mAP50-95): 100%|██████████| 19/19 [00:03<00:00,  5.32it/s]"
          ]
        },
        {
          "output_type": "stream",
          "name": "stdout",
          "text": [
            "                   all        578       1784      0.988      0.984      0.986      0.945\n"
          ]
        },
        {
          "output_type": "stream",
          "name": "stderr",
          "text": [
            "\n"
          ]
        },
        {
          "output_type": "stream",
          "name": "stdout",
          "text": [
            "\n",
            "      Epoch    GPU_mem   box_loss   cls_loss   dfl_loss  Instances       Size\n"
          ]
        },
        {
          "output_type": "stream",
          "name": "stderr",
          "text": [
            "     59/100      2.44G     0.3576     0.2552     0.7933         20        640: 100%|██████████| 127/127 [00:20<00:00,  6.21it/s]\n",
            "                 Class     Images  Instances      Box(P          R      mAP50  mAP50-95): 100%|██████████| 19/19 [00:03<00:00,  5.46it/s]"
          ]
        },
        {
          "output_type": "stream",
          "name": "stdout",
          "text": [
            "                   all        578       1784      0.985      0.981      0.987      0.952\n"
          ]
        },
        {
          "output_type": "stream",
          "name": "stderr",
          "text": [
            "\n"
          ]
        },
        {
          "output_type": "stream",
          "name": "stdout",
          "text": [
            "\n",
            "      Epoch    GPU_mem   box_loss   cls_loss   dfl_loss  Instances       Size\n"
          ]
        },
        {
          "output_type": "stream",
          "name": "stderr",
          "text": [
            "     60/100      2.47G     0.3595     0.2548     0.7922         24        640: 100%|██████████| 127/127 [00:20<00:00,  6.15it/s]\n",
            "                 Class     Images  Instances      Box(P          R      mAP50  mAP50-95): 100%|██████████| 19/19 [00:03<00:00,  5.30it/s]"
          ]
        },
        {
          "output_type": "stream",
          "name": "stdout",
          "text": [
            "                   all        578       1784      0.986       0.98      0.987      0.949\n"
          ]
        },
        {
          "output_type": "stream",
          "name": "stderr",
          "text": [
            "\n"
          ]
        },
        {
          "output_type": "stream",
          "name": "stdout",
          "text": [
            "\n",
            "      Epoch    GPU_mem   box_loss   cls_loss   dfl_loss  Instances       Size\n"
          ]
        },
        {
          "output_type": "stream",
          "name": "stderr",
          "text": [
            "     61/100      2.45G     0.3597     0.2562     0.7955         21        640: 100%|██████████| 127/127 [00:20<00:00,  6.22it/s]\n",
            "                 Class     Images  Instances      Box(P          R      mAP50  mAP50-95): 100%|██████████| 19/19 [00:03<00:00,  5.28it/s]"
          ]
        },
        {
          "output_type": "stream",
          "name": "stdout",
          "text": [
            "                   all        578       1784      0.993      0.983      0.987      0.951\n"
          ]
        },
        {
          "output_type": "stream",
          "name": "stderr",
          "text": [
            "\n"
          ]
        },
        {
          "output_type": "stream",
          "name": "stdout",
          "text": [
            "\n",
            "      Epoch    GPU_mem   box_loss   cls_loss   dfl_loss  Instances       Size\n"
          ]
        },
        {
          "output_type": "stream",
          "name": "stderr",
          "text": [
            "     62/100      2.45G     0.3572     0.2544     0.7972         17        640: 100%|██████████| 127/127 [00:20<00:00,  6.17it/s]\n",
            "                 Class     Images  Instances      Box(P          R      mAP50  mAP50-95): 100%|██████████| 19/19 [00:03<00:00,  5.43it/s]"
          ]
        },
        {
          "output_type": "stream",
          "name": "stdout",
          "text": [
            "                   all        578       1784      0.987      0.983      0.987       0.95\n"
          ]
        },
        {
          "output_type": "stream",
          "name": "stderr",
          "text": [
            "\n"
          ]
        },
        {
          "output_type": "stream",
          "name": "stdout",
          "text": [
            "\n",
            "      Epoch    GPU_mem   box_loss   cls_loss   dfl_loss  Instances       Size\n"
          ]
        },
        {
          "output_type": "stream",
          "name": "stderr",
          "text": [
            "     63/100      2.44G     0.3461     0.2494     0.7913         11        640: 100%|██████████| 127/127 [00:20<00:00,  6.19it/s]\n",
            "                 Class     Images  Instances      Box(P          R      mAP50  mAP50-95): 100%|██████████| 19/19 [00:03<00:00,  5.18it/s]"
          ]
        },
        {
          "output_type": "stream",
          "name": "stdout",
          "text": [
            "                   all        578       1784      0.988       0.98      0.986       0.95\n"
          ]
        },
        {
          "output_type": "stream",
          "name": "stderr",
          "text": [
            "\n"
          ]
        },
        {
          "output_type": "stream",
          "name": "stdout",
          "text": [
            "\n",
            "      Epoch    GPU_mem   box_loss   cls_loss   dfl_loss  Instances       Size\n"
          ]
        },
        {
          "output_type": "stream",
          "name": "stderr",
          "text": [
            "     64/100      2.47G     0.3544     0.2522     0.7944         22        640: 100%|██████████| 127/127 [00:20<00:00,  6.16it/s]\n",
            "                 Class     Images  Instances      Box(P          R      mAP50  mAP50-95): 100%|██████████| 19/19 [00:03<00:00,  5.29it/s]"
          ]
        },
        {
          "output_type": "stream",
          "name": "stdout",
          "text": [
            "                   all        578       1784       0.99      0.982      0.987      0.954\n"
          ]
        },
        {
          "output_type": "stream",
          "name": "stderr",
          "text": [
            "\n"
          ]
        },
        {
          "output_type": "stream",
          "name": "stdout",
          "text": [
            "\n",
            "      Epoch    GPU_mem   box_loss   cls_loss   dfl_loss  Instances       Size\n"
          ]
        },
        {
          "output_type": "stream",
          "name": "stderr",
          "text": [
            "     65/100      2.45G     0.3541     0.2497     0.7916         21        640: 100%|██████████| 127/127 [00:20<00:00,  6.17it/s]\n",
            "                 Class     Images  Instances      Box(P          R      mAP50  mAP50-95): 100%|██████████| 19/19 [00:03<00:00,  5.05it/s]"
          ]
        },
        {
          "output_type": "stream",
          "name": "stdout",
          "text": [
            "                   all        578       1784      0.988      0.979      0.986      0.948\n"
          ]
        },
        {
          "output_type": "stream",
          "name": "stderr",
          "text": [
            "\n"
          ]
        },
        {
          "output_type": "stream",
          "name": "stdout",
          "text": [
            "\n",
            "      Epoch    GPU_mem   box_loss   cls_loss   dfl_loss  Instances       Size\n"
          ]
        },
        {
          "output_type": "stream",
          "name": "stderr",
          "text": [
            "     66/100      2.45G      0.349      0.248     0.7933         21        640: 100%|██████████| 127/127 [00:20<00:00,  6.19it/s]\n",
            "                 Class     Images  Instances      Box(P          R      mAP50  mAP50-95): 100%|██████████| 19/19 [00:03<00:00,  5.38it/s]"
          ]
        },
        {
          "output_type": "stream",
          "name": "stdout",
          "text": [
            "                   all        578       1784      0.992      0.982      0.987       0.95\n"
          ]
        },
        {
          "output_type": "stream",
          "name": "stderr",
          "text": [
            "\n"
          ]
        },
        {
          "output_type": "stream",
          "name": "stdout",
          "text": [
            "\n",
            "      Epoch    GPU_mem   box_loss   cls_loss   dfl_loss  Instances       Size\n"
          ]
        },
        {
          "output_type": "stream",
          "name": "stderr",
          "text": [
            "     67/100      2.43G     0.3461     0.2463     0.7942         27        640: 100%|██████████| 127/127 [00:20<00:00,  6.17it/s]\n",
            "                 Class     Images  Instances      Box(P          R      mAP50  mAP50-95): 100%|██████████| 19/19 [00:03<00:00,  5.21it/s]"
          ]
        },
        {
          "output_type": "stream",
          "name": "stdout",
          "text": [
            "                   all        578       1784      0.988      0.984      0.987       0.95\n"
          ]
        },
        {
          "output_type": "stream",
          "name": "stderr",
          "text": [
            "\n"
          ]
        },
        {
          "output_type": "stream",
          "name": "stdout",
          "text": [
            "\n",
            "      Epoch    GPU_mem   box_loss   cls_loss   dfl_loss  Instances       Size\n"
          ]
        },
        {
          "output_type": "stream",
          "name": "stderr",
          "text": [
            "     68/100      2.45G     0.3422     0.2431     0.7916         28        640: 100%|██████████| 127/127 [00:20<00:00,  6.20it/s]\n",
            "                 Class     Images  Instances      Box(P          R      mAP50  mAP50-95): 100%|██████████| 19/19 [00:03<00:00,  5.42it/s]"
          ]
        },
        {
          "output_type": "stream",
          "name": "stdout",
          "text": [
            "                   all        578       1784      0.991      0.981      0.986      0.948\n"
          ]
        },
        {
          "output_type": "stream",
          "name": "stderr",
          "text": [
            "\n"
          ]
        },
        {
          "output_type": "stream",
          "name": "stdout",
          "text": [
            "\n",
            "      Epoch    GPU_mem   box_loss   cls_loss   dfl_loss  Instances       Size\n"
          ]
        },
        {
          "output_type": "stream",
          "name": "stderr",
          "text": [
            "     69/100      2.45G     0.3488     0.2476     0.7922         24        640: 100%|██████████| 127/127 [00:20<00:00,  6.15it/s]\n",
            "                 Class     Images  Instances      Box(P          R      mAP50  mAP50-95): 100%|██████████| 19/19 [00:03<00:00,  5.23it/s]"
          ]
        },
        {
          "output_type": "stream",
          "name": "stdout",
          "text": [
            "                   all        578       1784      0.988      0.981      0.986      0.949\n"
          ]
        },
        {
          "output_type": "stream",
          "name": "stderr",
          "text": [
            "\n"
          ]
        },
        {
          "output_type": "stream",
          "name": "stdout",
          "text": [
            "\n",
            "      Epoch    GPU_mem   box_loss   cls_loss   dfl_loss  Instances       Size\n"
          ]
        },
        {
          "output_type": "stream",
          "name": "stderr",
          "text": [
            "     70/100      2.42G     0.3458      0.241      0.794         24        640: 100%|██████████| 127/127 [00:20<00:00,  6.21it/s]\n",
            "                 Class     Images  Instances      Box(P          R      mAP50  mAP50-95): 100%|██████████| 19/19 [00:03<00:00,  5.27it/s]"
          ]
        },
        {
          "output_type": "stream",
          "name": "stdout",
          "text": [
            "                   all        578       1784      0.984      0.982      0.987      0.951\n"
          ]
        },
        {
          "output_type": "stream",
          "name": "stderr",
          "text": [
            "\n"
          ]
        },
        {
          "output_type": "stream",
          "name": "stdout",
          "text": [
            "\n",
            "      Epoch    GPU_mem   box_loss   cls_loss   dfl_loss  Instances       Size\n"
          ]
        },
        {
          "output_type": "stream",
          "name": "stderr",
          "text": [
            "     71/100      2.45G     0.3418     0.2417     0.7933         14        640: 100%|██████████| 127/127 [00:20<00:00,  6.17it/s]\n",
            "                 Class     Images  Instances      Box(P          R      mAP50  mAP50-95): 100%|██████████| 19/19 [00:03<00:00,  5.46it/s]"
          ]
        },
        {
          "output_type": "stream",
          "name": "stdout",
          "text": [
            "                   all        578       1784      0.989      0.981      0.987      0.954\n"
          ]
        },
        {
          "output_type": "stream",
          "name": "stderr",
          "text": [
            "\n"
          ]
        },
        {
          "output_type": "stream",
          "name": "stdout",
          "text": [
            "\n",
            "      Epoch    GPU_mem   box_loss   cls_loss   dfl_loss  Instances       Size\n"
          ]
        },
        {
          "output_type": "stream",
          "name": "stderr",
          "text": [
            "     72/100      2.44G     0.3357     0.2364     0.7925         19        640: 100%|██████████| 127/127 [00:20<00:00,  6.19it/s]\n",
            "                 Class     Images  Instances      Box(P          R      mAP50  mAP50-95): 100%|██████████| 19/19 [00:03<00:00,  5.21it/s]"
          ]
        },
        {
          "output_type": "stream",
          "name": "stdout",
          "text": [
            "                   all        578       1784       0.99      0.981      0.987      0.953\n"
          ]
        },
        {
          "output_type": "stream",
          "name": "stderr",
          "text": [
            "\n"
          ]
        },
        {
          "output_type": "stream",
          "name": "stdout",
          "text": [
            "\n",
            "      Epoch    GPU_mem   box_loss   cls_loss   dfl_loss  Instances       Size\n"
          ]
        },
        {
          "output_type": "stream",
          "name": "stderr",
          "text": [
            "     73/100      2.44G     0.3382     0.2408     0.7941         27        640: 100%|██████████| 127/127 [00:20<00:00,  6.23it/s]\n",
            "                 Class     Images  Instances      Box(P          R      mAP50  mAP50-95): 100%|██████████| 19/19 [00:03<00:00,  5.41it/s]"
          ]
        },
        {
          "output_type": "stream",
          "name": "stdout",
          "text": [
            "                   all        578       1784       0.99      0.982      0.986      0.952\n"
          ]
        },
        {
          "output_type": "stream",
          "name": "stderr",
          "text": [
            "\n"
          ]
        },
        {
          "output_type": "stream",
          "name": "stdout",
          "text": [
            "\n",
            "      Epoch    GPU_mem   box_loss   cls_loss   dfl_loss  Instances       Size\n"
          ]
        },
        {
          "output_type": "stream",
          "name": "stderr",
          "text": [
            "     74/100      2.45G     0.3398     0.2391     0.7913         11        640: 100%|██████████| 127/127 [00:20<00:00,  6.21it/s]\n",
            "                 Class     Images  Instances      Box(P          R      mAP50  mAP50-95): 100%|██████████| 19/19 [00:03<00:00,  5.19it/s]"
          ]
        },
        {
          "output_type": "stream",
          "name": "stdout",
          "text": [
            "                   all        578       1784       0.99      0.982      0.987      0.951\n"
          ]
        },
        {
          "output_type": "stream",
          "name": "stderr",
          "text": [
            "\n"
          ]
        },
        {
          "output_type": "stream",
          "name": "stdout",
          "text": [
            "\n",
            "      Epoch    GPU_mem   box_loss   cls_loss   dfl_loss  Instances       Size\n"
          ]
        },
        {
          "output_type": "stream",
          "name": "stderr",
          "text": [
            "     75/100      2.43G     0.3352     0.2353     0.7917         22        640: 100%|██████████| 127/127 [00:20<00:00,  6.21it/s]\n",
            "                 Class     Images  Instances      Box(P          R      mAP50  mAP50-95): 100%|██████████| 19/19 [00:03<00:00,  5.33it/s]"
          ]
        },
        {
          "output_type": "stream",
          "name": "stdout",
          "text": [
            "                   all        578       1784       0.99      0.981      0.987      0.954\n"
          ]
        },
        {
          "output_type": "stream",
          "name": "stderr",
          "text": [
            "\n"
          ]
        },
        {
          "output_type": "stream",
          "name": "stdout",
          "text": [
            "\n",
            "      Epoch    GPU_mem   box_loss   cls_loss   dfl_loss  Instances       Size\n"
          ]
        },
        {
          "output_type": "stream",
          "name": "stderr",
          "text": [
            "     76/100      2.44G     0.3341      0.237     0.7899         27        640: 100%|██████████| 127/127 [00:20<00:00,  6.18it/s]\n",
            "                 Class     Images  Instances      Box(P          R      mAP50  mAP50-95): 100%|██████████| 19/19 [00:03<00:00,  5.01it/s]"
          ]
        },
        {
          "output_type": "stream",
          "name": "stdout",
          "text": [
            "                   all        578       1784       0.99      0.982      0.987      0.951\n"
          ]
        },
        {
          "output_type": "stream",
          "name": "stderr",
          "text": [
            "\n"
          ]
        },
        {
          "output_type": "stream",
          "name": "stdout",
          "text": [
            "\n",
            "      Epoch    GPU_mem   box_loss   cls_loss   dfl_loss  Instances       Size\n"
          ]
        },
        {
          "output_type": "stream",
          "name": "stderr",
          "text": [
            "     77/100      2.45G     0.3253     0.2288     0.7922         32        640: 100%|██████████| 127/127 [00:20<00:00,  6.22it/s]\n",
            "                 Class     Images  Instances      Box(P          R      mAP50  mAP50-95): 100%|██████████| 19/19 [00:03<00:00,  5.38it/s]"
          ]
        },
        {
          "output_type": "stream",
          "name": "stdout",
          "text": [
            "                   all        578       1784      0.991      0.983      0.988      0.957\n"
          ]
        },
        {
          "output_type": "stream",
          "name": "stderr",
          "text": [
            "\n"
          ]
        },
        {
          "output_type": "stream",
          "name": "stdout",
          "text": [
            "\n",
            "      Epoch    GPU_mem   box_loss   cls_loss   dfl_loss  Instances       Size\n"
          ]
        },
        {
          "output_type": "stream",
          "name": "stderr",
          "text": [
            "     78/100      2.44G     0.3317     0.2323     0.7918         23        640: 100%|██████████| 127/127 [00:20<00:00,  6.18it/s]\n",
            "                 Class     Images  Instances      Box(P          R      mAP50  mAP50-95): 100%|██████████| 19/19 [00:03<00:00,  5.17it/s]"
          ]
        },
        {
          "output_type": "stream",
          "name": "stdout",
          "text": [
            "                   all        578       1784      0.988      0.983      0.987      0.956\n"
          ]
        },
        {
          "output_type": "stream",
          "name": "stderr",
          "text": [
            "\n"
          ]
        },
        {
          "output_type": "stream",
          "name": "stdout",
          "text": [
            "\n",
            "      Epoch    GPU_mem   box_loss   cls_loss   dfl_loss  Instances       Size\n"
          ]
        },
        {
          "output_type": "stream",
          "name": "stderr",
          "text": [
            "     79/100      2.43G     0.3331     0.2348     0.7922         23        640: 100%|██████████| 127/127 [00:20<00:00,  6.19it/s]\n",
            "                 Class     Images  Instances      Box(P          R      mAP50  mAP50-95): 100%|██████████| 19/19 [00:03<00:00,  5.36it/s]"
          ]
        },
        {
          "output_type": "stream",
          "name": "stdout",
          "text": [
            "                   all        578       1784      0.991      0.984      0.987      0.956\n"
          ]
        },
        {
          "output_type": "stream",
          "name": "stderr",
          "text": [
            "\n"
          ]
        },
        {
          "output_type": "stream",
          "name": "stdout",
          "text": [
            "\n",
            "      Epoch    GPU_mem   box_loss   cls_loss   dfl_loss  Instances       Size\n"
          ]
        },
        {
          "output_type": "stream",
          "name": "stderr",
          "text": [
            "     80/100      2.45G     0.3238     0.2264      0.791         14        640: 100%|██████████| 127/127 [00:20<00:00,  6.15it/s]\n",
            "                 Class     Images  Instances      Box(P          R      mAP50  mAP50-95): 100%|██████████| 19/19 [00:03<00:00,  5.26it/s]"
          ]
        },
        {
          "output_type": "stream",
          "name": "stdout",
          "text": [
            "                   all        578       1784       0.99      0.982      0.988      0.959\n"
          ]
        },
        {
          "output_type": "stream",
          "name": "stderr",
          "text": [
            "\n"
          ]
        },
        {
          "output_type": "stream",
          "name": "stdout",
          "text": [
            "\n",
            "      Epoch    GPU_mem   box_loss   cls_loss   dfl_loss  Instances       Size\n"
          ]
        },
        {
          "output_type": "stream",
          "name": "stderr",
          "text": [
            "     81/100      2.45G     0.3209     0.2254     0.7881         18        640: 100%|██████████| 127/127 [00:20<00:00,  6.19it/s]\n",
            "                 Class     Images  Instances      Box(P          R      mAP50  mAP50-95): 100%|██████████| 19/19 [00:03<00:00,  5.25it/s]"
          ]
        },
        {
          "output_type": "stream",
          "name": "stdout",
          "text": [
            "                   all        578       1784      0.988      0.983      0.987      0.955\n"
          ]
        },
        {
          "output_type": "stream",
          "name": "stderr",
          "text": [
            "\n"
          ]
        },
        {
          "output_type": "stream",
          "name": "stdout",
          "text": [
            "\n",
            "      Epoch    GPU_mem   box_loss   cls_loss   dfl_loss  Instances       Size\n"
          ]
        },
        {
          "output_type": "stream",
          "name": "stderr",
          "text": [
            "     82/100      2.45G     0.3312     0.2265     0.7909         15        640: 100%|██████████| 127/127 [00:20<00:00,  6.14it/s]\n",
            "                 Class     Images  Instances      Box(P          R      mAP50  mAP50-95): 100%|██████████| 19/19 [00:03<00:00,  5.35it/s]"
          ]
        },
        {
          "output_type": "stream",
          "name": "stdout",
          "text": [
            "                   all        578       1784       0.99      0.982      0.987      0.958\n"
          ]
        },
        {
          "output_type": "stream",
          "name": "stderr",
          "text": [
            "\n"
          ]
        },
        {
          "output_type": "stream",
          "name": "stdout",
          "text": [
            "\n",
            "      Epoch    GPU_mem   box_loss   cls_loss   dfl_loss  Instances       Size\n"
          ]
        },
        {
          "output_type": "stream",
          "name": "stderr",
          "text": [
            "     83/100      2.44G     0.3252     0.2227     0.7893         12        640: 100%|██████████| 127/127 [00:20<00:00,  6.16it/s]\n",
            "                 Class     Images  Instances      Box(P          R      mAP50  mAP50-95): 100%|██████████| 19/19 [00:03<00:00,  5.08it/s]"
          ]
        },
        {
          "output_type": "stream",
          "name": "stdout",
          "text": [
            "                   all        578       1784      0.991      0.984      0.988      0.959\n"
          ]
        },
        {
          "output_type": "stream",
          "name": "stderr",
          "text": [
            "\n"
          ]
        },
        {
          "output_type": "stream",
          "name": "stdout",
          "text": [
            "\n",
            "      Epoch    GPU_mem   box_loss   cls_loss   dfl_loss  Instances       Size\n"
          ]
        },
        {
          "output_type": "stream",
          "name": "stderr",
          "text": [
            "     84/100      2.44G     0.3262      0.228     0.7922         29        640: 100%|██████████| 127/127 [00:20<00:00,  6.14it/s]\n",
            "                 Class     Images  Instances      Box(P          R      mAP50  mAP50-95): 100%|██████████| 19/19 [00:03<00:00,  5.50it/s]"
          ]
        },
        {
          "output_type": "stream",
          "name": "stdout",
          "text": [
            "                   all        578       1784       0.99      0.983      0.987      0.952\n"
          ]
        },
        {
          "output_type": "stream",
          "name": "stderr",
          "text": [
            "\n"
          ]
        },
        {
          "output_type": "stream",
          "name": "stdout",
          "text": [
            "\n",
            "      Epoch    GPU_mem   box_loss   cls_loss   dfl_loss  Instances       Size\n"
          ]
        },
        {
          "output_type": "stream",
          "name": "stderr",
          "text": [
            "     85/100      2.45G     0.3205     0.2234     0.7896         20        640: 100%|██████████| 127/127 [00:20<00:00,  6.18it/s]\n",
            "                 Class     Images  Instances      Box(P          R      mAP50  mAP50-95): 100%|██████████| 19/19 [00:03<00:00,  5.09it/s]"
          ]
        },
        {
          "output_type": "stream",
          "name": "stdout",
          "text": [
            "                   all        578       1784      0.991      0.983      0.986      0.953\n"
          ]
        },
        {
          "output_type": "stream",
          "name": "stderr",
          "text": [
            "\n"
          ]
        },
        {
          "output_type": "stream",
          "name": "stdout",
          "text": [
            "\n",
            "      Epoch    GPU_mem   box_loss   cls_loss   dfl_loss  Instances       Size\n"
          ]
        },
        {
          "output_type": "stream",
          "name": "stderr",
          "text": [
            "     86/100      2.45G     0.3196     0.2209     0.7902         31        640: 100%|██████████| 127/127 [00:20<00:00,  6.17it/s]\n",
            "                 Class     Images  Instances      Box(P          R      mAP50  mAP50-95): 100%|██████████| 19/19 [00:03<00:00,  5.26it/s]"
          ]
        },
        {
          "output_type": "stream",
          "name": "stdout",
          "text": [
            "                   all        578       1784      0.994      0.982      0.987      0.957\n"
          ]
        },
        {
          "output_type": "stream",
          "name": "stderr",
          "text": [
            "\n"
          ]
        },
        {
          "output_type": "stream",
          "name": "stdout",
          "text": [
            "\n",
            "      Epoch    GPU_mem   box_loss   cls_loss   dfl_loss  Instances       Size\n"
          ]
        },
        {
          "output_type": "stream",
          "name": "stderr",
          "text": [
            "     87/100      2.43G     0.3098     0.2171     0.7913         19        640: 100%|██████████| 127/127 [00:20<00:00,  6.14it/s]\n",
            "                 Class     Images  Instances      Box(P          R      mAP50  mAP50-95): 100%|██████████| 19/19 [00:03<00:00,  5.06it/s]"
          ]
        },
        {
          "output_type": "stream",
          "name": "stdout",
          "text": [
            "                   all        578       1784       0.99      0.984      0.987      0.958\n"
          ]
        },
        {
          "output_type": "stream",
          "name": "stderr",
          "text": [
            "\n"
          ]
        },
        {
          "output_type": "stream",
          "name": "stdout",
          "text": [
            "\n",
            "      Epoch    GPU_mem   box_loss   cls_loss   dfl_loss  Instances       Size\n"
          ]
        },
        {
          "output_type": "stream",
          "name": "stderr",
          "text": [
            "     88/100      2.47G     0.3181      0.219     0.7875         23        640: 100%|██████████| 127/127 [00:20<00:00,  6.15it/s]\n",
            "                 Class     Images  Instances      Box(P          R      mAP50  mAP50-95): 100%|██████████| 19/19 [00:03<00:00,  5.35it/s]"
          ]
        },
        {
          "output_type": "stream",
          "name": "stdout",
          "text": [
            "                   all        578       1784      0.993      0.983      0.987      0.957\n"
          ]
        },
        {
          "output_type": "stream",
          "name": "stderr",
          "text": [
            "\n"
          ]
        },
        {
          "output_type": "stream",
          "name": "stdout",
          "text": [
            "\n",
            "      Epoch    GPU_mem   box_loss   cls_loss   dfl_loss  Instances       Size\n"
          ]
        },
        {
          "output_type": "stream",
          "name": "stderr",
          "text": [
            "     89/100      2.47G     0.3182       0.22     0.7895         30        640: 100%|██████████| 127/127 [00:20<00:00,  6.14it/s]\n",
            "                 Class     Images  Instances      Box(P          R      mAP50  mAP50-95): 100%|██████████| 19/19 [00:03<00:00,  5.22it/s]"
          ]
        },
        {
          "output_type": "stream",
          "name": "stdout",
          "text": [
            "                   all        578       1784       0.99      0.984      0.987      0.956\n"
          ]
        },
        {
          "output_type": "stream",
          "name": "stderr",
          "text": [
            "\n"
          ]
        },
        {
          "output_type": "stream",
          "name": "stdout",
          "text": [
            "\n",
            "      Epoch    GPU_mem   box_loss   cls_loss   dfl_loss  Instances       Size\n"
          ]
        },
        {
          "output_type": "stream",
          "name": "stderr",
          "text": [
            "     90/100      2.45G     0.3153     0.2161     0.7898         18        640: 100%|██████████| 127/127 [00:20<00:00,  6.17it/s]\n",
            "                 Class     Images  Instances      Box(P          R      mAP50  mAP50-95): 100%|██████████| 19/19 [00:03<00:00,  5.36it/s]"
          ]
        },
        {
          "output_type": "stream",
          "name": "stdout",
          "text": [
            "                   all        578       1784      0.992       0.98      0.987      0.955\n"
          ]
        },
        {
          "output_type": "stream",
          "name": "stderr",
          "text": [
            "\n"
          ]
        },
        {
          "output_type": "stream",
          "name": "stdout",
          "text": [
            "Closing dataloader mosaic\n",
            "\u001b[34m\u001b[1malbumentations: \u001b[0mBlur(p=0.01, blur_limit=(3, 7)), MedianBlur(p=0.01, blur_limit=(3, 7)), ToGray(p=0.01, num_output_channels=3, method='weighted_average'), CLAHE(p=0.01, clip_limit=(1.0, 4.0), tile_grid_size=(8, 8))\n",
            "\n",
            "      Epoch    GPU_mem   box_loss   cls_loss   dfl_loss  Instances       Size\n"
          ]
        },
        {
          "output_type": "stream",
          "name": "stderr",
          "text": [
            "     91/100      2.49G     0.2787     0.2008     0.7799         17        640: 100%|██████████| 127/127 [00:21<00:00,  5.90it/s]\n",
            "                 Class     Images  Instances      Box(P          R      mAP50  mAP50-95): 100%|██████████| 19/19 [00:03<00:00,  5.30it/s]"
          ]
        },
        {
          "output_type": "stream",
          "name": "stdout",
          "text": [
            "                   all        578       1784      0.989      0.983      0.988      0.955\n"
          ]
        },
        {
          "output_type": "stream",
          "name": "stderr",
          "text": [
            "\n"
          ]
        },
        {
          "output_type": "stream",
          "name": "stdout",
          "text": [
            "\n",
            "      Epoch    GPU_mem   box_loss   cls_loss   dfl_loss  Instances       Size\n"
          ]
        },
        {
          "output_type": "stream",
          "name": "stderr",
          "text": [
            "     92/100      2.42G     0.2697     0.1933     0.7788         17        640: 100%|██████████| 127/127 [00:20<00:00,  6.29it/s]\n",
            "                 Class     Images  Instances      Box(P          R      mAP50  mAP50-95): 100%|██████████| 19/19 [00:03<00:00,  5.23it/s]"
          ]
        },
        {
          "output_type": "stream",
          "name": "stdout",
          "text": [
            "                   all        578       1784      0.994      0.981      0.987      0.961\n"
          ]
        },
        {
          "output_type": "stream",
          "name": "stderr",
          "text": [
            "\n"
          ]
        },
        {
          "output_type": "stream",
          "name": "stdout",
          "text": [
            "\n",
            "      Epoch    GPU_mem   box_loss   cls_loss   dfl_loss  Instances       Size\n"
          ]
        },
        {
          "output_type": "stream",
          "name": "stderr",
          "text": [
            "     93/100      2.42G     0.2725     0.1944     0.7781         12        640: 100%|██████████| 127/127 [00:20<00:00,  6.22it/s]\n",
            "                 Class     Images  Instances      Box(P          R      mAP50  mAP50-95): 100%|██████████| 19/19 [00:03<00:00,  5.32it/s]"
          ]
        },
        {
          "output_type": "stream",
          "name": "stdout",
          "text": [
            "                   all        578       1784      0.995       0.98      0.988      0.963\n"
          ]
        },
        {
          "output_type": "stream",
          "name": "stderr",
          "text": [
            "\n"
          ]
        },
        {
          "output_type": "stream",
          "name": "stdout",
          "text": [
            "\n",
            "      Epoch    GPU_mem   box_loss   cls_loss   dfl_loss  Instances       Size\n"
          ]
        },
        {
          "output_type": "stream",
          "name": "stderr",
          "text": [
            "     94/100      2.42G     0.2704     0.1942     0.7774         18        640: 100%|██████████| 127/127 [00:20<00:00,  6.23it/s]\n",
            "                 Class     Images  Instances      Box(P          R      mAP50  mAP50-95): 100%|██████████| 19/19 [00:03<00:00,  5.21it/s]"
          ]
        },
        {
          "output_type": "stream",
          "name": "stdout",
          "text": [
            "                   all        578       1784      0.988      0.982      0.988      0.961\n"
          ]
        },
        {
          "output_type": "stream",
          "name": "stderr",
          "text": [
            "\n"
          ]
        },
        {
          "output_type": "stream",
          "name": "stdout",
          "text": [
            "\n",
            "      Epoch    GPU_mem   box_loss   cls_loss   dfl_loss  Instances       Size\n"
          ]
        },
        {
          "output_type": "stream",
          "name": "stderr",
          "text": [
            "     95/100      2.41G     0.2673     0.1917     0.7783         13        640: 100%|██████████| 127/127 [00:20<00:00,  6.25it/s]\n",
            "                 Class     Images  Instances      Box(P          R      mAP50  mAP50-95): 100%|██████████| 19/19 [00:03<00:00,  5.36it/s]"
          ]
        },
        {
          "output_type": "stream",
          "name": "stdout",
          "text": [
            "                   all        578       1784      0.991      0.982      0.988      0.963\n"
          ]
        },
        {
          "output_type": "stream",
          "name": "stderr",
          "text": [
            "\n"
          ]
        },
        {
          "output_type": "stream",
          "name": "stdout",
          "text": [
            "\n",
            "      Epoch    GPU_mem   box_loss   cls_loss   dfl_loss  Instances       Size\n"
          ]
        },
        {
          "output_type": "stream",
          "name": "stderr",
          "text": [
            "     96/100      2.42G     0.2646     0.1913     0.7782         14        640: 100%|██████████| 127/127 [00:20<00:00,  6.25it/s]\n",
            "                 Class     Images  Instances      Box(P          R      mAP50  mAP50-95): 100%|██████████| 19/19 [00:03<00:00,  5.17it/s]"
          ]
        },
        {
          "output_type": "stream",
          "name": "stdout",
          "text": [
            "                   all        578       1784      0.992      0.982      0.988      0.962\n"
          ]
        },
        {
          "output_type": "stream",
          "name": "stderr",
          "text": [
            "\n"
          ]
        },
        {
          "output_type": "stream",
          "name": "stdout",
          "text": [
            "\n",
            "      Epoch    GPU_mem   box_loss   cls_loss   dfl_loss  Instances       Size\n"
          ]
        },
        {
          "output_type": "stream",
          "name": "stderr",
          "text": [
            "     97/100      2.42G     0.2611     0.1876     0.7783         15        640: 100%|██████████| 127/127 [00:20<00:00,  6.20it/s]\n",
            "                 Class     Images  Instances      Box(P          R      mAP50  mAP50-95): 100%|██████████| 19/19 [00:03<00:00,  5.33it/s]"
          ]
        },
        {
          "output_type": "stream",
          "name": "stdout",
          "text": [
            "                   all        578       1784      0.995       0.98      0.988      0.964\n"
          ]
        },
        {
          "output_type": "stream",
          "name": "stderr",
          "text": [
            "\n"
          ]
        },
        {
          "output_type": "stream",
          "name": "stdout",
          "text": [
            "\n",
            "      Epoch    GPU_mem   box_loss   cls_loss   dfl_loss  Instances       Size\n"
          ]
        },
        {
          "output_type": "stream",
          "name": "stderr",
          "text": [
            "     98/100      2.42G     0.2586     0.1843     0.7783          9        640: 100%|██████████| 127/127 [00:20<00:00,  6.22it/s]\n",
            "                 Class     Images  Instances      Box(P          R      mAP50  mAP50-95): 100%|██████████| 19/19 [00:03<00:00,  5.18it/s]"
          ]
        },
        {
          "output_type": "stream",
          "name": "stdout",
          "text": [
            "                   all        578       1784      0.995      0.979      0.988      0.963\n"
          ]
        },
        {
          "output_type": "stream",
          "name": "stderr",
          "text": [
            "\n"
          ]
        },
        {
          "output_type": "stream",
          "name": "stdout",
          "text": [
            "\n",
            "      Epoch    GPU_mem   box_loss   cls_loss   dfl_loss  Instances       Size\n"
          ]
        },
        {
          "output_type": "stream",
          "name": "stderr",
          "text": [
            "     99/100      2.41G     0.2564     0.1837     0.7787         13        640: 100%|██████████| 127/127 [00:20<00:00,  6.26it/s]\n",
            "                 Class     Images  Instances      Box(P          R      mAP50  mAP50-95): 100%|██████████| 19/19 [00:03<00:00,  5.36it/s]"
          ]
        },
        {
          "output_type": "stream",
          "name": "stdout",
          "text": [
            "                   all        578       1784      0.991      0.982      0.988      0.961\n"
          ]
        },
        {
          "output_type": "stream",
          "name": "stderr",
          "text": [
            "\n"
          ]
        },
        {
          "output_type": "stream",
          "name": "stdout",
          "text": [
            "\n",
            "      Epoch    GPU_mem   box_loss   cls_loss   dfl_loss  Instances       Size\n"
          ]
        },
        {
          "output_type": "stream",
          "name": "stderr",
          "text": [
            "    100/100      2.42G     0.2559     0.1826     0.7751         16        640: 100%|██████████| 127/127 [00:20<00:00,  6.27it/s]\n",
            "                 Class     Images  Instances      Box(P          R      mAP50  mAP50-95): 100%|██████████| 19/19 [00:03<00:00,  5.13it/s]"
          ]
        },
        {
          "output_type": "stream",
          "name": "stdout",
          "text": [
            "                   all        578       1784      0.991      0.983      0.988      0.964\n"
          ]
        },
        {
          "output_type": "stream",
          "name": "stderr",
          "text": [
            "\n"
          ]
        },
        {
          "output_type": "stream",
          "name": "stdout",
          "text": [
            "\n",
            "100 epochs completed in 0.712 hours.\n",
            "Optimizer stripped from /content/drive/MyDrive/yolov11/runs/experiment_unet2/weights/last.pt, 5.5MB\n",
            "Optimizer stripped from /content/drive/MyDrive/yolov11/runs/experiment_unet2/weights/best.pt, 5.5MB\n",
            "\n",
            "Validating /content/drive/MyDrive/yolov11/runs/experiment_unet2/weights/best.pt...\n",
            "Ultralytics 8.3.59 🚀 Python-3.10.12 torch-2.5.1+cu121 CUDA:0 (Tesla T4, 15102MiB)\n",
            "YOLO11n summary (fused): 238 layers, 2,582,347 parameters, 0 gradients, 6.3 GFLOPs\n"
          ]
        },
        {
          "output_type": "stream",
          "name": "stderr",
          "text": [
            "                 Class     Images  Instances      Box(P          R      mAP50  mAP50-95): 100%|██████████| 19/19 [00:04<00:00,  4.05it/s]\n"
          ]
        },
        {
          "output_type": "stream",
          "name": "stdout",
          "text": [
            "                   all        578       1784      0.991      0.983      0.988      0.963\n",
            "Speed: 0.2ms preprocess, 2.1ms inference, 0.0ms loss, 1.7ms postprocess per image\n",
            "Results saved to \u001b[1m/content/drive/MyDrive/yolov11/runs/experiment_unet2\u001b[0m\n"
          ]
        }
      ],
      "source": [
        "# Load a COCO-pretrained YOLO11n model\n",
        "model = YOLO(\"yolo11n.pt\")\n",
        "\n",
        "results = model.train(\n",
        "    data=\"/content/drive/MyDrive/yolov11/dataset/unet_dataset_640/data.yaml\",\n",
        "    epochs=100,\n",
        "    imgsz=640,\n",
        "    project=\"/content/drive/MyDrive/yolov11/runs/\",\n",
        "    name=\"experiment_unet\"  # Change name for each dataset experiment\n",
        ")\n"
      ]
    },
    {
      "cell_type": "code",
      "execution_count": null,
      "metadata": {
        "id": "Gby3XoXlL3LA",
        "colab": {
          "base_uri": "https://localhost:8080/",
          "height": 638
        },
        "outputId": "133c6e90-f288-4545-ddea-14a04a35ecfe"
      },
      "outputs": [
        {
          "output_type": "display_data",
          "data": {
            "image/png": "[encoded data removed]",
            "text/plain": [
              "<IPython.core.display.Image object>"
            ]
          },
          "metadata": {}
        }
      ],
      "source": [
        "from IPython.display import Image, display\n",
        "\n",
        "# Display the results plot from the runs/detect/train directory\n",
        "display(Image(filename=\"/content/drive/MyDrive/yolov11/runs/experiment_unet2/results.png\"))\n"
      ]
    },
    {
      "cell_type": "code",
      "execution_count": null,
      "metadata": {
        "id": "Tnihy-9pNNGx",
        "colab": {
          "base_uri": "https://localhost:8080/"
        },
        "outputId": "ef0a45c1-97e8-40a0-f154-32b99c8c8e22"
      },
      "outputs": [
        {
          "output_type": "stream",
          "name": "stdout",
          "text": [
            "Available Metrics:\n",
            " Index(['epoch', 'time', 'train/box_loss', 'train/cls_loss', 'train/dfl_loss',\n",
            "       'metrics/precision(B)', 'metrics/recall(B)', 'metrics/mAP50(B)',\n",
            "       'metrics/mAP50-95(B)', 'val/box_loss', 'val/cls_loss', 'val/dfl_loss',\n",
            "       'lr/pg0', 'lr/pg1', 'lr/pg2'],\n",
            "      dtype='object')\n",
            "    epoch     time  train/box_loss  train/cls_loss  train/dfl_loss  \\\n",
            "95     96  2463.03         0.26455         0.19132         0.77819   \n",
            "96     97  2487.88         0.26112         0.18761         0.77830   \n",
            "97     98  2512.78         0.25857         0.18431         0.77827   \n",
            "98     99  2537.42         0.25639         0.18366         0.77874   \n",
            "99    100  2562.13         0.25586         0.18265         0.77514   \n",
            "\n",
            "    metrics/precision(B)  metrics/recall(B)  metrics/mAP50(B)  \\\n",
            "95               0.99167            0.98150           0.98759   \n",
            "96               0.99488            0.98034           0.98775   \n",
            "97               0.99544            0.97866           0.98772   \n",
            "98               0.99138            0.98206           0.98761   \n",
            "99               0.99143            0.98262           0.98777   \n",
            "\n",
            "    metrics/mAP50-95(B)  val/box_loss  val/cls_loss  val/dfl_loss    lr/pg0  \\\n",
            "95              0.96168       0.23894       0.18477       0.76344  0.000119   \n",
            "96              0.96368       0.23230       0.18122       0.76311  0.000099   \n",
            "97              0.96313       0.24059       0.18218       0.76331  0.000079   \n",
            "98              0.96142       0.23885       0.18075       0.76340  0.000060   \n",
            "99              0.96368       0.23531       0.17788       0.76282  0.000040   \n",
            "\n",
            "      lr/pg1    lr/pg2  \n",
            "95  0.000119  0.000119  \n",
            "96  0.000099  0.000099  \n",
            "97  0.000079  0.000079  \n",
            "98  0.000060  0.000060  \n",
            "99  0.000040  0.000040  \n"
          ]
        }
      ],
      "source": [
        "import pandas as pd\n",
        "import glob\n",
        "\n",
        "# Locate the latest results CSV file in the detect or train directory\n",
        "latest_exp = sorted(glob.glob(\"/content/drive/MyDrive/yolov11/runs/experiment_unet*\"))[-1]\n",
        "results_csv = f\"{latest_exp}/results.csv\"\n",
        "\n",
        "# Load the CSV file\n",
        "results_df = pd.read_csv(results_csv)\n",
        "\n",
        "# Display the metrics available in the results.csv file\n",
        "print(\"Available Metrics:\\n\", results_df.columns)\n",
        "print(results_df.tail())  # Display metrics from the final epochs\n"
      ]
    },
    {
      "cell_type": "code",
      "execution_count": null,
      "metadata": {
        "id": "IE41LnN9NQ82",
        "colab": {
          "base_uri": "https://localhost:8080/"
        },
        "outputId": "7c24b8e0-29d3-4c39-9f52-28f935121b19"
      },
      "outputs": [
        {
          "output_type": "stream",
          "name": "stdout",
          "text": [
            "Final Epoch Metrics:\n",
            "Precision: 0.99143\n",
            "Recall: 0.98262\n",
            "mAP@0.5: 0.98777\n",
            "mAP@0.5:0.95: 0.96368\n"
          ]
        }
      ],
      "source": [
        "# Display metrics for the final epoch\n",
        "final_metrics = results_df.iloc[-1]  # Get the last row for the final epoch\n",
        "\n",
        "print(\"Final Epoch Metrics:\")\n",
        "print(f\"Precision: {final_metrics['metrics/precision(B)']}\")\n",
        "print(f\"Recall: {final_metrics['metrics/recall(B)']}\")\n",
        "print(f\"mAP@0.5: {final_metrics['metrics/mAP50(B)']}\")\n",
        "print(f\"mAP@0.5:0.95: {final_metrics['metrics/mAP50-95(B)']}\")\n",
        "\n"
      ]
    },
    {
      "cell_type": "code",
      "execution_count": null,
      "metadata": {
        "id": "sKOLlCKSNYAv",
        "colab": {
          "base_uri": "https://localhost:8080/"
        },
        "outputId": "6a276ed5-fc23-4967-f0c7-7ec643618d6f"
      },
      "outputs": [
        {
          "output_type": "stream",
          "name": "stdout",
          "text": [
            "\n",
            "image 1/1 /content/drive/MyDrive/yolov11/dataset/unet_dataset_640/images/test/01_img57.png: 640x640 4 fish_larvaes, 9.1ms\n",
            "Speed: 1.7ms preprocess, 9.1ms inference, 1.7ms postprocess per image at shape (1, 3, 640, 640)\n",
            "\n",
            "image 1/1 /content/drive/MyDrive/yolov11/dataset/unet_dataset_640/images/test/02_img13.png: 640x640 3 fish_larvaes, 9.2ms\n",
            "Speed: 1.7ms preprocess, 9.2ms inference, 1.3ms postprocess per image at shape (1, 3, 640, 640)\n",
            "\n",
            "image 1/1 /content/drive/MyDrive/yolov11/dataset/unet_dataset_640/images/test/01_img170.png: 640x640 3 fish_larvaes, 18.6ms\n",
            "Speed: 2.1ms preprocess, 18.6ms inference, 2.5ms postprocess per image at shape (1, 3, 640, 640)\n",
            "\n",
            "image 1/1 /content/drive/MyDrive/yolov11/dataset/unet_dataset_640/images/test/01_img152.png: 640x640 4 fish_larvaes, 10.0ms\n",
            "Speed: 1.6ms preprocess, 10.0ms inference, 1.4ms postprocess per image at shape (1, 3, 640, 640)\n",
            "\n",
            "image 1/1 /content/drive/MyDrive/yolov11/dataset/unet_dataset_640/images/test/03_img190.png: 640x640 5 fish_larvaes, 11.0ms\n",
            "Speed: 1.7ms preprocess, 11.0ms inference, 1.5ms postprocess per image at shape (1, 3, 640, 640)\n",
            "\n",
            "image 1/1 /content/drive/MyDrive/yolov11/dataset/unet_dataset_640/images/test/04_img31.png: 640x640 4 fish_larvaes, 9.3ms\n",
            "Speed: 1.7ms preprocess, 9.3ms inference, 1.4ms postprocess per image at shape (1, 3, 640, 640)\n",
            "\n",
            "image 1/1 /content/drive/MyDrive/yolov11/dataset/unet_dataset_640/images/test/01_img49.png: 640x640 4 fish_larvaes, 9.0ms\n",
            "Speed: 1.4ms preprocess, 9.0ms inference, 1.2ms postprocess per image at shape (1, 3, 640, 640)\n",
            "\n",
            "image 1/1 /content/drive/MyDrive/yolov11/dataset/unet_dataset_640/images/test/03_img198.png: 640x640 5 fish_larvaes, 8.8ms\n",
            "Speed: 1.4ms preprocess, 8.8ms inference, 1.2ms postprocess per image at shape (1, 3, 640, 640)\n",
            "\n",
            "image 1/1 /content/drive/MyDrive/yolov11/dataset/unet_dataset_640/images/test/01_img143.png: 640x640 4 fish_larvaes, 8.6ms\n",
            "Speed: 1.3ms preprocess, 8.6ms inference, 1.1ms postprocess per image at shape (1, 3, 640, 640)\n",
            "\n",
            "image 1/1 /content/drive/MyDrive/yolov11/dataset/unet_dataset_640/images/test/03_img176.png: 640x640 5 fish_larvaes, 8.7ms\n",
            "Speed: 1.4ms preprocess, 8.7ms inference, 1.2ms postprocess per image at shape (1, 3, 640, 640)\n",
            "\n",
            "image 1/1 /content/drive/MyDrive/yolov11/dataset/unet_dataset_640/images/test/01_img179.png: 640x640 3 fish_larvaes, 9.6ms\n",
            "Speed: 1.4ms preprocess, 9.6ms inference, 1.3ms postprocess per image at shape (1, 3, 640, 640)\n",
            "\n",
            "image 1/1 /content/drive/MyDrive/yolov11/dataset/unet_dataset_640/images/test/04_img23.png: 640x640 4 fish_larvaes, 9.3ms\n",
            "Speed: 1.4ms preprocess, 9.3ms inference, 1.3ms postprocess per image at shape (1, 3, 640, 640)\n",
            "\n",
            "image 1/1 /content/drive/MyDrive/yolov11/dataset/unet_dataset_640/images/test/04_img62.png: 640x640 4 fish_larvaes, 8.9ms\n",
            "Speed: 1.5ms preprocess, 8.9ms inference, 1.5ms postprocess per image at shape (1, 3, 640, 640)\n",
            "\n",
            "image 1/1 /content/drive/MyDrive/yolov11/dataset/unet_dataset_640/images/test/04_img53.png: 640x640 4 fish_larvaes, 9.2ms\n",
            "Speed: 1.5ms preprocess, 9.2ms inference, 1.3ms postprocess per image at shape (1, 3, 640, 640)\n",
            "\n",
            "image 1/1 /content/drive/MyDrive/yolov11/dataset/unet_dataset_640/images/test/04_img107.png: 640x640 4 fish_larvaes, 9.1ms\n",
            "Speed: 1.4ms preprocess, 9.1ms inference, 1.4ms postprocess per image at shape (1, 3, 640, 640)\n",
            "\n",
            "image 1/1 /content/drive/MyDrive/yolov11/dataset/unet_dataset_640/images/test/03_img14.png: 640x640 5 fish_larvaes, 9.2ms\n",
            "Speed: 1.5ms preprocess, 9.2ms inference, 1.3ms postprocess per image at shape (1, 3, 640, 640)\n",
            "\n",
            "image 1/1 /content/drive/MyDrive/yolov11/dataset/unet_dataset_640/images/test/03_img60.png: 640x640 5 fish_larvaes, 9.2ms\n",
            "Speed: 1.4ms preprocess, 9.2ms inference, 1.2ms postprocess per image at shape (1, 3, 640, 640)\n",
            "\n",
            "image 1/1 /content/drive/MyDrive/yolov11/dataset/unet_dataset_640/images/test/02_img213.png: 640x640 3 fish_larvaes, 10.0ms\n",
            "Speed: 1.4ms preprocess, 10.0ms inference, 1.3ms postprocess per image at shape (1, 3, 640, 640)\n",
            "\n",
            "image 1/1 /content/drive/MyDrive/yolov11/dataset/unet_dataset_640/images/test/02_img206.png: 640x640 3 fish_larvaes, 9.1ms\n",
            "Speed: 1.4ms preprocess, 9.1ms inference, 1.2ms postprocess per image at shape (1, 3, 640, 640)\n",
            "\n",
            "image 1/1 /content/drive/MyDrive/yolov11/dataset/unet_dataset_640/images/test/02_img101.png: 640x640 3 fish_larvaes, 10.0ms\n",
            "Speed: 1.4ms preprocess, 10.0ms inference, 1.4ms postprocess per image at shape (1, 3, 640, 640)\n",
            "\n",
            "image 1/1 /content/drive/MyDrive/yolov11/dataset/unet_dataset_640/images/test/03_img122.png: 640x640 5 fish_larvaes, 9.7ms\n",
            "Speed: 1.4ms preprocess, 9.7ms inference, 1.2ms postprocess per image at shape (1, 3, 640, 640)\n",
            "\n",
            "image 1/1 /content/drive/MyDrive/yolov11/dataset/unet_dataset_640/images/test/01_img249.png: 640x640 4 fish_larvaes, 10.3ms\n",
            "Speed: 1.6ms preprocess, 10.3ms inference, 1.5ms postprocess per image at shape (1, 3, 640, 640)\n",
            "\n",
            "image 1/1 /content/drive/MyDrive/yolov11/dataset/unet_dataset_640/images/test/01_img19.png: 640x640 4 fish_larvaes, 11.6ms\n",
            "Speed: 1.7ms preprocess, 11.6ms inference, 1.5ms postprocess per image at shape (1, 3, 640, 640)\n",
            "\n",
            "image 1/1 /content/drive/MyDrive/yolov11/dataset/unet_dataset_640/images/test/04_img50.png: 640x640 4 fish_larvaes, 9.1ms\n",
            "Speed: 1.4ms preprocess, 9.1ms inference, 1.2ms postprocess per image at shape (1, 3, 640, 640)\n",
            "\n",
            "image 1/1 /content/drive/MyDrive/yolov11/dataset/unet_dataset_640/images/test/03_img30.png: 640x640 4 fish_larvaes, 9.2ms\n",
            "Speed: 1.4ms preprocess, 9.2ms inference, 1.4ms postprocess per image at shape (1, 3, 640, 640)\n",
            "\n",
            "image 1/1 /content/drive/MyDrive/yolov11/dataset/unet_dataset_640/images/test/01_img114.png: 640x640 4 fish_larvaes, 9.4ms\n",
            "Speed: 1.5ms preprocess, 9.4ms inference, 1.2ms postprocess per image at shape (1, 3, 640, 640)\n",
            "\n",
            "image 1/1 /content/drive/MyDrive/yolov11/dataset/unet_dataset_640/images/test/01_img253.png: 640x640 4 fish_larvaes, 10.0ms\n",
            "Speed: 1.4ms preprocess, 10.0ms inference, 1.3ms postprocess per image at shape (1, 3, 640, 640)\n",
            "\n",
            "image 1/1 /content/drive/MyDrive/yolov11/dataset/unet_dataset_640/images/test/04_img25.png: 640x640 4 fish_larvaes, 9.2ms\n",
            "Speed: 1.5ms preprocess, 9.2ms inference, 1.3ms postprocess per image at shape (1, 3, 640, 640)\n",
            "\n",
            "image 1/1 /content/drive/MyDrive/yolov11/dataset/unet_dataset_640/images/test/03_img110.png: 640x640 5 fish_larvaes, 9.0ms\n",
            "Speed: 1.4ms preprocess, 9.0ms inference, 1.3ms postprocess per image at shape (1, 3, 640, 640)\n",
            "\n",
            "image 1/1 /content/drive/MyDrive/yolov11/dataset/unet_dataset_640/images/test/04_img19.png: 640x640 4 fish_larvaes, 9.1ms\n",
            "Speed: 1.3ms preprocess, 9.1ms inference, 1.3ms postprocess per image at shape (1, 3, 640, 640)\n",
            "\n",
            "image 1/1 /content/drive/MyDrive/yolov11/dataset/unet_dataset_640/images/test/01_img79.png: 640x640 4 fish_larvaes, 12.3ms\n",
            "Speed: 1.5ms preprocess, 12.3ms inference, 1.7ms postprocess per image at shape (1, 3, 640, 640)\n",
            "\n",
            "image 1/1 /content/drive/MyDrive/yolov11/dataset/unet_dataset_640/images/test/03_img40.png: 640x640 5 fish_larvaes, 9.0ms\n",
            "Speed: 1.5ms preprocess, 9.0ms inference, 1.4ms postprocess per image at shape (1, 3, 640, 640)\n",
            "\n",
            "image 1/1 /content/drive/MyDrive/yolov11/dataset/unet_dataset_640/images/test/03_img75.png: 640x640 5 fish_larvaes, 9.2ms\n",
            "Speed: 1.4ms preprocess, 9.2ms inference, 1.4ms postprocess per image at shape (1, 3, 640, 640)\n",
            "\n",
            "image 1/1 /content/drive/MyDrive/yolov11/dataset/unet_dataset_640/images/test/03_img76.png: 640x640 5 fish_larvaes, 8.8ms\n",
            "Speed: 1.5ms preprocess, 8.8ms inference, 1.2ms postprocess per image at shape (1, 3, 640, 640)\n",
            "\n",
            "image 1/1 /content/drive/MyDrive/yolov11/dataset/unet_dataset_640/images/test/02_img149.png: 640x640 3 fish_larvaes, 8.4ms\n",
            "Speed: 1.4ms preprocess, 8.4ms inference, 1.1ms postprocess per image at shape (1, 3, 640, 640)\n",
            "\n",
            "image 1/1 /content/drive/MyDrive/yolov11/dataset/unet_dataset_640/images/test/02_img132.png: 640x640 3 fish_larvaes, 8.2ms\n",
            "Speed: 1.3ms preprocess, 8.2ms inference, 1.2ms postprocess per image at shape (1, 3, 640, 640)\n",
            "\n",
            "image 1/1 /content/drive/MyDrive/yolov11/dataset/unet_dataset_640/images/test/02_img79.png: 640x640 3 fish_larvaes, 8.8ms\n",
            "Speed: 1.5ms preprocess, 8.8ms inference, 1.1ms postprocess per image at shape (1, 3, 640, 640)\n",
            "\n",
            "image 1/1 /content/drive/MyDrive/yolov11/dataset/unet_dataset_640/images/test/03_img55.png: 640x640 5 fish_larvaes, 9.0ms\n",
            "Speed: 1.4ms preprocess, 9.0ms inference, 1.2ms postprocess per image at shape (1, 3, 640, 640)\n",
            "\n",
            "image 1/1 /content/drive/MyDrive/yolov11/dataset/unet_dataset_640/images/test/02_img220.png: 640x640 3 fish_larvaes, 8.9ms\n",
            "Speed: 1.3ms preprocess, 8.9ms inference, 1.2ms postprocess per image at shape (1, 3, 640, 640)\n",
            "\n",
            "image 1/1 /content/drive/MyDrive/yolov11/dataset/unet_dataset_640/images/test/02_img42.png: 640x640 3 fish_larvaes, 9.1ms\n",
            "Speed: 1.4ms preprocess, 9.1ms inference, 1.3ms postprocess per image at shape (1, 3, 640, 640)\n",
            "\n",
            "image 1/1 /content/drive/MyDrive/yolov11/dataset/unet_dataset_640/images/test/03_img18.png: 640x640 4 fish_larvaes, 9.0ms\n",
            "Speed: 1.4ms preprocess, 9.0ms inference, 1.1ms postprocess per image at shape (1, 3, 640, 640)\n",
            "\n",
            "image 1/1 /content/drive/MyDrive/yolov11/dataset/unet_dataset_640/images/test/03_img186.png: 640x640 4 fish_larvaes, 9.2ms\n",
            "Speed: 1.3ms preprocess, 9.2ms inference, 1.3ms postprocess per image at shape (1, 3, 640, 640)\n",
            "\n",
            "image 1/1 /content/drive/MyDrive/yolov11/dataset/unet_dataset_640/images/test/03_img12.png: 640x640 4 fish_larvaes, 9.2ms\n",
            "Speed: 1.4ms preprocess, 9.2ms inference, 1.2ms postprocess per image at shape (1, 3, 640, 640)\n",
            "\n",
            "image 1/1 /content/drive/MyDrive/yolov11/dataset/unet_dataset_640/images/test/02_img152.png: 640x640 3 fish_larvaes, 9.2ms\n",
            "Speed: 1.8ms preprocess, 9.2ms inference, 1.2ms postprocess per image at shape (1, 3, 640, 640)\n",
            "\n",
            "image 1/1 /content/drive/MyDrive/yolov11/dataset/unet_dataset_640/images/test/02_img23.png: 640x640 3 fish_larvaes, 9.2ms\n",
            "Speed: 1.3ms preprocess, 9.2ms inference, 1.2ms postprocess per image at shape (1, 3, 640, 640)\n",
            "\n",
            "image 1/1 /content/drive/MyDrive/yolov11/dataset/unet_dataset_640/images/test/01_img190.png: 640x640 4 fish_larvaes, 9.0ms\n",
            "Speed: 1.5ms preprocess, 9.0ms inference, 1.1ms postprocess per image at shape (1, 3, 640, 640)\n",
            "\n",
            "image 1/1 /content/drive/MyDrive/yolov11/dataset/unet_dataset_640/images/test/04_img29.png: 640x640 4 fish_larvaes, 9.2ms\n",
            "Speed: 1.5ms preprocess, 9.2ms inference, 1.2ms postprocess per image at shape (1, 3, 640, 640)\n",
            "\n",
            "image 1/1 /content/drive/MyDrive/yolov11/dataset/unet_dataset_640/images/test/04_img04.png: 640x640 4 fish_larvaes, 8.8ms\n",
            "Speed: 1.4ms preprocess, 8.8ms inference, 1.2ms postprocess per image at shape (1, 3, 640, 640)\n",
            "\n",
            "image 1/1 /content/drive/MyDrive/yolov11/dataset/unet_dataset_640/images/test/01_img239.png: 640x640 4 fish_larvaes, 8.9ms\n",
            "Speed: 1.4ms preprocess, 8.9ms inference, 1.3ms postprocess per image at shape (1, 3, 640, 640)\n",
            "\n",
            "image 1/1 /content/drive/MyDrive/yolov11/dataset/unet_dataset_640/images/test/02_img165.png: 640x640 3 fish_larvaes, 9.0ms\n",
            "Speed: 1.3ms preprocess, 9.0ms inference, 1.2ms postprocess per image at shape (1, 3, 640, 640)\n",
            "\n",
            "image 1/1 /content/drive/MyDrive/yolov11/dataset/unet_dataset_640/images/test/02_img35.png: 640x640 3 fish_larvaes, 9.3ms\n",
            "Speed: 1.4ms preprocess, 9.3ms inference, 1.2ms postprocess per image at shape (1, 3, 640, 640)\n",
            "\n",
            "image 1/1 /content/drive/MyDrive/yolov11/dataset/unet_dataset_640/images/test/03_img28.png: 640x640 4 fish_larvaes, 9.7ms\n",
            "Speed: 1.5ms preprocess, 9.7ms inference, 1.3ms postprocess per image at shape (1, 3, 640, 640)\n",
            "\n",
            "image 1/1 /content/drive/MyDrive/yolov11/dataset/unet_dataset_640/images/test/03_img47.png: 640x640 5 fish_larvaes, 8.5ms\n",
            "Speed: 1.4ms preprocess, 8.5ms inference, 1.1ms postprocess per image at shape (1, 3, 640, 640)\n",
            "\n",
            "image 1/1 /content/drive/MyDrive/yolov11/dataset/unet_dataset_640/images/test/03_img08.png: 640x640 5 fish_larvaes, 8.8ms\n",
            "Speed: 1.4ms preprocess, 8.8ms inference, 1.2ms postprocess per image at shape (1, 3, 640, 640)\n",
            "\n",
            "image 1/1 /content/drive/MyDrive/yolov11/dataset/unet_dataset_640/images/test/02_img155.png: 640x640 3 fish_larvaes, 8.5ms\n",
            "Speed: 1.3ms preprocess, 8.5ms inference, 1.2ms postprocess per image at shape (1, 3, 640, 640)\n",
            "\n",
            "image 1/1 /content/drive/MyDrive/yolov11/dataset/unet_dataset_640/images/test/01_img244.png: 640x640 4 fish_larvaes, 8.4ms\n",
            "Speed: 1.4ms preprocess, 8.4ms inference, 1.2ms postprocess per image at shape (1, 3, 640, 640)\n",
            "\n",
            "image 1/1 /content/drive/MyDrive/yolov11/dataset/unet_dataset_640/images/test/02_img159.png: 640x640 3 fish_larvaes, 8.7ms\n",
            "Speed: 1.4ms preprocess, 8.7ms inference, 1.2ms postprocess per image at shape (1, 3, 640, 640)\n",
            "\n",
            "image 1/1 /content/drive/MyDrive/yolov11/dataset/unet_dataset_640/images/test/01_img119.png: 640x640 4 fish_larvaes, 8.8ms\n",
            "Speed: 1.4ms preprocess, 8.8ms inference, 1.2ms postprocess per image at shape (1, 3, 640, 640)\n",
            "\n",
            "image 1/1 /content/drive/MyDrive/yolov11/dataset/unet_dataset_640/images/test/04_img28.png: 640x640 4 fish_larvaes, 8.7ms\n",
            "Speed: 1.4ms preprocess, 8.7ms inference, 1.1ms postprocess per image at shape (1, 3, 640, 640)\n",
            "\n",
            "image 1/1 /content/drive/MyDrive/yolov11/dataset/unet_dataset_640/images/test/01_img67.png: 640x640 4 fish_larvaes, 9.2ms\n",
            "Speed: 1.4ms preprocess, 9.2ms inference, 1.3ms postprocess per image at shape (1, 3, 640, 640)\n",
            "\n",
            "image 1/1 /content/drive/MyDrive/yolov11/dataset/unet_dataset_640/images/test/02_img122.png: 640x640 3 fish_larvaes, 8.7ms\n",
            "Speed: 1.4ms preprocess, 8.7ms inference, 1.1ms postprocess per image at shape (1, 3, 640, 640)\n",
            "\n",
            "image 1/1 /content/drive/MyDrive/yolov11/dataset/unet_dataset_640/images/test/03_img156.png: 640x640 5 fish_larvaes, 8.6ms\n",
            "Speed: 1.4ms preprocess, 8.6ms inference, 1.2ms postprocess per image at shape (1, 3, 640, 640)\n",
            "\n",
            "image 1/1 /content/drive/MyDrive/yolov11/dataset/unet_dataset_640/images/test/03_img91.png: 640x640 5 fish_larvaes, 9.4ms\n",
            "Speed: 1.4ms preprocess, 9.4ms inference, 1.2ms postprocess per image at shape (1, 3, 640, 640)\n",
            "\n",
            "image 1/1 /content/drive/MyDrive/yolov11/dataset/unet_dataset_640/images/test/03_img200.png: 640x640 5 fish_larvaes, 8.9ms\n",
            "Speed: 1.4ms preprocess, 8.9ms inference, 1.1ms postprocess per image at shape (1, 3, 640, 640)\n",
            "\n",
            "image 1/1 /content/drive/MyDrive/yolov11/dataset/unet_dataset_640/images/test/01_img32.png: 640x640 4 fish_larvaes, 8.9ms\n",
            "Speed: 1.4ms preprocess, 8.9ms inference, 1.1ms postprocess per image at shape (1, 3, 640, 640)\n",
            "\n",
            "image 1/1 /content/drive/MyDrive/yolov11/dataset/unet_dataset_640/images/test/01_img40.png: 640x640 4 fish_larvaes, 10.7ms\n",
            "Speed: 1.5ms preprocess, 10.7ms inference, 1.3ms postprocess per image at shape (1, 3, 640, 640)\n",
            "\n",
            "image 1/1 /content/drive/MyDrive/yolov11/dataset/unet_dataset_640/images/test/01_img86.png: 640x640 4 fish_larvaes, 9.1ms\n",
            "Speed: 1.4ms preprocess, 9.1ms inference, 1.2ms postprocess per image at shape (1, 3, 640, 640)\n",
            "\n",
            "image 1/1 /content/drive/MyDrive/yolov11/dataset/unet_dataset_640/images/test/02_img03.png: 640x640 3 fish_larvaes, 8.8ms\n",
            "Speed: 1.4ms preprocess, 8.8ms inference, 1.3ms postprocess per image at shape (1, 3, 640, 640)\n",
            "\n",
            "image 1/1 /content/drive/MyDrive/yolov11/dataset/unet_dataset_640/images/test/04_img51.png: 640x640 4 fish_larvaes, 11.2ms\n",
            "Speed: 1.5ms preprocess, 11.2ms inference, 1.7ms postprocess per image at shape (1, 3, 640, 640)\n",
            "\n",
            "image 1/1 /content/drive/MyDrive/yolov11/dataset/unet_dataset_640/images/test/03_img48.png: 640x640 5 fish_larvaes, 9.2ms\n",
            "Speed: 1.5ms preprocess, 9.2ms inference, 1.2ms postprocess per image at shape (1, 3, 640, 640)\n",
            "\n",
            "image 1/1 /content/drive/MyDrive/yolov11/dataset/unet_dataset_640/images/test/03_img06.png: 640x640 5 fish_larvaes, 8.6ms\n",
            "Speed: 1.5ms preprocess, 8.6ms inference, 1.2ms postprocess per image at shape (1, 3, 640, 640)\n",
            "\n",
            "image 1/1 /content/drive/MyDrive/yolov11/dataset/unet_dataset_640/images/test/01_img51.png: 640x640 4 fish_larvaes, 11.1ms\n",
            "Speed: 1.4ms preprocess, 11.1ms inference, 1.4ms postprocess per image at shape (1, 3, 640, 640)\n",
            "\n",
            "image 1/1 /content/drive/MyDrive/yolov11/dataset/unet_dataset_640/images/test/01_img164.png: 640x640 4 fish_larvaes, 8.7ms\n",
            "Speed: 1.4ms preprocess, 8.7ms inference, 1.2ms postprocess per image at shape (1, 3, 640, 640)\n",
            "\n",
            "image 1/1 /content/drive/MyDrive/yolov11/dataset/unet_dataset_640/images/test/02_img31.png: 640x640 3 fish_larvaes, 9.6ms\n",
            "Speed: 1.7ms preprocess, 9.6ms inference, 1.2ms postprocess per image at shape (1, 3, 640, 640)\n",
            "\n",
            "image 1/1 /content/drive/MyDrive/yolov11/dataset/unet_dataset_640/images/test/03_img180.png: 640x640 5 fish_larvaes, 8.6ms\n",
            "Speed: 1.3ms preprocess, 8.6ms inference, 1.2ms postprocess per image at shape (1, 3, 640, 640)\n",
            "\n",
            "image 1/1 /content/drive/MyDrive/yolov11/dataset/unet_dataset_640/images/test/02_img77.png: 640x640 3 fish_larvaes, 10.6ms\n",
            "Speed: 1.4ms preprocess, 10.6ms inference, 1.3ms postprocess per image at shape (1, 3, 640, 640)\n",
            "\n",
            "image 1/1 /content/drive/MyDrive/yolov11/dataset/unet_dataset_640/images/test/01_img31.png: 640x640 4 fish_larvaes, 10.7ms\n",
            "Speed: 1.4ms preprocess, 10.7ms inference, 1.3ms postprocess per image at shape (1, 3, 640, 640)\n",
            "\n",
            "image 1/1 /content/drive/MyDrive/yolov11/dataset/unet_dataset_640/images/test/02_img121.png: 640x640 3 fish_larvaes, 11.1ms\n",
            "Speed: 1.7ms preprocess, 11.1ms inference, 1.6ms postprocess per image at shape (1, 3, 640, 640)\n",
            "\n",
            "image 1/1 /content/drive/MyDrive/yolov11/dataset/unet_dataset_640/images/test/01_img92.png: 640x640 4 fish_larvaes, 9.5ms\n",
            "Speed: 1.4ms preprocess, 9.5ms inference, 1.3ms postprocess per image at shape (1, 3, 640, 640)\n",
            "\n",
            "image 1/1 /content/drive/MyDrive/yolov11/dataset/unet_dataset_640/images/test/04_img52.png: 640x640 4 fish_larvaes, 9.3ms\n",
            "Speed: 1.4ms preprocess, 9.3ms inference, 1.3ms postprocess per image at shape (1, 3, 640, 640)\n",
            "\n",
            "image 1/1 /content/drive/MyDrive/yolov11/dataset/unet_dataset_640/images/test/01_img184.png: 640x640 3 fish_larvaes, 8.6ms\n",
            "Speed: 1.3ms preprocess, 8.6ms inference, 1.1ms postprocess per image at shape (1, 3, 640, 640)\n",
            "\n",
            "image 1/1 /content/drive/MyDrive/yolov11/dataset/unet_dataset_640/images/test/03_img53.png: 640x640 5 fish_larvaes, 9.7ms\n",
            "Speed: 1.4ms preprocess, 9.7ms inference, 1.2ms postprocess per image at shape (1, 3, 640, 640)\n",
            "\n",
            "image 1/1 /content/drive/MyDrive/yolov11/dataset/unet_dataset_640/images/test/04_img116.png: 640x640 4 fish_larvaes, 8.5ms\n",
            "Speed: 1.3ms preprocess, 8.5ms inference, 1.2ms postprocess per image at shape (1, 3, 640, 640)\n",
            "\n",
            "image 1/1 /content/drive/MyDrive/yolov11/dataset/unet_dataset_640/images/test/02_img62.png: 640x640 3 fish_larvaes, 9.3ms\n",
            "Speed: 1.5ms preprocess, 9.3ms inference, 1.3ms postprocess per image at shape (1, 3, 640, 640)\n",
            "\n",
            "image 1/1 /content/drive/MyDrive/yolov11/dataset/unet_dataset_640/images/test/02_img85.png: 640x640 3 fish_larvaes, 11.1ms\n",
            "Speed: 1.5ms preprocess, 11.1ms inference, 1.5ms postprocess per image at shape (1, 3, 640, 640)\n",
            "\n",
            "image 1/1 /content/drive/MyDrive/yolov11/dataset/unet_dataset_640/images/test/10_img29.png: 640x640 4 fish_larvaes, 12.2ms\n",
            "Speed: 1.8ms preprocess, 12.2ms inference, 1.6ms postprocess per image at shape (1, 3, 640, 640)\n",
            "\n",
            "image 1/1 /content/drive/MyDrive/yolov11/dataset/unet_dataset_640/images/test/10_img103.png: 640x640 3 fish_larvaes, 9.0ms\n",
            "Speed: 1.5ms preprocess, 9.0ms inference, 1.2ms postprocess per image at shape (1, 3, 640, 640)\n",
            "\n",
            "image 1/1 /content/drive/MyDrive/yolov11/dataset/unet_dataset_640/images/test/08_img01.png: 640x640 3 fish_larvaes, 9.9ms\n",
            "Speed: 1.4ms preprocess, 9.9ms inference, 1.3ms postprocess per image at shape (1, 3, 640, 640)\n",
            "\n",
            "image 1/1 /content/drive/MyDrive/yolov11/dataset/unet_dataset_640/images/test/05_img121.png: 640x640 1 fish_larvae, 9.2ms\n",
            "Speed: 1.5ms preprocess, 9.2ms inference, 1.3ms postprocess per image at shape (1, 3, 640, 640)\n",
            "\n",
            "image 1/1 /content/drive/MyDrive/yolov11/dataset/unet_dataset_640/images/test/09_img149.png: 640x640 3 fish_larvaes, 11.1ms\n",
            "Speed: 1.7ms preprocess, 11.1ms inference, 1.3ms postprocess per image at shape (1, 3, 640, 640)\n",
            "\n",
            "image 1/1 /content/drive/MyDrive/yolov11/dataset/unet_dataset_640/images/test/10_img151.png: 640x640 3 fish_larvaes, 11.7ms\n",
            "Speed: 1.6ms preprocess, 11.7ms inference, 1.3ms postprocess per image at shape (1, 3, 640, 640)\n",
            "\n",
            "image 1/1 /content/drive/MyDrive/yolov11/dataset/unet_dataset_640/images/test/06_img52.png: 640x640 1 fish_larvae, 10.1ms\n",
            "Speed: 1.5ms preprocess, 10.1ms inference, 1.2ms postprocess per image at shape (1, 3, 640, 640)\n",
            "\n",
            "image 1/1 /content/drive/MyDrive/yolov11/dataset/unet_dataset_640/images/test/08_img402.png: 640x640 3 fish_larvaes, 9.1ms\n",
            "Speed: 1.4ms preprocess, 9.1ms inference, 1.3ms postprocess per image at shape (1, 3, 640, 640)\n",
            "\n",
            "image 1/1 /content/drive/MyDrive/yolov11/dataset/unet_dataset_640/images/test/07_img102.png: 640x640 3 fish_larvaes, 10.1ms\n",
            "Speed: 1.5ms preprocess, 10.1ms inference, 1.3ms postprocess per image at shape (1, 3, 640, 640)\n",
            "\n",
            "image 1/1 /content/drive/MyDrive/yolov11/dataset/unet_dataset_640/images/test/10_img378.png: 640x640 4 fish_larvaes, 8.8ms\n",
            "Speed: 1.4ms preprocess, 8.8ms inference, 1.2ms postprocess per image at shape (1, 3, 640, 640)\n",
            "\n",
            "image 1/1 /content/drive/MyDrive/yolov11/dataset/unet_dataset_640/images/test/05_img94.png: 640x640 1 fish_larvae, 10.1ms\n",
            "Speed: 1.4ms preprocess, 10.1ms inference, 1.3ms postprocess per image at shape (1, 3, 640, 640)\n",
            "\n",
            "image 1/1 /content/drive/MyDrive/yolov11/dataset/unet_dataset_640/images/test/04_img66.png: 640x640 4 fish_larvaes, 9.2ms\n",
            "Speed: 1.4ms preprocess, 9.2ms inference, 1.2ms postprocess per image at shape (1, 3, 640, 640)\n",
            "\n",
            "image 1/1 /content/drive/MyDrive/yolov11/dataset/unet_dataset_640/images/test/10_img366.png: 640x640 4 fish_larvaes, 9.8ms\n",
            "Speed: 1.5ms preprocess, 9.8ms inference, 1.2ms postprocess per image at shape (1, 3, 640, 640)\n",
            "\n",
            "image 1/1 /content/drive/MyDrive/yolov11/dataset/unet_dataset_640/images/test/05_img126.png: 640x640 1 fish_larvae, 8.8ms\n",
            "Speed: 1.4ms preprocess, 8.8ms inference, 1.2ms postprocess per image at shape (1, 3, 640, 640)\n",
            "\n",
            "image 1/1 /content/drive/MyDrive/yolov11/dataset/unet_dataset_640/images/test/06_img30.png: 640x640 1 fish_larvae, 9.1ms\n",
            "Speed: 1.3ms preprocess, 9.1ms inference, 1.1ms postprocess per image at shape (1, 3, 640, 640)\n",
            "\n",
            "image 1/1 /content/drive/MyDrive/yolov11/dataset/unet_dataset_640/images/test/10_img104.png: 640x640 3 fish_larvaes, 9.0ms\n",
            "Speed: 1.3ms preprocess, 9.0ms inference, 1.2ms postprocess per image at shape (1, 3, 640, 640)\n",
            "\n",
            "image 1/1 /content/drive/MyDrive/yolov11/dataset/unet_dataset_640/images/test/05_img330.png: 640x640 1 fish_larvae, 8.9ms\n",
            "Speed: 1.3ms preprocess, 8.9ms inference, 1.3ms postprocess per image at shape (1, 3, 640, 640)\n",
            "\n",
            "image 1/1 /content/drive/MyDrive/yolov11/dataset/unet_dataset_640/images/test/08_img486.png: 640x640 3 fish_larvaes, 8.8ms\n",
            "Speed: 1.4ms preprocess, 8.8ms inference, 1.2ms postprocess per image at shape (1, 3, 640, 640)\n",
            "\n",
            "image 1/1 /content/drive/MyDrive/yolov11/dataset/unet_dataset_640/images/test/05_img194.png: 640x640 1 fish_larvae, 9.0ms\n",
            "Speed: 1.4ms preprocess, 9.0ms inference, 1.3ms postprocess per image at shape (1, 3, 640, 640)\n",
            "\n",
            "image 1/1 /content/drive/MyDrive/yolov11/dataset/unet_dataset_640/images/test/08_img285.png: 640x640 3 fish_larvaes, 8.8ms\n",
            "Speed: 1.3ms preprocess, 8.8ms inference, 1.2ms postprocess per image at shape (1, 3, 640, 640)\n",
            "\n",
            "image 1/1 /content/drive/MyDrive/yolov11/dataset/unet_dataset_640/images/test/07_img71.png: 640x640 4 fish_larvaes, 8.8ms\n",
            "Speed: 1.4ms preprocess, 8.8ms inference, 1.3ms postprocess per image at shape (1, 3, 640, 640)\n",
            "\n",
            "image 1/1 /content/drive/MyDrive/yolov11/dataset/unet_dataset_640/images/test/06_img118.png: 640x640 1 fish_larvae, 8.6ms\n",
            "Speed: 1.4ms preprocess, 8.6ms inference, 1.2ms postprocess per image at shape (1, 3, 640, 640)\n",
            "\n",
            "image 1/1 /content/drive/MyDrive/yolov11/dataset/unet_dataset_640/images/test/08_img482.png: 640x640 3 fish_larvaes, 8.7ms\n",
            "Speed: 1.4ms preprocess, 8.7ms inference, 1.2ms postprocess per image at shape (1, 3, 640, 640)\n",
            "\n",
            "image 1/1 /content/drive/MyDrive/yolov11/dataset/unet_dataset_640/images/test/08_img418.png: 640x640 3 fish_larvaes, 8.9ms\n",
            "Speed: 1.5ms preprocess, 8.9ms inference, 1.3ms postprocess per image at shape (1, 3, 640, 640)\n",
            "\n",
            "image 1/1 /content/drive/MyDrive/yolov11/dataset/unet_dataset_640/images/test/10_img15.png: 640x640 4 fish_larvaes, 9.0ms\n",
            "Speed: 1.4ms preprocess, 9.0ms inference, 1.2ms postprocess per image at shape (1, 3, 640, 640)\n",
            "\n",
            "image 1/1 /content/drive/MyDrive/yolov11/dataset/unet_dataset_640/images/test/09_img10.png: 640x640 3 fish_larvaes, 9.0ms\n",
            "Speed: 1.6ms preprocess, 9.0ms inference, 1.2ms postprocess per image at shape (1, 3, 640, 640)\n",
            "\n",
            "image 1/1 /content/drive/MyDrive/yolov11/dataset/unet_dataset_640/images/test/08_img145.png: 640x640 3 fish_larvaes, 9.1ms\n",
            "Speed: 1.4ms preprocess, 9.1ms inference, 1.2ms postprocess per image at shape (1, 3, 640, 640)\n",
            "\n",
            "image 1/1 /content/drive/MyDrive/yolov11/dataset/unet_dataset_640/images/test/09_img81.png: 640x640 3 fish_larvaes, 9.9ms\n",
            "Speed: 1.4ms preprocess, 9.9ms inference, 1.2ms postprocess per image at shape (1, 3, 640, 640)\n",
            "\n",
            "image 1/1 /content/drive/MyDrive/yolov11/dataset/unet_dataset_640/images/test/07_img47.png: 640x640 4 fish_larvaes, 8.6ms\n",
            "Speed: 1.4ms preprocess, 8.6ms inference, 1.2ms postprocess per image at shape (1, 3, 640, 640)\n",
            "\n",
            "image 1/1 /content/drive/MyDrive/yolov11/dataset/unet_dataset_640/images/test/08_img384.png: 640x640 3 fish_larvaes, 10.9ms\n",
            "Speed: 1.5ms preprocess, 10.9ms inference, 1.5ms postprocess per image at shape (1, 3, 640, 640)\n",
            "\n",
            "image 1/1 /content/drive/MyDrive/yolov11/dataset/unet_dataset_640/images/test/04_img83.png: 640x640 4 fish_larvaes, 8.7ms\n",
            "Speed: 1.4ms preprocess, 8.7ms inference, 1.2ms postprocess per image at shape (1, 3, 640, 640)\n",
            "\n",
            "image 1/1 /content/drive/MyDrive/yolov11/dataset/unet_dataset_640/images/test/05_img164.png: 640x640 1 fish_larvae, 9.3ms\n",
            "Speed: 1.3ms preprocess, 9.3ms inference, 1.2ms postprocess per image at shape (1, 3, 640, 640)\n",
            "\n",
            "image 1/1 /content/drive/MyDrive/yolov11/dataset/unet_dataset_640/images/test/07_img20.png: 640x640 4 fish_larvaes, 9.9ms\n",
            "Speed: 1.4ms preprocess, 9.9ms inference, 1.3ms postprocess per image at shape (1, 3, 640, 640)\n",
            "\n",
            "image 1/1 /content/drive/MyDrive/yolov11/dataset/unet_dataset_640/images/test/06_img41.png: 640x640 1 fish_larvae, 8.4ms\n",
            "Speed: 1.4ms preprocess, 8.4ms inference, 1.1ms postprocess per image at shape (1, 3, 640, 640)\n",
            "\n",
            "image 1/1 /content/drive/MyDrive/yolov11/dataset/unet_dataset_640/images/test/10_img268.png: 640x640 4 fish_larvaes, 9.8ms\n",
            "Speed: 1.4ms preprocess, 9.8ms inference, 1.3ms postprocess per image at shape (1, 3, 640, 640)\n",
            "\n",
            "image 1/1 /content/drive/MyDrive/yolov11/dataset/unet_dataset_640/images/test/07_img77.png: 640x640 3 fish_larvaes, 9.7ms\n",
            "Speed: 1.4ms preprocess, 9.7ms inference, 1.3ms postprocess per image at shape (1, 3, 640, 640)\n",
            "\n",
            "image 1/1 /content/drive/MyDrive/yolov11/dataset/unet_dataset_640/images/test/07_img16.png: 640x640 4 fish_larvaes, 8.1ms\n",
            "Speed: 1.3ms preprocess, 8.1ms inference, 1.1ms postprocess per image at shape (1, 3, 640, 640)\n",
            "\n",
            "image 1/1 /content/drive/MyDrive/yolov11/dataset/unet_dataset_640/images/test/05_img05.png: 640x640 1 fish_larvae, 8.3ms\n",
            "Speed: 1.3ms preprocess, 8.3ms inference, 1.1ms postprocess per image at shape (1, 3, 640, 640)\n",
            "\n",
            "image 1/1 /content/drive/MyDrive/yolov11/dataset/unet_dataset_640/images/test/10_img304.png: 640x640 4 fish_larvaes, 8.5ms\n",
            "Speed: 1.4ms preprocess, 8.5ms inference, 1.2ms postprocess per image at shape (1, 3, 640, 640)\n",
            "\n",
            "image 1/1 /content/drive/MyDrive/yolov11/dataset/unet_dataset_640/images/test/08_img406.png: 640x640 3 fish_larvaes, 8.5ms\n",
            "Speed: 1.3ms preprocess, 8.5ms inference, 1.2ms postprocess per image at shape (1, 3, 640, 640)\n",
            "\n",
            "image 1/1 /content/drive/MyDrive/yolov11/dataset/unet_dataset_640/images/test/10_img387.png: 640x640 4 fish_larvaes, 8.4ms\n",
            "Speed: 1.4ms preprocess, 8.4ms inference, 1.1ms postprocess per image at shape (1, 3, 640, 640)\n",
            "\n",
            "image 1/1 /content/drive/MyDrive/yolov11/dataset/unet_dataset_640/images/test/08_img645.png: 640x640 3 fish_larvaes, 9.0ms\n",
            "Speed: 1.3ms preprocess, 9.0ms inference, 1.1ms postprocess per image at shape (1, 3, 640, 640)\n",
            "\n",
            "image 1/1 /content/drive/MyDrive/yolov11/dataset/unet_dataset_640/images/test/08_img365.png: 640x640 3 fish_larvaes, 8.7ms\n",
            "Speed: 1.4ms preprocess, 8.7ms inference, 1.1ms postprocess per image at shape (1, 3, 640, 640)\n",
            "\n",
            "image 1/1 /content/drive/MyDrive/yolov11/dataset/unet_dataset_640/images/test/09_img25.png: 640x640 3 fish_larvaes, 8.9ms\n",
            "Speed: 1.3ms preprocess, 8.9ms inference, 1.1ms postprocess per image at shape (1, 3, 640, 640)\n",
            "\n",
            "image 1/1 /content/drive/MyDrive/yolov11/dataset/unet_dataset_640/images/test/09_img53.png: 640x640 3 fish_larvaes, 10.7ms\n",
            "Speed: 1.6ms preprocess, 10.7ms inference, 1.4ms postprocess per image at shape (1, 3, 640, 640)\n",
            "\n",
            "image 1/1 /content/drive/MyDrive/yolov11/dataset/unet_dataset_640/images/test/08_img561.png: 640x640 3 fish_larvaes, 9.3ms\n",
            "Speed: 1.5ms preprocess, 9.3ms inference, 1.4ms postprocess per image at shape (1, 3, 640, 640)\n",
            "\n",
            "image 1/1 /content/drive/MyDrive/yolov11/dataset/unet_dataset_640/images/test/07_img07.png: 640x640 4 fish_larvaes, 8.9ms\n",
            "Speed: 1.4ms preprocess, 8.9ms inference, 1.2ms postprocess per image at shape (1, 3, 640, 640)\n",
            "\n",
            "image 1/1 /content/drive/MyDrive/yolov11/dataset/unet_dataset_640/images/test/10_img330.png: 640x640 4 fish_larvaes, 9.1ms\n",
            "Speed: 1.4ms preprocess, 9.1ms inference, 1.2ms postprocess per image at shape (1, 3, 640, 640)\n",
            "\n",
            "image 1/1 /content/drive/MyDrive/yolov11/dataset/unet_dataset_640/images/test/05_img68.png: 640x640 1 fish_larvae, 8.7ms\n",
            "Speed: 1.3ms preprocess, 8.7ms inference, 1.3ms postprocess per image at shape (1, 3, 640, 640)\n",
            "\n",
            "image 1/1 /content/drive/MyDrive/yolov11/dataset/unet_dataset_640/images/test/08_img547.png: 640x640 3 fish_larvaes, 9.0ms\n",
            "Speed: 1.4ms preprocess, 9.0ms inference, 1.2ms postprocess per image at shape (1, 3, 640, 640)\n",
            "\n",
            "image 1/1 /content/drive/MyDrive/yolov11/dataset/unet_dataset_640/images/test/08_img551.png: 640x640 3 fish_larvaes, 9.3ms\n",
            "Speed: 1.5ms preprocess, 9.3ms inference, 1.3ms postprocess per image at shape (1, 3, 640, 640)\n",
            "\n",
            "image 1/1 /content/drive/MyDrive/yolov11/dataset/unet_dataset_640/images/test/07_img62.png: 640x640 3 fish_larvaes, 8.9ms\n",
            "Speed: 1.4ms preprocess, 8.9ms inference, 1.3ms postprocess per image at shape (1, 3, 640, 640)\n",
            "\n",
            "image 1/1 /content/drive/MyDrive/yolov11/dataset/unet_dataset_640/images/test/09_img77.png: 640x640 3 fish_larvaes, 11.8ms\n",
            "Speed: 1.9ms preprocess, 11.8ms inference, 1.5ms postprocess per image at shape (1, 3, 640, 640)\n",
            "\n",
            "image 1/1 /content/drive/MyDrive/yolov11/dataset/unet_dataset_640/images/test/08_img176.png: 640x640 3 fish_larvaes, 9.3ms\n",
            "Speed: 1.4ms preprocess, 9.3ms inference, 1.2ms postprocess per image at shape (1, 3, 640, 640)\n",
            "\n",
            "image 1/1 /content/drive/MyDrive/yolov11/dataset/unet_dataset_640/images/test/08_img14.png: 640x640 3 fish_larvaes, 8.7ms\n",
            "Speed: 1.4ms preprocess, 8.7ms inference, 1.1ms postprocess per image at shape (1, 3, 640, 640)\n",
            "\n",
            "image 1/1 /content/drive/MyDrive/yolov11/dataset/unet_dataset_640/images/test/05_img240.png: 640x640 1 fish_larvae, 8.9ms\n",
            "Speed: 1.3ms preprocess, 8.9ms inference, 1.3ms postprocess per image at shape (1, 3, 640, 640)\n",
            "\n",
            "image 1/1 /content/drive/MyDrive/yolov11/dataset/unet_dataset_640/images/test/08_img590.png: 640x640 3 fish_larvaes, 9.6ms\n",
            "Speed: 1.4ms preprocess, 9.6ms inference, 1.2ms postprocess per image at shape (1, 3, 640, 640)\n",
            "\n",
            "image 1/1 /content/drive/MyDrive/yolov11/dataset/unet_dataset_640/images/test/08_img391.png: 640x640 3 fish_larvaes, 8.9ms\n",
            "Speed: 1.3ms preprocess, 8.9ms inference, 1.1ms postprocess per image at shape (1, 3, 640, 640)\n",
            "\n",
            "image 1/1 /content/drive/MyDrive/yolov11/dataset/unet_dataset_640/images/test/05_img356.png: 640x640 1 fish_larvae, 8.8ms\n",
            "Speed: 1.4ms preprocess, 8.8ms inference, 1.2ms postprocess per image at shape (1, 3, 640, 640)\n",
            "\n",
            "image 1/1 /content/drive/MyDrive/yolov11/dataset/unet_dataset_640/images/test/07_img53.png: 640x640 4 fish_larvaes, 8.8ms\n",
            "Speed: 1.3ms preprocess, 8.8ms inference, 1.2ms postprocess per image at shape (1, 3, 640, 640)\n",
            "\n",
            "image 1/1 /content/drive/MyDrive/yolov11/dataset/unet_dataset_640/images/test/08_img690.png: 640x640 3 fish_larvaes, 8.5ms\n",
            "Speed: 1.3ms preprocess, 8.5ms inference, 1.2ms postprocess per image at shape (1, 3, 640, 640)\n",
            "\n",
            "image 1/1 /content/drive/MyDrive/yolov11/dataset/unet_dataset_640/images/test/09_img107.png: 640x640 3 fish_larvaes, 8.9ms\n",
            "Speed: 1.3ms preprocess, 8.9ms inference, 1.1ms postprocess per image at shape (1, 3, 640, 640)\n",
            "\n",
            "image 1/1 /content/drive/MyDrive/yolov11/dataset/unet_dataset_640/images/test/05_img11.png: 640x640 1 fish_larvae, 9.6ms\n",
            "Speed: 1.6ms preprocess, 9.6ms inference, 1.2ms postprocess per image at shape (1, 3, 640, 640)\n",
            "\n",
            "image 1/1 /content/drive/MyDrive/yolov11/dataset/unet_dataset_640/images/test/05_img354.png: 640x640 1 fish_larvae, 9.1ms\n",
            "Speed: 1.5ms preprocess, 9.1ms inference, 1.8ms postprocess per image at shape (1, 3, 640, 640)\n",
            "\n",
            "image 1/1 /content/drive/MyDrive/yolov11/dataset/unet_dataset_640/images/test/10_img373.png: 640x640 4 fish_larvaes, 8.6ms\n",
            "Speed: 1.4ms preprocess, 8.6ms inference, 1.2ms postprocess per image at shape (1, 3, 640, 640)\n",
            "\n",
            "image 1/1 /content/drive/MyDrive/yolov11/dataset/unet_dataset_640/images/test/05_img299.png: 640x640 1 fish_larvae, 9.7ms\n",
            "Speed: 1.5ms preprocess, 9.7ms inference, 1.4ms postprocess per image at shape (1, 3, 640, 640)\n",
            "\n",
            "image 1/1 /content/drive/MyDrive/yolov11/dataset/unet_dataset_640/images/test/08_img364.png: 640x640 3 fish_larvaes, 9.9ms\n",
            "Speed: 1.6ms preprocess, 9.9ms inference, 1.2ms postprocess per image at shape (1, 3, 640, 640)\n",
            "\n",
            "image 1/1 /content/drive/MyDrive/yolov11/dataset/unet_dataset_640/images/test/08_img591.png: 640x640 3 fish_larvaes, 11.4ms\n",
            "Speed: 1.5ms preprocess, 11.4ms inference, 1.4ms postprocess per image at shape (1, 3, 640, 640)\n",
            "\n",
            "image 1/1 /content/drive/MyDrive/yolov11/dataset/unet_dataset_640/images/test/05_img239.png: 640x640 1 fish_larvae, 10.5ms\n",
            "Speed: 1.4ms preprocess, 10.5ms inference, 1.4ms postprocess per image at shape (1, 3, 640, 640)\n",
            "\n",
            "image 1/1 /content/drive/MyDrive/yolov11/dataset/unet_dataset_640/images/test/08_img385.png: 640x640 3 fish_larvaes, 10.8ms\n",
            "Speed: 1.4ms preprocess, 10.8ms inference, 1.3ms postprocess per image at shape (1, 3, 640, 640)\n",
            "\n",
            "image 1/1 /content/drive/MyDrive/yolov11/dataset/unet_dataset_640/images/test/08_img147.png: 640x640 3 fish_larvaes, 8.6ms\n",
            "Speed: 1.3ms preprocess, 8.6ms inference, 1.2ms postprocess per image at shape (1, 3, 640, 640)\n",
            "\n",
            "image 1/1 /content/drive/MyDrive/yolov11/dataset/unet_dataset_640/images/test/05_img320.png: 640x640 1 fish_larvae, 9.8ms\n",
            "Speed: 1.4ms preprocess, 9.8ms inference, 1.3ms postprocess per image at shape (1, 3, 640, 640)\n",
            "\n",
            "image 1/1 /content/drive/MyDrive/yolov11/dataset/unet_dataset_640/images/test/06_img99.png: 640x640 1 fish_larvae, 10.9ms\n",
            "Speed: 1.9ms preprocess, 10.9ms inference, 1.4ms postprocess per image at shape (1, 3, 640, 640)\n",
            "\n",
            "image 1/1 /content/drive/MyDrive/yolov11/dataset/unet_dataset_640/images/test/06_img83.png: 640x640 1 fish_larvae, 9.1ms\n",
            "Speed: 1.4ms preprocess, 9.1ms inference, 1.4ms postprocess per image at shape (1, 3, 640, 640)\n",
            "\n",
            "image 1/1 /content/drive/MyDrive/yolov11/dataset/unet_dataset_640/images/test/05_img257.png: 640x640 1 fish_larvae, 9.8ms\n",
            "Speed: 1.4ms preprocess, 9.8ms inference, 1.5ms postprocess per image at shape (1, 3, 640, 640)\n",
            "\n",
            "image 1/1 /content/drive/MyDrive/yolov11/dataset/unet_dataset_640/images/test/10_img182.png: 640x640 3 fish_larvaes, 9.7ms\n",
            "Speed: 1.4ms preprocess, 9.7ms inference, 1.4ms postprocess per image at shape (1, 3, 640, 640)\n",
            "\n",
            "image 1/1 /content/drive/MyDrive/yolov11/dataset/unet_dataset_640/images/test/08_img503.png: 640x640 2 fish_larvaes, 11.1ms\n",
            "Speed: 1.9ms preprocess, 11.1ms inference, 1.3ms postprocess per image at shape (1, 3, 640, 640)\n",
            "\n",
            "image 1/1 /content/drive/MyDrive/yolov11/dataset/unet_dataset_640/images/test/10_img310.png: 640x640 4 fish_larvaes, 11.6ms\n",
            "Speed: 2.2ms preprocess, 11.6ms inference, 1.4ms postprocess per image at shape (1, 3, 640, 640)\n",
            "\n",
            "image 1/1 /content/drive/MyDrive/yolov11/dataset/unet_dataset_640/images/test/08_img608.png: 640x640 3 fish_larvaes, 9.6ms\n",
            "Speed: 1.4ms preprocess, 9.6ms inference, 1.4ms postprocess per image at shape (1, 3, 640, 640)\n",
            "\n",
            "image 1/1 /content/drive/MyDrive/yolov11/dataset/unet_dataset_640/images/test/07_img32.png: 640x640 4 fish_larvaes, 9.7ms\n",
            "Speed: 1.4ms preprocess, 9.7ms inference, 1.3ms postprocess per image at shape (1, 3, 640, 640)\n",
            "\n",
            "image 1/1 /content/drive/MyDrive/yolov11/dataset/unet_dataset_640/images/test/07_img107.png: 640x640 5 fish_larvaes, 10.4ms\n",
            "Speed: 1.4ms preprocess, 10.4ms inference, 1.4ms postprocess per image at shape (1, 3, 640, 640)\n",
            "\n",
            "image 1/1 /content/drive/MyDrive/yolov11/dataset/unet_dataset_640/images/test/08_img180.png: 640x640 3 fish_larvaes, 8.5ms\n",
            "Speed: 1.4ms preprocess, 8.5ms inference, 1.4ms postprocess per image at shape (1, 3, 640, 640)\n",
            "\n",
            "image 1/1 /content/drive/MyDrive/yolov11/dataset/unet_dataset_640/images/test/10_img276.png: 640x640 4 fish_larvaes, 10.4ms\n",
            "Speed: 1.5ms preprocess, 10.4ms inference, 1.4ms postprocess per image at shape (1, 3, 640, 640)\n",
            "\n",
            "image 1/1 /content/drive/MyDrive/yolov11/dataset/unet_dataset_640/images/test/08_img686.png: 640x640 3 fish_larvaes, 11.0ms\n",
            "Speed: 1.5ms preprocess, 11.0ms inference, 1.5ms postprocess per image at shape (1, 3, 640, 640)\n",
            "\n",
            "image 1/1 /content/drive/MyDrive/yolov11/dataset/unet_dataset_640/images/test/08_img683.png: 640x640 3 fish_larvaes, 9.9ms\n",
            "Speed: 1.4ms preprocess, 9.9ms inference, 1.4ms postprocess per image at shape (1, 3, 640, 640)\n",
            "\n",
            "image 1/1 /content/drive/MyDrive/yolov11/dataset/unet_dataset_640/images/test/05_img228.png: 640x640 1 fish_larvae, 11.0ms\n",
            "Speed: 1.6ms preprocess, 11.0ms inference, 1.4ms postprocess per image at shape (1, 3, 640, 640)\n",
            "\n",
            "image 1/1 /content/drive/MyDrive/yolov11/dataset/unet_dataset_640/images/test/08_img664.png: 640x640 3 fish_larvaes, 11.5ms\n",
            "Speed: 1.5ms preprocess, 11.5ms inference, 1.5ms postprocess per image at shape (1, 3, 640, 640)\n",
            "\n",
            "image 1/1 /content/drive/MyDrive/yolov11/dataset/unet_dataset_640/images/test/08_img172.png: 640x640 3 fish_larvaes, 10.3ms\n",
            "Speed: 1.5ms preprocess, 10.3ms inference, 1.3ms postprocess per image at shape (1, 3, 640, 640)\n",
            "\n",
            "image 1/1 /content/drive/MyDrive/yolov11/dataset/unet_dataset_640/images/test/07_img24.png: 640x640 4 fish_larvaes, 10.0ms\n",
            "Speed: 1.8ms preprocess, 10.0ms inference, 1.4ms postprocess per image at shape (1, 3, 640, 640)\n",
            "\n",
            "image 1/1 /content/drive/MyDrive/yolov11/dataset/unet_dataset_640/images/test/06_img14.png: 640x640 1 fish_larvae, 9.5ms\n",
            "Speed: 1.4ms preprocess, 9.5ms inference, 1.2ms postprocess per image at shape (1, 3, 640, 640)\n",
            "\n",
            "image 1/1 /content/drive/MyDrive/yolov11/dataset/unet_dataset_640/images/test/08_img191.png: 640x640 3 fish_larvaes, 11.1ms\n",
            "Speed: 2.1ms preprocess, 11.1ms inference, 1.5ms postprocess per image at shape (1, 3, 640, 640)\n",
            "\n",
            "image 1/1 /content/drive/MyDrive/yolov11/dataset/unet_dataset_640/images/test/05_img24.png: 640x640 1 fish_larvae, 9.2ms\n",
            "Speed: 1.5ms preprocess, 9.2ms inference, 1.3ms postprocess per image at shape (1, 3, 640, 640)\n",
            "\n",
            "image 1/1 /content/drive/MyDrive/yolov11/dataset/unet_dataset_640/images/test/08_img710.png: 640x640 3 fish_larvaes, 8.9ms\n",
            "Speed: 1.4ms preprocess, 8.9ms inference, 1.2ms postprocess per image at shape (1, 3, 640, 640)\n",
            "\n",
            "image 1/1 /content/drive/MyDrive/yolov11/dataset/unet_dataset_640/images/test/10_img413.png: 640x640 4 fish_larvaes, 9.6ms\n",
            "Speed: 1.3ms preprocess, 9.6ms inference, 1.2ms postprocess per image at shape (1, 3, 640, 640)\n",
            "\n",
            "image 1/1 /content/drive/MyDrive/yolov11/dataset/unet_dataset_640/images/test/05_img177.png: 640x640 1 fish_larvae, 9.1ms\n",
            "Speed: 1.4ms preprocess, 9.1ms inference, 1.2ms postprocess per image at shape (1, 3, 640, 640)\n",
            "\n",
            "image 1/1 /content/drive/MyDrive/yolov11/dataset/unet_dataset_640/images/test/08_img194.png: 640x640 3 fish_larvaes, 11.5ms\n",
            "Speed: 2.0ms preprocess, 11.5ms inference, 1.5ms postprocess per image at shape (1, 3, 640, 640)\n",
            "\n",
            "image 1/1 /content/drive/MyDrive/yolov11/dataset/unet_dataset_640/images/test/10_img396.png: 640x640 4 fish_larvaes, 8.7ms\n",
            "Speed: 1.3ms preprocess, 8.7ms inference, 1.2ms postprocess per image at shape (1, 3, 640, 640)\n",
            "\n",
            "image 1/1 /content/drive/MyDrive/yolov11/dataset/unet_dataset_640/images/test/08_img374.png: 640x640 3 fish_larvaes, 8.8ms\n",
            "Speed: 1.4ms preprocess, 8.8ms inference, 1.2ms postprocess per image at shape (1, 3, 640, 640)\n",
            "\n",
            "image 1/1 /content/drive/MyDrive/yolov11/dataset/unet_dataset_640/images/test/10_img174.png: 640x640 3 fish_larvaes, 8.9ms\n",
            "Speed: 1.4ms preprocess, 8.9ms inference, 1.2ms postprocess per image at shape (1, 3, 640, 640)\n",
            "\n",
            "image 1/1 /content/drive/MyDrive/yolov11/dataset/unet_dataset_640/images/test/08_img571.png: 640x640 3 fish_larvaes, 12.0ms\n",
            "Speed: 1.9ms preprocess, 12.0ms inference, 1.5ms postprocess per image at shape (1, 3, 640, 640)\n",
            "\n",
            "image 1/1 /content/drive/MyDrive/yolov11/dataset/unet_dataset_640/images/test/10_img185.png: 640x640 3 fish_larvaes, 8.8ms\n",
            "Speed: 1.5ms preprocess, 8.8ms inference, 1.3ms postprocess per image at shape (1, 3, 640, 640)\n",
            "\n",
            "image 1/1 /content/drive/MyDrive/yolov11/dataset/unet_dataset_640/images/test/08_img137.png: 640x640 3 fish_larvaes, 8.7ms\n",
            "Speed: 1.3ms preprocess, 8.7ms inference, 1.1ms postprocess per image at shape (1, 3, 640, 640)\n",
            "\n",
            "image 1/1 /content/drive/MyDrive/yolov11/dataset/unet_dataset_640/images/test/05_img101.png: 640x640 1 fish_larvae, 8.4ms\n",
            "Speed: 1.3ms preprocess, 8.4ms inference, 1.2ms postprocess per image at shape (1, 3, 640, 640)\n",
            "\n",
            "image 1/1 /content/drive/MyDrive/yolov11/dataset/unet_dataset_640/images/test/08_img50.png: 640x640 3 fish_larvaes, 9.4ms\n",
            "Speed: 1.4ms preprocess, 9.4ms inference, 1.2ms postprocess per image at shape (1, 3, 640, 640)\n",
            "\n",
            "image 1/1 /content/drive/MyDrive/yolov11/dataset/unet_dataset_640/images/test/05_img187.png: 640x640 1 fish_larvae, 9.6ms\n",
            "Speed: 1.4ms preprocess, 9.6ms inference, 1.2ms postprocess per image at shape (1, 3, 640, 640)\n",
            "\n",
            "image 1/1 /content/drive/MyDrive/yolov11/dataset/unet_dataset_640/images/test/04_img85.png: 640x640 4 fish_larvaes, 11.2ms\n",
            "Speed: 2.2ms preprocess, 11.2ms inference, 1.4ms postprocess per image at shape (1, 3, 640, 640)\n",
            "\n",
            "image 1/1 /content/drive/MyDrive/yolov11/dataset/unet_dataset_640/images/test/10_img226.png: 640x640 4 fish_larvaes, 8.9ms\n",
            "Speed: 1.4ms preprocess, 8.9ms inference, 1.2ms postprocess per image at shape (1, 3, 640, 640)\n",
            "\n",
            "image 1/1 /content/drive/MyDrive/yolov11/dataset/unet_dataset_640/images/test/08_img606.png: 640x640 3 fish_larvaes, 11.2ms\n",
            "Speed: 2.1ms preprocess, 11.2ms inference, 1.5ms postprocess per image at shape (1, 3, 640, 640)\n",
            "\n",
            "image 1/1 /content/drive/MyDrive/yolov11/dataset/unet_dataset_640/images/test/05_img160.png: 640x640 1 fish_larvae, 9.4ms\n",
            "Speed: 1.4ms preprocess, 9.4ms inference, 1.5ms postprocess per image at shape (1, 3, 640, 640)\n",
            "\n",
            "image 1/1 /content/drive/MyDrive/yolov11/dataset/unet_dataset_640/images/test/08_img190.png: 640x640 3 fish_larvaes, 11.1ms\n",
            "Speed: 1.9ms preprocess, 11.1ms inference, 1.5ms postprocess per image at shape (1, 3, 640, 640)\n",
            "\n",
            "image 1/1 /content/drive/MyDrive/yolov11/dataset/unet_dataset_640/images/test/07_img48.png: 640x640 4 fish_larvaes, 11.0ms\n",
            "Speed: 1.6ms preprocess, 11.0ms inference, 1.4ms postprocess per image at shape (1, 3, 640, 640)\n",
            "\n",
            "image 1/1 /content/drive/MyDrive/yolov11/dataset/unet_dataset_640/images/test/10_img11.png: 640x640 4 fish_larvaes, 11.1ms\n",
            "Speed: 1.4ms preprocess, 11.1ms inference, 1.3ms postprocess per image at shape (1, 3, 640, 640)\n",
            "\n",
            "image 1/1 /content/drive/MyDrive/yolov11/dataset/unet_dataset_640/images/test/10_img45.png: 640x640 4 fish_larvaes, 10.6ms\n",
            "Speed: 1.4ms preprocess, 10.6ms inference, 1.5ms postprocess per image at shape (1, 3, 640, 640)\n",
            "\n",
            "image 1/1 /content/drive/MyDrive/yolov11/dataset/unet_dataset_640/images/test/05_img292.png: 640x640 1 fish_larvae, 9.0ms\n",
            "Speed: 1.3ms preprocess, 9.0ms inference, 1.1ms postprocess per image at shape (1, 3, 640, 640)\n",
            "\n",
            "image 1/1 /content/drive/MyDrive/yolov11/dataset/unet_dataset_640/images/test/10_img91.png: 640x640 3 fish_larvaes, 10.7ms\n",
            "Speed: 1.9ms preprocess, 10.7ms inference, 1.4ms postprocess per image at shape (1, 3, 640, 640)\n",
            "\n",
            "image 1/1 /content/drive/MyDrive/yolov11/dataset/unet_dataset_640/images/test/08_img213.png: 640x640 3 fish_larvaes, 10.4ms\n",
            "Speed: 1.9ms preprocess, 10.4ms inference, 1.3ms postprocess per image at shape (1, 3, 640, 640)\n",
            "\n",
            "image 1/1 /content/drive/MyDrive/yolov11/dataset/unet_dataset_640/images/test/10_img240.png: 640x640 4 fish_larvaes, 10.5ms\n",
            "Speed: 1.8ms preprocess, 10.5ms inference, 1.3ms postprocess per image at shape (1, 3, 640, 640)\n",
            "\n",
            "image 1/1 /content/drive/MyDrive/yolov11/dataset/unet_dataset_640/images/test/10_img267.png: 640x640 4 fish_larvaes, 9.0ms\n",
            "Speed: 1.3ms preprocess, 9.0ms inference, 1.2ms postprocess per image at shape (1, 3, 640, 640)\n",
            "\n",
            "image 1/1 /content/drive/MyDrive/yolov11/dataset/unet_dataset_640/images/test/08_img148.png: 640x640 3 fish_larvaes, 10.5ms\n",
            "Speed: 2.0ms preprocess, 10.5ms inference, 1.4ms postprocess per image at shape (1, 3, 640, 640)\n",
            "\n",
            "image 1/1 /content/drive/MyDrive/yolov11/dataset/unet_dataset_640/images/test/10_img113.png: 640x640 3 fish_larvaes, 10.0ms\n",
            "Speed: 1.4ms preprocess, 10.0ms inference, 1.3ms postprocess per image at shape (1, 3, 640, 640)\n",
            "\n",
            "image 1/1 /content/drive/MyDrive/yolov11/dataset/unet_dataset_640/images/test/10_img295.png: 640x640 4 fish_larvaes, 10.0ms\n",
            "Speed: 1.6ms preprocess, 10.0ms inference, 1.2ms postprocess per image at shape (1, 3, 640, 640)\n",
            "\n",
            "image 1/1 /content/drive/MyDrive/yolov11/dataset/unet_dataset_640/images/test/10_img134.png: 640x640 3 fish_larvaes, 9.2ms\n",
            "Speed: 1.9ms preprocess, 9.2ms inference, 1.4ms postprocess per image at shape (1, 3, 640, 640)\n",
            "\n",
            "image 1/1 /content/drive/MyDrive/yolov11/dataset/unet_dataset_640/images/test/08_img122.png: 640x640 3 fish_larvaes, 8.9ms\n",
            "Speed: 1.4ms preprocess, 8.9ms inference, 1.2ms postprocess per image at shape (1, 3, 640, 640)\n",
            "\n",
            "image 1/1 /content/drive/MyDrive/yolov11/dataset/unet_dataset_640/images/test/08_img677.png: 640x640 3 fish_larvaes, 9.1ms\n",
            "Speed: 1.4ms preprocess, 9.1ms inference, 1.3ms postprocess per image at shape (1, 3, 640, 640)\n",
            "\n",
            "image 1/1 /content/drive/MyDrive/yolov11/dataset/unet_dataset_640/images/test/06_img03.png: 640x640 1 fish_larvae, 11.5ms\n",
            "Speed: 2.0ms preprocess, 11.5ms inference, 1.5ms postprocess per image at shape (1, 3, 640, 640)\n",
            "\n",
            "image 1/1 /content/drive/MyDrive/yolov11/dataset/unet_dataset_640/images/test/06_img131.png: 640x640 1 fish_larvae, 9.7ms\n",
            "Speed: 1.4ms preprocess, 9.7ms inference, 1.2ms postprocess per image at shape (1, 3, 640, 640)\n",
            "\n",
            "image 1/1 /content/drive/MyDrive/yolov11/dataset/unet_dataset_640/images/test/08_img334.png: 640x640 3 fish_larvaes, 9.5ms\n",
            "Speed: 1.4ms preprocess, 9.5ms inference, 1.3ms postprocess per image at shape (1, 3, 640, 640)\n",
            "\n",
            "image 1/1 /content/drive/MyDrive/yolov11/dataset/unet_dataset_640/images/test/10_img398.png: 640x640 4 fish_larvaes, 9.6ms\n",
            "Speed: 1.4ms preprocess, 9.6ms inference, 1.3ms postprocess per image at shape (1, 3, 640, 640)\n",
            "\n",
            "image 1/1 /content/drive/MyDrive/yolov11/dataset/unet_dataset_640/images/test/07_img18.png: 640x640 4 fish_larvaes, 10.8ms\n",
            "Speed: 2.0ms preprocess, 10.8ms inference, 1.3ms postprocess per image at shape (1, 3, 640, 640)\n",
            "\n",
            "image 1/1 /content/drive/MyDrive/yolov11/dataset/unet_dataset_640/images/test/05_img205.png: 640x640 1 fish_larvae, 9.7ms\n",
            "Speed: 1.5ms preprocess, 9.7ms inference, 1.3ms postprocess per image at shape (1, 3, 640, 640)\n",
            "\n",
            "image 1/1 /content/drive/MyDrive/yolov11/dataset/unet_dataset_640/images/test/06_img124.png: 640x640 1 fish_larvae, 10.7ms\n",
            "Speed: 1.9ms preprocess, 10.7ms inference, 1.3ms postprocess per image at shape (1, 3, 640, 640)\n",
            "\n",
            "image 1/1 /content/drive/MyDrive/yolov11/dataset/unet_dataset_640/images/test/10_img383.png: 640x640 4 fish_larvaes, 8.7ms\n",
            "Speed: 1.4ms preprocess, 8.7ms inference, 1.2ms postprocess per image at shape (1, 3, 640, 640)\n",
            "\n",
            "image 1/1 /content/drive/MyDrive/yolov11/dataset/unet_dataset_640/images/test/06_img88.png: 640x640 1 fish_larvae, 10.3ms\n",
            "Speed: 1.5ms preprocess, 10.3ms inference, 1.3ms postprocess per image at shape (1, 3, 640, 640)\n",
            "\n",
            "image 1/1 /content/drive/MyDrive/yolov11/dataset/unet_dataset_640/images/test/10_img214.png: 640x640 4 fish_larvaes, 9.5ms\n",
            "Speed: 1.5ms preprocess, 9.5ms inference, 1.3ms postprocess per image at shape (1, 3, 640, 640)\n",
            "\n",
            "image 1/1 /content/drive/MyDrive/yolov11/dataset/unet_dataset_640/images/test/10_img106.png: 640x640 3 fish_larvaes, 9.8ms\n",
            "Speed: 1.5ms preprocess, 9.8ms inference, 1.3ms postprocess per image at shape (1, 3, 640, 640)\n",
            "\n",
            "image 1/1 /content/drive/MyDrive/yolov11/dataset/unet_dataset_640/images/test/08_img636.png: 640x640 4 fish_larvaes, 10.7ms\n",
            "Speed: 1.7ms preprocess, 10.7ms inference, 1.4ms postprocess per image at shape (1, 3, 640, 640)\n",
            "\n",
            "image 1/1 /content/drive/MyDrive/yolov11/dataset/unet_dataset_640/images/test/08_img558.png: 640x640 3 fish_larvaes, 9.5ms\n",
            "Speed: 1.5ms preprocess, 9.5ms inference, 1.3ms postprocess per image at shape (1, 3, 640, 640)\n",
            "\n",
            "image 1/1 /content/drive/MyDrive/yolov11/dataset/unet_dataset_640/images/test/10_img426.png: 640x640 4 fish_larvaes, 9.6ms\n",
            "Speed: 1.5ms preprocess, 9.6ms inference, 1.3ms postprocess per image at shape (1, 3, 640, 640)\n",
            "\n",
            "image 1/1 /content/drive/MyDrive/yolov11/dataset/unet_dataset_640/images/test/10_img191.png: 640x640 3 fish_larvaes, 9.6ms\n",
            "Speed: 1.5ms preprocess, 9.6ms inference, 1.3ms postprocess per image at shape (1, 3, 640, 640)\n",
            "\n",
            "image 1/1 /content/drive/MyDrive/yolov11/dataset/unet_dataset_640/images/test/05_img347.png: 640x640 1 fish_larvae, 9.2ms\n",
            "Speed: 1.4ms preprocess, 9.2ms inference, 1.3ms postprocess per image at shape (1, 3, 640, 640)\n",
            "\n",
            "image 1/1 /content/drive/MyDrive/yolov11/dataset/unet_dataset_640/images/test/05_img309.png: 640x640 1 fish_larvae, 12.6ms\n",
            "Speed: 1.8ms preprocess, 12.6ms inference, 1.6ms postprocess per image at shape (1, 3, 640, 640)\n",
            "\n",
            "image 1/1 /content/drive/MyDrive/yolov11/dataset/unet_dataset_640/images/test/06_img01.png: 640x640 1 fish_larvae, 8.9ms\n",
            "Speed: 1.5ms preprocess, 8.9ms inference, 1.2ms postprocess per image at shape (1, 3, 640, 640)\n",
            "\n",
            "image 1/1 /content/drive/MyDrive/yolov11/dataset/unet_dataset_640/images/test/05_img93.png: 640x640 1 fish_larvae, 9.5ms\n",
            "Speed: 1.4ms preprocess, 9.5ms inference, 1.2ms postprocess per image at shape (1, 3, 640, 640)\n",
            "\n",
            "image 1/1 /content/drive/MyDrive/yolov11/dataset/unet_dataset_640/images/test/08_img531.png: 640x640 3 fish_larvaes, 9.5ms\n",
            "Speed: 1.4ms preprocess, 9.5ms inference, 1.2ms postprocess per image at shape (1, 3, 640, 640)\n",
            "\n",
            "image 1/1 /content/drive/MyDrive/yolov11/dataset/unet_dataset_640/images/test/09_img138.png: 640x640 3 fish_larvaes, 9.3ms\n",
            "Speed: 1.4ms preprocess, 9.3ms inference, 1.2ms postprocess per image at shape (1, 3, 640, 640)\n",
            "\n",
            "image 1/1 /content/drive/MyDrive/yolov11/dataset/unet_dataset_640/images/test/07_img69.png: 640x640 4 fish_larvaes, 9.0ms\n",
            "Speed: 1.4ms preprocess, 9.0ms inference, 1.1ms postprocess per image at shape (1, 3, 640, 640)\n",
            "\n",
            "image 1/1 /content/drive/MyDrive/yolov11/dataset/unet_dataset_640/images/test/08_img233.png: 640x640 3 fish_larvaes, 13.1ms\n",
            "Speed: 1.8ms preprocess, 13.1ms inference, 1.8ms postprocess per image at shape (1, 3, 640, 640)\n",
            "\n",
            "image 1/1 /content/drive/MyDrive/yolov11/dataset/unet_dataset_640/images/test/05_img183.png: 640x640 1 fish_larvae, 13.9ms\n",
            "Speed: 1.8ms preprocess, 13.9ms inference, 1.8ms postprocess per image at shape (1, 3, 640, 640)\n",
            "\n",
            "image 1/1 /content/drive/MyDrive/yolov11/dataset/unet_dataset_640/images/test/08_img118.png: 640x640 3 fish_larvaes, 10.0ms\n",
            "Speed: 1.5ms preprocess, 10.0ms inference, 1.2ms postprocess per image at shape (1, 3, 640, 640)\n",
            "\n",
            "image 1/1 /content/drive/MyDrive/yolov11/dataset/unet_dataset_640/images/test/08_img268.png: 640x640 3 fish_larvaes, 10.0ms\n",
            "Speed: 1.4ms preprocess, 10.0ms inference, 1.2ms postprocess per image at shape (1, 3, 640, 640)\n",
            "\n",
            "image 1/1 /content/drive/MyDrive/yolov11/dataset/unet_dataset_640/images/test/05_img340.png: 640x640 1 fish_larvae, 9.4ms\n",
            "Speed: 1.5ms preprocess, 9.4ms inference, 1.3ms postprocess per image at shape (1, 3, 640, 640)\n",
            "\n",
            "image 1/1 /content/drive/MyDrive/yolov11/dataset/unet_dataset_640/images/test/06_img23.png: 640x640 1 fish_larvae, 9.0ms\n",
            "Speed: 1.4ms preprocess, 9.0ms inference, 1.2ms postprocess per image at shape (1, 3, 640, 640)\n",
            "\n",
            "image 1/1 /content/drive/MyDrive/yolov11/dataset/unet_dataset_640/images/test/05_img78.png: 640x640 1 fish_larvae, 11.0ms\n",
            "Speed: 1.5ms preprocess, 11.0ms inference, 1.4ms postprocess per image at shape (1, 3, 640, 640)\n",
            "\n",
            "image 1/1 /content/drive/MyDrive/yolov11/dataset/unet_dataset_640/images/test/06_img108.png: 640x640 1 fish_larvae, 10.7ms\n",
            "Speed: 1.5ms preprocess, 10.7ms inference, 1.4ms postprocess per image at shape (1, 3, 640, 640)\n",
            "\n",
            "image 1/1 /content/drive/MyDrive/yolov11/dataset/unet_dataset_640/images/test/08_img647.png: 640x640 3 fish_larvaes, 10.5ms\n",
            "Speed: 1.3ms preprocess, 10.5ms inference, 1.5ms postprocess per image at shape (1, 3, 640, 640)\n",
            "\n",
            "image 1/1 /content/drive/MyDrive/yolov11/dataset/unet_dataset_640/images/test/08_img523.png: 640x640 3 fish_larvaes, 10.8ms\n",
            "Speed: 1.5ms preprocess, 10.8ms inference, 1.3ms postprocess per image at shape (1, 3, 640, 640)\n",
            "\n",
            "image 1/1 /content/drive/MyDrive/yolov11/dataset/unet_dataset_640/images/test/08_img135.png: 640x640 3 fish_larvaes, 10.8ms\n",
            "Speed: 1.5ms preprocess, 10.8ms inference, 1.3ms postprocess per image at shape (1, 3, 640, 640)\n",
            "\n",
            "image 1/1 /content/drive/MyDrive/yolov11/dataset/unet_dataset_640/images/test/08_img87.png: 640x640 3 fish_larvaes, 14.4ms\n",
            "Speed: 1.9ms preprocess, 14.4ms inference, 1.8ms postprocess per image at shape (1, 3, 640, 640)\n",
            "\n",
            "image 1/1 /content/drive/MyDrive/yolov11/dataset/unet_dataset_640/images/test/10_img137.png: 640x640 3 fish_larvaes, 8.9ms\n",
            "Speed: 1.5ms preprocess, 8.9ms inference, 1.4ms postprocess per image at shape (1, 3, 640, 640)\n",
            "\n",
            "image 1/1 /content/drive/MyDrive/yolov11/dataset/unet_dataset_640/images/test/08_img78.png: 640x640 3 fish_larvaes, 9.1ms\n",
            "Speed: 1.4ms preprocess, 9.1ms inference, 1.2ms postprocess per image at shape (1, 3, 640, 640)\n",
            "\n",
            "image 1/1 /content/drive/MyDrive/yolov11/dataset/unet_dataset_640/images/test/06_img119.png: 640x640 1 fish_larvae, 12.5ms\n",
            "Speed: 1.7ms preprocess, 12.5ms inference, 1.6ms postprocess per image at shape (1, 3, 640, 640)\n",
            "\n",
            "image 1/1 /content/drive/MyDrive/yolov11/dataset/unet_dataset_640/images/test/05_img250.png: 640x640 1 fish_larvae, 10.4ms\n",
            "Speed: 1.6ms preprocess, 10.4ms inference, 1.4ms postprocess per image at shape (1, 3, 640, 640)\n",
            "\n",
            "image 1/1 /content/drive/MyDrive/yolov11/dataset/unet_dataset_640/images/test/09_img74.png: 640x640 3 fish_larvaes, 12.7ms\n",
            "Speed: 1.7ms preprocess, 12.7ms inference, 1.5ms postprocess per image at shape (1, 3, 640, 640)\n",
            "\n",
            "image 1/1 /content/drive/MyDrive/yolov11/dataset/unet_dataset_640/images/test/09_img17.png: 640x640 3 fish_larvaes, 8.4ms\n",
            "Speed: 1.4ms preprocess, 8.4ms inference, 1.3ms postprocess per image at shape (1, 3, 640, 640)\n",
            "\n",
            "image 1/1 /content/drive/MyDrive/yolov11/dataset/unet_dataset_640/images/test/05_img115.png: 640x640 1 fish_larvae, 8.5ms\n",
            "Speed: 1.4ms preprocess, 8.5ms inference, 1.2ms postprocess per image at shape (1, 3, 640, 640)\n",
            "\n",
            "image 1/1 /content/drive/MyDrive/yolov11/dataset/unet_dataset_640/images/test/05_img343.png: 640x640 1 fish_larvae, 12.9ms\n",
            "Speed: 1.8ms preprocess, 12.9ms inference, 1.5ms postprocess per image at shape (1, 3, 640, 640)\n",
            "\n",
            "image 1/1 /content/drive/MyDrive/yolov11/dataset/unet_dataset_640/images/test/08_img149.png: 640x640 3 fish_larvaes, 11.5ms\n",
            "Speed: 1.4ms preprocess, 11.5ms inference, 1.2ms postprocess per image at shape (1, 3, 640, 640)\n",
            "\n",
            "image 1/1 /content/drive/MyDrive/yolov11/dataset/unet_dataset_640/images/test/08_img193.png: 640x640 3 fish_larvaes, 9.0ms\n",
            "Speed: 1.4ms preprocess, 9.0ms inference, 1.2ms postprocess per image at shape (1, 3, 640, 640)\n",
            "\n",
            "image 1/1 /content/drive/MyDrive/yolov11/dataset/unet_dataset_640/images/test/05_img323.png: 640x640 1 fish_larvae, 8.3ms\n",
            "Speed: 1.3ms preprocess, 8.3ms inference, 1.1ms postprocess per image at shape (1, 3, 640, 640)\n",
            "\n",
            "image 1/1 /content/drive/MyDrive/yolov11/dataset/unet_dataset_640/images/test/09_img163.png: 640x640 3 fish_larvaes, 11.1ms\n",
            "Speed: 1.7ms preprocess, 11.1ms inference, 1.2ms postprocess per image at shape (1, 3, 640, 640)\n",
            "\n",
            "image 1/1 /content/drive/MyDrive/yolov11/dataset/unet_dataset_640/images/test/08_img698.png: 640x640 3 fish_larvaes, 9.3ms\n",
            "Speed: 1.5ms preprocess, 9.3ms inference, 1.2ms postprocess per image at shape (1, 3, 640, 640)\n",
            "\n",
            "image 1/1 /content/drive/MyDrive/yolov11/dataset/unet_dataset_640/images/test/08_img342.png: 640x640 3 fish_larvaes, 11.9ms\n",
            "Speed: 1.6ms preprocess, 11.9ms inference, 1.5ms postprocess per image at shape (1, 3, 640, 640)\n",
            "\n",
            "image 1/1 /content/drive/MyDrive/yolov11/dataset/unet_dataset_640/images/test/05_img357.png: 640x640 1 fish_larvae, 12.0ms\n",
            "Speed: 1.8ms preprocess, 12.0ms inference, 1.5ms postprocess per image at shape (1, 3, 640, 640)\n",
            "\n",
            "image 1/1 /content/drive/MyDrive/yolov11/dataset/unet_dataset_640/images/test/10_img112.png: 640x640 3 fish_larvaes, 8.6ms\n",
            "Speed: 1.4ms preprocess, 8.6ms inference, 1.2ms postprocess per image at shape (1, 3, 640, 640)\n",
            "\n",
            "image 1/1 /content/drive/MyDrive/yolov11/dataset/unet_dataset_640/images/test/09_img26.png: 640x640 3 fish_larvaes, 9.1ms\n",
            "Speed: 1.3ms preprocess, 9.1ms inference, 1.1ms postprocess per image at shape (1, 3, 640, 640)\n",
            "\n",
            "image 1/1 /content/drive/MyDrive/yolov11/dataset/unet_dataset_640/images/test/08_img201.png: 640x640 3 fish_larvaes, 9.2ms\n",
            "Speed: 1.4ms preprocess, 9.2ms inference, 1.2ms postprocess per image at shape (1, 3, 640, 640)\n",
            "\n",
            "image 1/1 /content/drive/MyDrive/yolov11/dataset/unet_dataset_640/images/test/08_img51.png: 640x640 3 fish_larvaes, 9.0ms\n",
            "Speed: 1.4ms preprocess, 9.0ms inference, 1.2ms postprocess per image at shape (1, 3, 640, 640)\n",
            "\n",
            "image 1/1 /content/drive/MyDrive/yolov11/dataset/unet_dataset_640/images/test/10_img391.png: 640x640 4 fish_larvaes, 9.2ms\n",
            "Speed: 1.3ms preprocess, 9.2ms inference, 1.2ms postprocess per image at shape (1, 3, 640, 640)\n",
            "\n",
            "image 1/1 /content/drive/MyDrive/yolov11/dataset/unet_dataset_640/images/test/10_img184.png: 640x640 3 fish_larvaes, 8.8ms\n",
            "Speed: 1.4ms preprocess, 8.8ms inference, 1.2ms postprocess per image at shape (1, 3, 640, 640)\n",
            "\n",
            "image 1/1 /content/drive/MyDrive/yolov11/dataset/unet_dataset_640/images/test/05_img263.png: 640x640 1 fish_larvae, 13.8ms\n",
            "Speed: 1.8ms preprocess, 13.8ms inference, 1.5ms postprocess per image at shape (1, 3, 640, 640)\n",
            "\n",
            "image 1/1 /content/drive/MyDrive/yolov11/dataset/unet_dataset_640/images/test/09_img64.png: 640x640 3 fish_larvaes, 9.2ms\n",
            "Speed: 1.7ms preprocess, 9.2ms inference, 1.2ms postprocess per image at shape (1, 3, 640, 640)\n",
            "\n",
            "image 1/1 /content/drive/MyDrive/yolov11/dataset/unet_dataset_640/images/test/06_img137.png: 640x640 1 fish_larvae, 8.8ms\n",
            "Speed: 1.3ms preprocess, 8.8ms inference, 1.2ms postprocess per image at shape (1, 3, 640, 640)\n",
            "\n",
            "image 1/1 /content/drive/MyDrive/yolov11/dataset/unet_dataset_640/images/test/09_img02.png: 640x640 3 fish_larvaes, 10.3ms\n",
            "Speed: 1.7ms preprocess, 10.3ms inference, 1.2ms postprocess per image at shape (1, 3, 640, 640)\n",
            "\n",
            "image 1/1 /content/drive/MyDrive/yolov11/dataset/unet_dataset_640/images/test/08_img270.png: 640x640 3 fish_larvaes, 12.8ms\n",
            "Speed: 1.7ms preprocess, 12.8ms inference, 1.5ms postprocess per image at shape (1, 3, 640, 640)\n",
            "\n",
            "image 1/1 /content/drive/MyDrive/yolov11/dataset/unet_dataset_640/images/test/09_img31.png: 640x640 3 fish_larvaes, 9.0ms\n",
            "Speed: 1.3ms preprocess, 9.0ms inference, 1.2ms postprocess per image at shape (1, 3, 640, 640)\n",
            "\n",
            "image 1/1 /content/drive/MyDrive/yolov11/dataset/unet_dataset_640/images/test/10_img43.png: 640x640 4 fish_larvaes, 12.7ms\n",
            "Speed: 1.9ms preprocess, 12.7ms inference, 1.5ms postprocess per image at shape (1, 3, 640, 640)\n",
            "\n",
            "image 1/1 /content/drive/MyDrive/yolov11/dataset/unet_dataset_640/images/test/09_img110.png: 640x640 3 fish_larvaes, 8.7ms\n",
            "Speed: 1.4ms preprocess, 8.7ms inference, 1.2ms postprocess per image at shape (1, 3, 640, 640)\n",
            "\n",
            "image 1/1 /content/drive/MyDrive/yolov11/dataset/unet_dataset_640/images/test/10_img225.png: 640x640 4 fish_larvaes, 9.0ms\n",
            "Speed: 1.3ms preprocess, 9.0ms inference, 1.2ms postprocess per image at shape (1, 3, 640, 640)\n",
            "\n",
            "image 1/1 /content/drive/MyDrive/yolov11/dataset/unet_dataset_640/images/test/09_img44.png: 640x640 3 fish_larvaes, 11.7ms\n",
            "Speed: 1.8ms preprocess, 11.7ms inference, 1.3ms postprocess per image at shape (1, 3, 640, 640)\n",
            "\n",
            "image 1/1 /content/drive/MyDrive/yolov11/dataset/unet_dataset_640/images/test/08_img598.png: 640x640 3 fish_larvaes, 8.9ms\n",
            "Speed: 1.4ms preprocess, 8.9ms inference, 1.1ms postprocess per image at shape (1, 3, 640, 640)\n",
            "\n",
            "image 1/1 /content/drive/MyDrive/yolov11/dataset/unet_dataset_640/images/test/10_img280.png: 640x640 4 fish_larvaes, 9.8ms\n",
            "Speed: 1.4ms preprocess, 9.8ms inference, 1.8ms postprocess per image at shape (1, 3, 640, 640)\n",
            "\n",
            "image 1/1 /content/drive/MyDrive/yolov11/dataset/unet_dataset_640/images/test/08_img701.png: 640x640 3 fish_larvaes, 12.4ms\n",
            "Speed: 1.7ms preprocess, 12.4ms inference, 1.5ms postprocess per image at shape (1, 3, 640, 640)\n",
            "\n",
            "image 1/1 /content/drive/MyDrive/yolov11/dataset/unet_dataset_640/images/test/05_img274.png: 640x640 1 fish_larvae, 9.4ms\n",
            "Speed: 1.8ms preprocess, 9.4ms inference, 1.4ms postprocess per image at shape (1, 3, 640, 640)\n",
            "\n",
            "image 1/1 /content/drive/MyDrive/yolov11/dataset/unet_dataset_640/images/test/08_img32.png: 640x640 3 fish_larvaes, 8.7ms\n",
            "Speed: 1.6ms preprocess, 8.7ms inference, 1.2ms postprocess per image at shape (1, 3, 640, 640)\n",
            "\n",
            "image 1/1 /content/drive/MyDrive/yolov11/dataset/unet_dataset_640/images/test/10_img207.png: 640x640 3 fish_larvaes, 8.6ms\n",
            "Speed: 1.3ms preprocess, 8.6ms inference, 1.1ms postprocess per image at shape (1, 3, 640, 640)\n",
            "\n",
            "image 1/1 /content/drive/MyDrive/yolov11/dataset/unet_dataset_640/images/test/05_img95.png: 640x640 1 fish_larvae, 8.9ms\n",
            "Speed: 1.3ms preprocess, 8.9ms inference, 1.1ms postprocess per image at shape (1, 3, 640, 640)\n",
            "\n",
            "image 1/1 /content/drive/MyDrive/yolov11/dataset/unet_dataset_640/images/test/08_img321.png: 640x640 3 fish_larvaes, 8.9ms\n",
            "Speed: 1.3ms preprocess, 8.9ms inference, 1.2ms postprocess per image at shape (1, 3, 640, 640)\n",
            "\n",
            "image 1/1 /content/drive/MyDrive/yolov11/dataset/unet_dataset_640/images/test/06_img80.png: 640x640 1 fish_larvae, 9.9ms\n",
            "Speed: 1.5ms preprocess, 9.9ms inference, 1.3ms postprocess per image at shape (1, 3, 640, 640)\n",
            "\n",
            "image 1/1 /content/drive/MyDrive/yolov11/dataset/unet_dataset_640/images/test/10_img32.png: 640x640 4 fish_larvaes, 9.3ms\n",
            "Speed: 1.4ms preprocess, 9.3ms inference, 1.3ms postprocess per image at shape (1, 3, 640, 640)\n",
            "\n",
            "image 1/1 /content/drive/MyDrive/yolov11/dataset/unet_dataset_640/images/test/08_img429.png: 640x640 3 fish_larvaes, 9.2ms\n",
            "Speed: 1.4ms preprocess, 9.2ms inference, 1.4ms postprocess per image at shape (1, 3, 640, 640)\n",
            "\n",
            "image 1/1 /content/drive/MyDrive/yolov11/dataset/unet_dataset_640/images/test/05_img190.png: 640x640 1 fish_larvae, 11.7ms\n",
            "Speed: 1.8ms preprocess, 11.7ms inference, 1.5ms postprocess per image at shape (1, 3, 640, 640)\n",
            "\n",
            "image 1/1 /content/drive/MyDrive/yolov11/dataset/unet_dataset_640/images/test/05_img65.png: 640x640 1 fish_larvae, 10.0ms\n",
            "Speed: 1.4ms preprocess, 10.0ms inference, 1.4ms postprocess per image at shape (1, 3, 640, 640)\n",
            "\n",
            "image 1/1 /content/drive/MyDrive/yolov11/dataset/unet_dataset_640/images/test/08_img573.png: 640x640 3 fish_larvaes, 8.8ms\n",
            "Speed: 1.3ms preprocess, 8.8ms inference, 1.1ms postprocess per image at shape (1, 3, 640, 640)\n",
            "\n",
            "image 1/1 /content/drive/MyDrive/yolov11/dataset/unet_dataset_640/images/test/05_img296.png: 640x640 1 fish_larvae, 11.5ms\n",
            "Speed: 1.7ms preprocess, 11.5ms inference, 1.3ms postprocess per image at shape (1, 3, 640, 640)\n",
            "Predicted fish counts saved to /content/drive/MyDrive/yolov11/dataset/unet_dataset_640/predicted_fish_counts.json\n"
          ]
        }
      ],
      "source": [
        "import os\n",
        "import json\n",
        "\n",
        "# Load the trained model\n",
        "model = YOLO(\"/content/drive/MyDrive/yolov11/runs/experiment_unet2/weights/best.pt\")  # Replace with the path to your trained weights\n",
        "\n",
        "# Define the path to your images directory\n",
        "image_dir = \"/content/drive/MyDrive/yolov11/dataset/unet_dataset_640/images/test\"\n",
        "pred_counts = {}  # Dictionary to store predicted counts\n",
        "\n",
        "# Run inference on each image in the test folder\n",
        "for image_file in os.listdir(image_dir):\n",
        "    image_path = os.path.join(image_dir, image_file)\n",
        "\n",
        "    # Perform inference with YOLO model\n",
        "    results = model(image_path)\n",
        "\n",
        "    # Count detected objects (bounding boxes)\n",
        "    num_boxes = len(results[0].boxes)\n",
        "\n",
        "    # Save count with image name\n",
        "    image_name = image_file.split('.')[0]\n",
        "    pred_counts[image_name] = num_boxes\n",
        "\n",
        "# Save predicted counts to a JSON file for comparison\n",
        "output_file = '/content/drive/MyDrive/yolov11/dataset/unet_dataset_640/predicted_fish_counts.json'\n",
        "with open(output_file, 'w') as json_file:\n",
        "    json.dump(pred_counts, json_file)\n",
        "\n",
        "print(f\"Predicted fish counts saved to {output_file}\")\n"
      ]
    },
    {
      "cell_type": "code",
      "source": [
        "# Example dictionary of true counts and predictions\n",
        "true_counts = {\n",
        "  \"test/01_img19\": 4, \"test/01_img184\": 3, \"test/01_img143\": 4, \"test/01_img170\": 3, \"test/01_img114\": 4, \"test/01_img119\": 4, \"test/01_img190\": 4, \"test/01_img152\": 4, \"test/01_img179\": 3, \"test/01_img164\": 4, \"test/02_img206\": 3, \"test/03_img176\": 5, \"test/02_img155\": 3, \"test/02_img220\": 3, \"test/01_img49\": 6, \"test/03_img53\": 5, \"test/01_img67\": 3, \"test/03_img40\": 7, \"test/04_img04\": 4, \"test/01_img249\": 4, \"test/02_img23\": 3, \"test/03_img198\": 5, \"test/02_img213\": 3, \"test/03_img190\": 5, \"test/04_img28\": 4, \"test/01_img51\": 4, \"test/04_img25\": 4, \"test/03_img55\": 6, \"test/01_img239\": 5, \"test/02_img31\": 3, \"test/04_img23\": 4, \"test/01_img86\": 4, \"test/04_img116\": 4, \"test/03_img08\": 6, \"test/02_img42\": 3, \"test/02_img35\": 3, \"test/02_img13\": 3, \"test/03_img06\": 6, \"test/01_img92\": 4, \"test/03_img110\": 5, \"test/01_img32\": 4, \"test/03_img28\": 4, \"test/02_img62\": 3, \"test/03_img180\": 5, \"test/02_img79\": 3, \"test/01_img79\": 4, \"test/01_img253\": 4, \"test/03_img76\": 5, \"test/03_img47\": 5, \"test/02_img03\": 3, \"test/03_img122\": 5, \"test/01_img244\": 4, \"test/02_img121\": 3, \"test/02_img77\": 3, \"test/02_img85\": 3, \"test/02_img152\": 3, \"test/03_img30\": 4, \"test/02_img101\": 3, \"test/04_img19\": 4, \"test/02_img132\": 3, \"test/01_img31\": 4, \"test/03_img91\": 5, \"test/02_img122\": 3, \"test/03_img48\": 5, \"test/01_img40\": 4, \"test/01_img57\": 4, \"test/03_img156\": 5, \"test/04_img107\": 4, \"test/03_img75\": 5, \"test/03_img14\": 5, \"test/02_img159\": 3, \"test/03_img200\": 5, \"test/03_img186\": 5, \"test/03_img18\": 6, \"test/03_img60\": 5, \"test/03_img12\": 5, \"test/02_img165\": 3, \"test/02_img149\": 3, \"test/05_img68\": 1, \"test/05_img343\": 1, \"test/05_img183\": 1, \"test/05_img126\": 1, \"test/06_img124\": 1, \"test/06_img23\": 1, \"test/05_img330\": 1, \"test/05_img65\": 1, \"test/04_img29\": 4, \"test/04_img83\": 4, \"test/04_img62\": 4, \"test/05_img194\": 1, \"test/05_img263\": 1, \"test/07_img107\": 4, \"test/07_img07\": 4, \"test/07_img102\": 4, \"test/06_img118\": 1, \"test/05_img274\": 1, \"test/05_img347\": 2, \"test/06_img88\": 1, \"test/04_img31\": 4, \"test/05_img121\": 1, \"test/06_img80\": 1, \"test/05_img257\": 1, \"test/05_img292\": 1, \"test/06_img03\": 1, \"test/05_img11\": 1, \"test/06_img131\": 1, \"test/05_img164\": 1, \"test/06_img108\": 1, \"test/04_img50\": 4, \"test/06_img01\": 1, \"test/04_img85\": 4, \"test/06_img99\": 1, \"test/04_img51\": 4, \"test/06_img30\": 1, \"test/04_img52\": 4, \"test/06_img83\": 1, \"test/05_img357\": 1, \"test/05_img177\": 1, \"test/06_img137\": 1, \"test/05_img190\": 1, \"test/06_img52\": 1, \"test/05_img240\": 1, \"test/05_img101\": 1, \"test/06_img41\": 1, \"test/05_img354\": 1, \"test/05_img250\": 1, \"test/05_img299\": 1, \"test/05_img228\": 1, \"test/05_img239\": 1, \"test/05_img309\": 1, \"test/05_img356\": 1, \"test/05_img78\": 1, \"test/06_img14\": 1, \"test/05_img94\": 1, \"test/05_img320\": 1, \"test/05_img296\": 1, \"test/06_img119\": 1, \"test/05_img205\": 1, \"test/05_img323\": 1, \"test/05_img95\": 1, \"test/05_img340\": 1, \"test/05_img187\": 1, \"test/04_img66\": 4, \"test/04_img53\": 4, \"test/05_img93\": 1, \"test/05_img115\": 1, \"test/05_img160\": 1, \"test/05_img24\": 1, \"test/05_img05\": 1, \"test/07_img24\": 4, \"test/08_img608\": 3, \"test/08_img190\": 3, \"test/08_img402\": 3, \"test/07_img48\": 4, \"test/08_img364\": 3, \"test/08_img636\": 3, \"test/08_img118\": 3, \"test/08_img598\": 3, \"test/08_img270\": 3, \"test/08_img561\": 3, \"test/08_img486\": 3, \"test/08_img558\": 3, \"test/08_img213\": 3, \"test/08_img334\": 3, \"test/08_img135\": 3, \"test/08_img285\": 3, \"test/08_img571\": 3, \"test/07_img53\": 4, \"test/08_img591\": 3, \"test/08_img321\": 3, \"test/08_img50\": 3, \"test/08_img429\": 3, \"test/08_img547\": 3, \"test/08_img194\": 3, \"test/08_img14\": 3, \"test/08_img32\": 3, \"test/08_img342\": 3, \"test/07_img71\": 4, \"test/08_img147\": 3, \"test/07_img47\": 4, \"test/08_img551\": 3, \"test/08_img523\": 3, \"test/08_img191\": 3, \"test/08_img606\": 3, \"test/07_img62\": 4, \"test/08_img482\": 3, \"test/08_img418\": 3, \"test/07_img16\": 4, \"test/08_img148\": 3, \"test/07_img77\": 4, \"test/08_img176\": 3, \"test/08_img172\": 3, \"test/08_img193\": 3, \"test/08_img406\": 3, \"test/08_img01\": 3, \"test/07_img20\": 4, \"test/08_img180\": 3, \"test/08_img590\": 3, \"test/08_img374\": 3, \"test/08_img137\": 3, \"test/08_img268\": 3, \"test/07_img18\": 4, \"test/08_img51\": 3, \"test/07_img32\": 4, \"test/08_img149\": 3, \"test/08_img503\": 3, \"test/07_img69\": 5, \"test/08_img201\": 3, \"test/08_img385\": 3, \"test/08_img391\": 3, \"test/08_img365\": 3, \"test/08_img384\": 3, \"test/08_img122\": 3, \"test/08_img233\": 3, \"test/08_img531\": 3, \"test/08_img145\": 3, \"test/08_img573\": 3, \"test/08_img78\": 3, \"test/08_img645\": 3, \"test/09_img110\": 3, \"test/10_img11\": 4, \"test/08_img698\": 3, \"test/10_img387\": 4, \"test/10_img134\": 3, \"test/10_img137\": 3, \"test/10_img330\": 4, \"test/10_img214\": 3, \"test/08_img686\": 3, \"test/10_img310\": 4, \"test/10_img280\": 4, \"test/10_img276\": 4, \"test/09_img149\": 3, \"test/10_img185\": 3, \"test/10_img174\": 3, \"test/10_img113\": 3, \"test/10_img391\": 4, \"test/09_img81\": 3, \"test/10_img413\": 4, \"test/10_img43\": 4, \"test/08_img677\": 4, \"test/10_img191\": 3, \"test/10_img295\": 4, \"test/10_img207\": 3, \"test/09_img138\": 4, \"test/09_img10\": 3, \"test/10_img240\": 4, \"test/10_img396\": 4, \"test/10_img104\": 3, \"test/10_img151\": 3, \"test/09_img53\": 3, \"test/10_img182\": 3, \"test/10_img225\": 4, \"test/09_img25\": 3, \"test/10_img366\": 4, \"test/10_img267\": 4, \"test/10_img373\": 4, \"test/10_img378\": 4, \"test/10_img383\": 4, \"test/10_img29\": 4, \"test/09_img31\": 3, \"test/09_img44\": 3, \"test/10_img15\": 4, \"test/10_img103\": 3, \"test/10_img112\": 3, \"test/09_img26\": 3, \"test/09_img02\": 3, \"test/08_img683\": 3, \"test/08_img87\": 3, \"test/09_img163\": 3, \"test/10_img226\": 4, \"test/08_img647\": 3, \"test/08_img664\": 3, \"test/10_img426\": 4, \"test/09_img74\": 3, \"test/10_img398\": 4, \"test/09_img64\": 3, \"test/08_img690\": 3, \"test/10_img184\": 3, \"test/08_img710\": 3, \"test/10_img106\": 3, \"test/10_img304\": 4, \"test/10_img268\": 4, \"test/09_img17\": 3, \"test/10_img32\": 4, \"test/09_img107\": 3, \"test/08_img701\": 3, \"test/09_img77\": 3, \"test/10_img91\": 3, \"test/10_img45\": 4\n",
        "}\n",
        "predictions ={\"01_img57\": 4, \"02_img13\": 3, \"01_img170\": 3, \"01_img152\": 4, \"03_img190\": 5, \"04_img31\": 4, \"01_img49\": 4, \"03_img198\": 5, \"01_img143\": 4, \"03_img176\": 5, \"01_img179\": 3, \"04_img23\": 4, \"04_img62\": 4, \"04_img53\": 4, \"04_img107\": 4, \"03_img14\": 5, \"03_img60\": 5, \"02_img213\": 3, \"02_img206\": 3, \"02_img101\": 3, \"03_img122\": 5, \"01_img249\": 4, \"01_img19\": 4, \"04_img50\": 4, \"03_img30\": 4, \"01_img114\": 4, \"01_img253\": 4, \"04_img25\": 4, \"03_img110\": 5, \"04_img19\": 4, \"01_img79\": 4, \"03_img40\": 5, \"03_img75\": 5, \"03_img76\": 5, \"02_img149\": 3, \"02_img132\": 3, \"02_img79\": 3, \"03_img55\": 5, \"02_img220\": 3, \"02_img42\": 3, \"03_img18\": 4, \"03_img186\": 4, \"03_img12\": 4, \"02_img152\": 3, \"02_img23\": 3, \"01_img190\": 4, \"04_img29\": 4, \"04_img04\": 4, \"01_img239\": 4, \"02_img165\": 3, \"02_img35\": 3, \"03_img28\": 4, \"03_img47\": 5, \"03_img08\": 5, \"02_img155\": 3, \"01_img244\": 4, \"02_img159\": 3, \"01_img119\": 4, \"04_img28\": 4, \"01_img67\": 4, \"02_img122\": 3, \"03_img156\": 5, \"03_img91\": 5, \"03_img200\": 5, \"01_img32\": 4, \"01_img40\": 4, \"01_img86\": 4, \"02_img03\": 3, \"04_img51\": 4, \"03_img48\": 5, \"03_img06\": 5, \"01_img51\": 4, \"01_img164\": 4, \"02_img31\": 3, \"03_img180\": 5, \"02_img77\": 3, \"01_img31\": 4, \"02_img121\": 3, \"01_img92\": 4, \"04_img52\": 4, \"01_img184\": 3, \"03_img53\": 5, \"04_img116\": 4, \"02_img62\": 3, \"02_img85\": 3, \"10_img29\": 4, \"10_img103\": 3, \"08_img01\": 3, \"05_img121\": 1, \"09_img149\": 3, \"10_img151\": 3, \"06_img52\": 1, \"08_img402\": 3, \"07_img102\": 3, \"10_img378\": 4, \"05_img94\": 1, \"04_img66\": 4, \"10_img366\": 4, \"05_img126\": 1, \"06_img30\": 1, \"10_img104\": 3, \"05_img330\": 1, \"08_img486\": 3, \"05_img194\": 1, \"08_img285\": 3, \"07_img71\": 4, \"06_img118\": 1, \"08_img482\": 3, \"08_img418\": 3, \"10_img15\": 4, \"09_img10\": 3, \"08_img145\": 3, \"09_img81\": 3, \"07_img47\": 4, \"08_img384\": 3, \"04_img83\": 4, \"05_img164\": 1, \"07_img20\": 4, \"06_img41\": 1, \"10_img268\": 4, \"07_img77\": 3, \"07_img16\": 4, \"05_img05\": 1, \"10_img304\": 4, \"08_img406\": 3, \"10_img387\": 4, \"08_img645\": 3, \"08_img365\": 3, \"09_img25\": 3, \"09_img53\": 3, \"08_img561\": 3, \"07_img07\": 4, \"10_img330\": 4, \"05_img68\": 1, \"08_img547\": 3, \"08_img551\": 3, \"07_img62\": 3, \"09_img77\": 3, \"08_img176\": 3, \"08_img14\": 3, \"05_img240\": 1, \"08_img590\": 3, \"08_img391\": 3, \"05_img356\": 1, \"07_img53\": 4, \"08_img690\": 3, \"09_img107\": 3, \"05_img11\": 1, \"05_img354\": 1, \"10_img373\": 4, \"05_img299\": 1, \"08_img364\": 3, \"08_img591\": 3, \"05_img239\": 1, \"08_img385\": 3, \"08_img147\": 3, \"05_img320\": 1, \"06_img99\": 1, \"06_img83\": 1, \"05_img257\": 1, \"10_img182\": 3, \"08_img503\": 2, \"10_img310\": 4, \"08_img608\": 3, \"07_img32\": 4, \"07_img107\": 5, \"08_img180\": 3, \"10_img276\": 4, \"08_img686\": 3, \"08_img683\": 3, \"05_img228\": 1, \"08_img664\": 3, \"08_img172\": 3, \"07_img24\": 4, \"06_img14\": 1, \"08_img191\": 3, \"05_img24\": 1, \"08_img710\": 3, \"10_img413\": 4, \"05_img177\": 1, \"08_img194\": 3, \"10_img396\": 4, \"08_img374\": 3, \"10_img174\": 3, \"08_img571\": 3, \"10_img185\": 3, \"08_img137\": 3, \"05_img101\": 1, \"08_img50\": 3, \"05_img187\": 1, \"04_img85\": 4, \"10_img226\": 4, \"08_img606\": 3, \"05_img160\": 1, \"08_img190\": 3, \"07_img48\": 4, \"10_img11\": 4, \"10_img45\": 4, \"05_img292\": 1, \"10_img91\": 3, \"08_img213\": 3, \"10_img240\": 4, \"10_img267\": 4, \"08_img148\": 3, \"10_img113\": 3, \"10_img295\": 4, \"10_img134\": 3, \"08_img122\": 3, \"08_img677\": 3, \"06_img03\": 1, \"06_img131\": 1, \"08_img334\": 3, \"10_img398\": 4, \"07_img18\": 4, \"05_img205\": 1, \"06_img124\": 1, \"10_img383\": 4, \"06_img88\": 1, \"10_img214\": 4, \"10_img106\": 3, \"08_img636\": 4, \"08_img558\": 3, \"10_img426\": 4, \"10_img191\": 3, \"05_img347\": 1, \"05_img309\": 1, \"06_img01\": 1, \"05_img93\": 1, \"08_img531\": 3, \"09_img138\": 3, \"07_img69\": 4, \"08_img233\": 3, \"05_img183\": 1, \"08_img118\": 3, \"08_img268\": 3, \"05_img340\": 1, \"06_img23\": 1, \"05_img78\": 1, \"06_img108\": 1, \"08_img647\": 3, \"08_img523\": 3, \"08_img135\": 3, \"08_img87\": 3, \"10_img137\": 3, \"08_img78\": 3, \"06_img119\": 1, \"05_img250\": 1, \"09_img74\": 3, \"09_img17\": 3, \"05_img115\": 1, \"05_img343\": 1, \"08_img149\": 3, \"08_img193\": 3, \"05_img323\": 1, \"09_img163\": 3, \"08_img698\": 3, \"08_img342\": 3, \"05_img357\": 1, \"10_img112\": 3, \"09_img26\": 3, \"08_img201\": 3, \"08_img51\": 3, \"10_img391\": 4, \"10_img184\": 3, \"05_img263\": 1, \"09_img64\": 3, \"06_img137\": 1, \"09_img02\": 3, \"08_img270\": 3, \"09_img31\": 3, \"10_img43\": 4, \"09_img110\": 3, \"10_img225\": 4, \"09_img44\": 3, \"08_img598\": 3, \"10_img280\": 4, \"08_img701\": 3, \"05_img274\": 1, \"08_img32\": 3, \"10_img207\": 3, \"05_img95\": 1, \"08_img321\": 3, \"06_img80\": 1, \"10_img32\": 4, \"08_img429\": 3, \"05_img190\": 1, \"05_img65\": 1, \"08_img573\": 3, \"05_img296\": 1}\n",
        "total_images = len(true_counts)\n",
        "total_absolute_error = 0\n",
        "total_correct = 0  # Counter for correct predictions\n",
        "\n",
        "# Iterate over each test image\n",
        "for image_path, true_count in true_counts.items():\n",
        "    image_name = image_path.split('/')[-1]  # Extract just the image file name\n",
        "\n",
        "    # Access the predicted count for the current image\n",
        "    predicted_count = predictions.get(image_name, 0)  # Default to 0 if not found\n",
        "    absolute_error = abs(true_count - predicted_count) / max(true_count, 1)  # Avoid division by zero\n",
        "\n",
        "    # Update counters\n",
        "    total_absolute_error += absolute_error\n",
        "    if true_count == predicted_count:\n",
        "        total_correct += 1\n",
        "\n",
        "    # Display details for each image\n",
        "    print(f\"Image: {image_path}\")\n",
        "    print(f\"  True Count: {true_count}\")\n",
        "    print(f\"  Predicted Count: {predicted_count}\")\n",
        "    print(f\"  Absolute Error: {absolute_error:.4f}\")\n",
        "    print(\"------------------------------\")\n",
        "\n",
        "# Calculate and display overall accuracy\n",
        "mean_absolute_error = (total_absolute_error / total_images) * 100\n",
        "counting_accuracy = (total_correct / total_images) * 100\n",
        "\n",
        "print(f\"\\nFinal Counting Accuracy for Test Images: {counting_accuracy:.2f}%\")\n",
        "print(f\"Mean Absolute Error for Test Images: {mean_absolute_error:.2f}%\")\n"
      ],
      "metadata": {
        "colab": {
          "base_uri": "https://localhost:8080/"
        },
        "id": "XwellVcZcI2t",
        "outputId": "a7bca254-b982-4262-869c-e864acfa2820"
      },
      "execution_count": null,
      "outputs": [
        {
          "output_type": "stream",
          "name": "stdout",
          "text": [
            "Image: test/01_img19\n",
            "  True Count: 4\n",
            "  Predicted Count: 4\n",
            "  Absolute Error: 0.0000\n",
            "------------------------------\n",
            "Image: test/01_img184\n",
            "  True Count: 3\n",
            "  Predicted Count: 3\n",
            "  Absolute Error: 0.0000\n",
            "------------------------------\n",
            "Image: test/01_img143\n",
            "  True Count: 4\n",
            "  Predicted Count: 4\n",
            "  Absolute Error: 0.0000\n",
            "------------------------------\n",
            "Image: test/01_img170\n",
            "  True Count: 3\n",
            "  Predicted Count: 3\n",
            "  Absolute Error: 0.0000\n",
            "------------------------------\n",
            "Image: test/01_img114\n",
            "  True Count: 4\n",
            "  Predicted Count: 4\n",
            "  Absolute Error: 0.0000\n",
            "------------------------------\n",
            "Image: test/01_img119\n",
            "  True Count: 4\n",
            "  Predicted Count: 4\n",
            "  Absolute Error: 0.0000\n",
            "------------------------------\n",
            "Image: test/01_img190\n",
            "  True Count: 4\n",
            "  Predicted Count: 4\n",
            "  Absolute Error: 0.0000\n",
            "------------------------------\n",
            "Image: test/01_img152\n",
            "  True Count: 4\n",
            "  Predicted Count: 4\n",
            "  Absolute Error: 0.0000\n",
            "------------------------------\n",
            "Image: test/01_img179\n",
            "  True Count: 3\n",
            "  Predicted Count: 3\n",
            "  Absolute Error: 0.0000\n",
            "------------------------------\n",
            "Image: test/01_img164\n",
            "  True Count: 4\n",
            "  Predicted Count: 4\n",
            "  Absolute Error: 0.0000\n",
            "------------------------------\n",
            "Image: test/02_img206\n",
            "  True Count: 3\n",
            "  Predicted Count: 3\n",
            "  Absolute Error: 0.0000\n",
            "------------------------------\n",
            "Image: test/03_img176\n",
            "  True Count: 5\n",
            "  Predicted Count: 5\n",
            "  Absolute Error: 0.0000\n",
            "------------------------------\n",
            "Image: test/02_img155\n",
            "  True Count: 3\n",
            "  Predicted Count: 3\n",
            "  Absolute Error: 0.0000\n",
            "------------------------------\n",
            "Image: test/02_img220\n",
            "  True Count: 3\n",
            "  Predicted Count: 3\n",
            "  Absolute Error: 0.0000\n",
            "------------------------------\n",
            "Image: test/01_img49\n",
            "  True Count: 6\n",
            "  Predicted Count: 4\n",
            "  Absolute Error: 0.3333\n",
            "------------------------------\n",
            "Image: test/03_img53\n",
            "  True Count: 5\n",
            "  Predicted Count: 5\n",
            "  Absolute Error: 0.0000\n",
            "------------------------------\n",
            "Image: test/01_img67\n",
            "  True Count: 3\n",
            "  Predicted Count: 4\n",
            "  Absolute Error: 0.3333\n",
            "------------------------------\n",
            "Image: test/03_img40\n",
            "  True Count: 7\n",
            "  Predicted Count: 5\n",
            "  Absolute Error: 0.2857\n",
            "------------------------------\n",
            "Image: test/04_img04\n",
            "  True Count: 4\n",
            "  Predicted Count: 4\n",
            "  Absolute Error: 0.0000\n",
            "------------------------------\n",
            "Image: test/01_img249\n",
            "  True Count: 4\n",
            "  Predicted Count: 4\n",
            "  Absolute Error: 0.0000\n",
            "------------------------------\n",
            "Image: test/02_img23\n",
            "  True Count: 3\n",
            "  Predicted Count: 3\n",
            "  Absolute Error: 0.0000\n",
            "------------------------------\n",
            "Image: test/03_img198\n",
            "  True Count: 5\n",
            "  Predicted Count: 5\n",
            "  Absolute Error: 0.0000\n",
            "------------------------------\n",
            "Image: test/02_img213\n",
            "  True Count: 3\n",
            "  Predicted Count: 3\n",
            "  Absolute Error: 0.0000\n",
            "------------------------------\n",
            "Image: test/03_img190\n",
            "  True Count: 5\n",
            "  Predicted Count: 5\n",
            "  Absolute Error: 0.0000\n",
            "------------------------------\n",
            "Image: test/04_img28\n",
            "  True Count: 4\n",
            "  Predicted Count: 4\n",
            "  Absolute Error: 0.0000\n",
            "------------------------------\n",
            "Image: test/01_img51\n",
            "  True Count: 4\n",
            "  Predicted Count: 4\n",
            "  Absolute Error: 0.0000\n",
            "------------------------------\n",
            "Image: test/04_img25\n",
            "  True Count: 4\n",
            "  Predicted Count: 4\n",
            "  Absolute Error: 0.0000\n",
            "------------------------------\n",
            "Image: test/03_img55\n",
            "  True Count: 6\n",
            "  Predicted Count: 5\n",
            "  Absolute Error: 0.1667\n",
            "------------------------------\n",
            "Image: test/01_img239\n",
            "  True Count: 5\n",
            "  Predicted Count: 4\n",
            "  Absolute Error: 0.2000\n",
            "------------------------------\n",
            "Image: test/02_img31\n",
            "  True Count: 3\n",
            "  Predicted Count: 3\n",
            "  Absolute Error: 0.0000\n",
            "------------------------------\n",
            "Image: test/04_img23\n",
            "  True Count: 4\n",
            "  Predicted Count: 4\n",
            "  Absolute Error: 0.0000\n",
            "------------------------------\n",
            "Image: test/01_img86\n",
            "  True Count: 4\n",
            "  Predicted Count: 4\n",
            "  Absolute Error: 0.0000\n",
            "------------------------------\n",
            "Image: test/04_img116\n",
            "  True Count: 4\n",
            "  Predicted Count: 4\n",
            "  Absolute Error: 0.0000\n",
            "------------------------------\n",
            "Image: test/03_img08\n",
            "  True Count: 6\n",
            "  Predicted Count: 5\n",
            "  Absolute Error: 0.1667\n",
            "------------------------------\n",
            "Image: test/02_img42\n",
            "  True Count: 3\n",
            "  Predicted Count: 3\n",
            "  Absolute Error: 0.0000\n",
            "------------------------------\n",
            "Image: test/02_img35\n",
            "  True Count: 3\n",
            "  Predicted Count: 3\n",
            "  Absolute Error: 0.0000\n",
            "------------------------------\n",
            "Image: test/02_img13\n",
            "  True Count: 3\n",
            "  Predicted Count: 3\n",
            "  Absolute Error: 0.0000\n",
            "------------------------------\n",
            "Image: test/03_img06\n",
            "  True Count: 6\n",
            "  Predicted Count: 5\n",
            "  Absolute Error: 0.1667\n",
            "------------------------------\n",
            "Image: test/01_img92\n",
            "  True Count: 4\n",
            "  Predicted Count: 4\n",
            "  Absolute Error: 0.0000\n",
            "------------------------------\n",
            "Image: test/03_img110\n",
            "  True Count: 5\n",
            "  Predicted Count: 5\n",
            "  Absolute Error: 0.0000\n",
            "------------------------------\n",
            "Image: test/01_img32\n",
            "  True Count: 4\n",
            "  Predicted Count: 4\n",
            "  Absolute Error: 0.0000\n",
            "------------------------------\n",
            "Image: test/03_img28\n",
            "  True Count: 4\n",
            "  Predicted Count: 4\n",
            "  Absolute Error: 0.0000\n",
            "------------------------------\n",
            "Image: test/02_img62\n",
            "  True Count: 3\n",
            "  Predicted Count: 3\n",
            "  Absolute Error: 0.0000\n",
            "------------------------------\n",
            "Image: test/03_img180\n",
            "  True Count: 5\n",
            "  Predicted Count: 5\n",
            "  Absolute Error: 0.0000\n",
            "------------------------------\n",
            "Image: test/02_img79\n",
            "  True Count: 3\n",
            "  Predicted Count: 3\n",
            "  Absolute Error: 0.0000\n",
            "------------------------------\n",
            "Image: test/01_img79\n",
            "  True Count: 4\n",
            "  Predicted Count: 4\n",
            "  Absolute Error: 0.0000\n",
            "------------------------------\n",
            "Image: test/01_img253\n",
            "  True Count: 4\n",
            "  Predicted Count: 4\n",
            "  Absolute Error: 0.0000\n",
            "------------------------------\n",
            "Image: test/03_img76\n",
            "  True Count: 5\n",
            "  Predicted Count: 5\n",
            "  Absolute Error: 0.0000\n",
            "------------------------------\n",
            "Image: test/03_img47\n",
            "  True Count: 5\n",
            "  Predicted Count: 5\n",
            "  Absolute Error: 0.0000\n",
            "------------------------------\n",
            "Image: test/02_img03\n",
            "  True Count: 3\n",
            "  Predicted Count: 3\n",
            "  Absolute Error: 0.0000\n",
            "------------------------------\n",
            "Image: test/03_img122\n",
            "  True Count: 5\n",
            "  Predicted Count: 5\n",
            "  Absolute Error: 0.0000\n",
            "------------------------------\n",
            "Image: test/01_img244\n",
            "  True Count: 4\n",
            "  Predicted Count: 4\n",
            "  Absolute Error: 0.0000\n",
            "------------------------------\n",
            "Image: test/02_img121\n",
            "  True Count: 3\n",
            "  Predicted Count: 3\n",
            "  Absolute Error: 0.0000\n",
            "------------------------------\n",
            "Image: test/02_img77\n",
            "  True Count: 3\n",
            "  Predicted Count: 3\n",
            "  Absolute Error: 0.0000\n",
            "------------------------------\n",
            "Image: test/02_img85\n",
            "  True Count: 3\n",
            "  Predicted Count: 3\n",
            "  Absolute Error: 0.0000\n",
            "------------------------------\n",
            "Image: test/02_img152\n",
            "  True Count: 3\n",
            "  Predicted Count: 3\n",
            "  Absolute Error: 0.0000\n",
            "------------------------------\n",
            "Image: test/03_img30\n",
            "  True Count: 4\n",
            "  Predicted Count: 4\n",
            "  Absolute Error: 0.0000\n",
            "------------------------------\n",
            "Image: test/02_img101\n",
            "  True Count: 3\n",
            "  Predicted Count: 3\n",
            "  Absolute Error: 0.0000\n",
            "------------------------------\n",
            "Image: test/04_img19\n",
            "  True Count: 4\n",
            "  Predicted Count: 4\n",
            "  Absolute Error: 0.0000\n",
            "------------------------------\n",
            "Image: test/02_img132\n",
            "  True Count: 3\n",
            "  Predicted Count: 3\n",
            "  Absolute Error: 0.0000\n",
            "------------------------------\n",
            "Image: test/01_img31\n",
            "  True Count: 4\n",
            "  Predicted Count: 4\n",
            "  Absolute Error: 0.0000\n",
            "------------------------------\n",
            "Image: test/03_img91\n",
            "  True Count: 5\n",
            "  Predicted Count: 5\n",
            "  Absolute Error: 0.0000\n",
            "------------------------------\n",
            "Image: test/02_img122\n",
            "  True Count: 3\n",
            "  Predicted Count: 3\n",
            "  Absolute Error: 0.0000\n",
            "------------------------------\n",
            "Image: test/03_img48\n",
            "  True Count: 5\n",
            "  Predicted Count: 5\n",
            "  Absolute Error: 0.0000\n",
            "------------------------------\n",
            "Image: test/01_img40\n",
            "  True Count: 4\n",
            "  Predicted Count: 4\n",
            "  Absolute Error: 0.0000\n",
            "------------------------------\n",
            "Image: test/01_img57\n",
            "  True Count: 4\n",
            "  Predicted Count: 4\n",
            "  Absolute Error: 0.0000\n",
            "------------------------------\n",
            "Image: test/03_img156\n",
            "  True Count: 5\n",
            "  Predicted Count: 5\n",
            "  Absolute Error: 0.0000\n",
            "------------------------------\n",
            "Image: test/04_img107\n",
            "  True Count: 4\n",
            "  Predicted Count: 4\n",
            "  Absolute Error: 0.0000\n",
            "------------------------------\n",
            "Image: test/03_img75\n",
            "  True Count: 5\n",
            "  Predicted Count: 5\n",
            "  Absolute Error: 0.0000\n",
            "------------------------------\n",
            "Image: test/03_img14\n",
            "  True Count: 5\n",
            "  Predicted Count: 5\n",
            "  Absolute Error: 0.0000\n",
            "------------------------------\n",
            "Image: test/02_img159\n",
            "  True Count: 3\n",
            "  Predicted Count: 3\n",
            "  Absolute Error: 0.0000\n",
            "------------------------------\n",
            "Image: test/03_img200\n",
            "  True Count: 5\n",
            "  Predicted Count: 5\n",
            "  Absolute Error: 0.0000\n",
            "------------------------------\n",
            "Image: test/03_img186\n",
            "  True Count: 5\n",
            "  Predicted Count: 4\n",
            "  Absolute Error: 0.2000\n",
            "------------------------------\n",
            "Image: test/03_img18\n",
            "  True Count: 6\n",
            "  Predicted Count: 4\n",
            "  Absolute Error: 0.3333\n",
            "------------------------------\n",
            "Image: test/03_img60\n",
            "  True Count: 5\n",
            "  Predicted Count: 5\n",
            "  Absolute Error: 0.0000\n",
            "------------------------------\n",
            "Image: test/03_img12\n",
            "  True Count: 5\n",
            "  Predicted Count: 4\n",
            "  Absolute Error: 0.2000\n",
            "------------------------------\n",
            "Image: test/02_img165\n",
            "  True Count: 3\n",
            "  Predicted Count: 3\n",
            "  Absolute Error: 0.0000\n",
            "------------------------------\n",
            "Image: test/02_img149\n",
            "  True Count: 3\n",
            "  Predicted Count: 3\n",
            "  Absolute Error: 0.0000\n",
            "------------------------------\n",
            "Image: test/05_img68\n",
            "  True Count: 1\n",
            "  Predicted Count: 1\n",
            "  Absolute Error: 0.0000\n",
            "------------------------------\n",
            "Image: test/05_img343\n",
            "  True Count: 1\n",
            "  Predicted Count: 1\n",
            "  Absolute Error: 0.0000\n",
            "------------------------------\n",
            "Image: test/05_img183\n",
            "  True Count: 1\n",
            "  Predicted Count: 1\n",
            "  Absolute Error: 0.0000\n",
            "------------------------------\n",
            "Image: test/05_img126\n",
            "  True Count: 1\n",
            "  Predicted Count: 1\n",
            "  Absolute Error: 0.0000\n",
            "------------------------------\n",
            "Image: test/06_img124\n",
            "  True Count: 1\n",
            "  Predicted Count: 1\n",
            "  Absolute Error: 0.0000\n",
            "------------------------------\n",
            "Image: test/06_img23\n",
            "  True Count: 1\n",
            "  Predicted Count: 1\n",
            "  Absolute Error: 0.0000\n",
            "------------------------------\n",
            "Image: test/05_img330\n",
            "  True Count: 1\n",
            "  Predicted Count: 1\n",
            "  Absolute Error: 0.0000\n",
            "------------------------------\n",
            "Image: test/05_img65\n",
            "  True Count: 1\n",
            "  Predicted Count: 1\n",
            "  Absolute Error: 0.0000\n",
            "------------------------------\n",
            "Image: test/04_img29\n",
            "  True Count: 4\n",
            "  Predicted Count: 4\n",
            "  Absolute Error: 0.0000\n",
            "------------------------------\n",
            "Image: test/04_img83\n",
            "  True Count: 4\n",
            "  Predicted Count: 4\n",
            "  Absolute Error: 0.0000\n",
            "------------------------------\n",
            "Image: test/04_img62\n",
            "  True Count: 4\n",
            "  Predicted Count: 4\n",
            "  Absolute Error: 0.0000\n",
            "------------------------------\n",
            "Image: test/05_img194\n",
            "  True Count: 1\n",
            "  Predicted Count: 1\n",
            "  Absolute Error: 0.0000\n",
            "------------------------------\n",
            "Image: test/05_img263\n",
            "  True Count: 1\n",
            "  Predicted Count: 1\n",
            "  Absolute Error: 0.0000\n",
            "------------------------------\n",
            "Image: test/07_img107\n",
            "  True Count: 4\n",
            "  Predicted Count: 5\n",
            "  Absolute Error: 0.2500\n",
            "------------------------------\n",
            "Image: test/07_img07\n",
            "  True Count: 4\n",
            "  Predicted Count: 4\n",
            "  Absolute Error: 0.0000\n",
            "------------------------------\n",
            "Image: test/07_img102\n",
            "  True Count: 4\n",
            "  Predicted Count: 3\n",
            "  Absolute Error: 0.2500\n",
            "------------------------------\n",
            "Image: test/06_img118\n",
            "  True Count: 1\n",
            "  Predicted Count: 1\n",
            "  Absolute Error: 0.0000\n",
            "------------------------------\n",
            "Image: test/05_img274\n",
            "  True Count: 1\n",
            "  Predicted Count: 1\n",
            "  Absolute Error: 0.0000\n",
            "------------------------------\n",
            "Image: test/05_img347\n",
            "  True Count: 2\n",
            "  Predicted Count: 1\n",
            "  Absolute Error: 0.5000\n",
            "------------------------------\n",
            "Image: test/06_img88\n",
            "  True Count: 1\n",
            "  Predicted Count: 1\n",
            "  Absolute Error: 0.0000\n",
            "------------------------------\n",
            "Image: test/04_img31\n",
            "  True Count: 4\n",
            "  Predicted Count: 4\n",
            "  Absolute Error: 0.0000\n",
            "------------------------------\n",
            "Image: test/05_img121\n",
            "  True Count: 1\n",
            "  Predicted Count: 1\n",
            "  Absolute Error: 0.0000\n",
            "------------------------------\n",
            "Image: test/06_img80\n",
            "  True Count: 1\n",
            "  Predicted Count: 1\n",
            "  Absolute Error: 0.0000\n",
            "------------------------------\n",
            "Image: test/05_img257\n",
            "  True Count: 1\n",
            "  Predicted Count: 1\n",
            "  Absolute Error: 0.0000\n",
            "------------------------------\n",
            "Image: test/05_img292\n",
            "  True Count: 1\n",
            "  Predicted Count: 1\n",
            "  Absolute Error: 0.0000\n",
            "------------------------------\n",
            "Image: test/06_img03\n",
            "  True Count: 1\n",
            "  Predicted Count: 1\n",
            "  Absolute Error: 0.0000\n",
            "------------------------------\n",
            "Image: test/05_img11\n",
            "  True Count: 1\n",
            "  Predicted Count: 1\n",
            "  Absolute Error: 0.0000\n",
            "------------------------------\n",
            "Image: test/06_img131\n",
            "  True Count: 1\n",
            "  Predicted Count: 1\n",
            "  Absolute Error: 0.0000\n",
            "------------------------------\n",
            "Image: test/05_img164\n",
            "  True Count: 1\n",
            "  Predicted Count: 1\n",
            "  Absolute Error: 0.0000\n",
            "------------------------------\n",
            "Image: test/06_img108\n",
            "  True Count: 1\n",
            "  Predicted Count: 1\n",
            "  Absolute Error: 0.0000\n",
            "------------------------------\n",
            "Image: test/04_img50\n",
            "  True Count: 4\n",
            "  Predicted Count: 4\n",
            "  Absolute Error: 0.0000\n",
            "------------------------------\n",
            "Image: test/06_img01\n",
            "  True Count: 1\n",
            "  Predicted Count: 1\n",
            "  Absolute Error: 0.0000\n",
            "------------------------------\n",
            "Image: test/04_img85\n",
            "  True Count: 4\n",
            "  Predicted Count: 4\n",
            "  Absolute Error: 0.0000\n",
            "------------------------------\n",
            "Image: test/06_img99\n",
            "  True Count: 1\n",
            "  Predicted Count: 1\n",
            "  Absolute Error: 0.0000\n",
            "------------------------------\n",
            "Image: test/04_img51\n",
            "  True Count: 4\n",
            "  Predicted Count: 4\n",
            "  Absolute Error: 0.0000\n",
            "------------------------------\n",
            "Image: test/06_img30\n",
            "  True Count: 1\n",
            "  Predicted Count: 1\n",
            "  Absolute Error: 0.0000\n",
            "------------------------------\n",
            "Image: test/04_img52\n",
            "  True Count: 4\n",
            "  Predicted Count: 4\n",
            "  Absolute Error: 0.0000\n",
            "------------------------------\n",
            "Image: test/06_img83\n",
            "  True Count: 1\n",
            "  Predicted Count: 1\n",
            "  Absolute Error: 0.0000\n",
            "------------------------------\n",
            "Image: test/05_img357\n",
            "  True Count: 1\n",
            "  Predicted Count: 1\n",
            "  Absolute Error: 0.0000\n",
            "------------------------------\n",
            "Image: test/05_img177\n",
            "  True Count: 1\n",
            "  Predicted Count: 1\n",
            "  Absolute Error: 0.0000\n",
            "------------------------------\n",
            "Image: test/06_img137\n",
            "  True Count: 1\n",
            "  Predicted Count: 1\n",
            "  Absolute Error: 0.0000\n",
            "------------------------------\n",
            "Image: test/05_img190\n",
            "  True Count: 1\n",
            "  Predicted Count: 1\n",
            "  Absolute Error: 0.0000\n",
            "------------------------------\n",
            "Image: test/06_img52\n",
            "  True Count: 1\n",
            "  Predicted Count: 1\n",
            "  Absolute Error: 0.0000\n",
            "------------------------------\n",
            "Image: test/05_img240\n",
            "  True Count: 1\n",
            "  Predicted Count: 1\n",
            "  Absolute Error: 0.0000\n",
            "------------------------------\n",
            "Image: test/05_img101\n",
            "  True Count: 1\n",
            "  Predicted Count: 1\n",
            "  Absolute Error: 0.0000\n",
            "------------------------------\n",
            "Image: test/06_img41\n",
            "  True Count: 1\n",
            "  Predicted Count: 1\n",
            "  Absolute Error: 0.0000\n",
            "------------------------------\n",
            "Image: test/05_img354\n",
            "  True Count: 1\n",
            "  Predicted Count: 1\n",
            "  Absolute Error: 0.0000\n",
            "------------------------------\n",
            "Image: test/05_img250\n",
            "  True Count: 1\n",
            "  Predicted Count: 1\n",
            "  Absolute Error: 0.0000\n",
            "------------------------------\n",
            "Image: test/05_img299\n",
            "  True Count: 1\n",
            "  Predicted Count: 1\n",
            "  Absolute Error: 0.0000\n",
            "------------------------------\n",
            "Image: test/05_img228\n",
            "  True Count: 1\n",
            "  Predicted Count: 1\n",
            "  Absolute Error: 0.0000\n",
            "------------------------------\n",
            "Image: test/05_img239\n",
            "  True Count: 1\n",
            "  Predicted Count: 1\n",
            "  Absolute Error: 0.0000\n",
            "------------------------------\n",
            "Image: test/05_img309\n",
            "  True Count: 1\n",
            "  Predicted Count: 1\n",
            "  Absolute Error: 0.0000\n",
            "------------------------------\n",
            "Image: test/05_img356\n",
            "  True Count: 1\n",
            "  Predicted Count: 1\n",
            "  Absolute Error: 0.0000\n",
            "------------------------------\n",
            "Image: test/05_img78\n",
            "  True Count: 1\n",
            "  Predicted Count: 1\n",
            "  Absolute Error: 0.0000\n",
            "------------------------------\n",
            "Image: test/06_img14\n",
            "  True Count: 1\n",
            "  Predicted Count: 1\n",
            "  Absolute Error: 0.0000\n",
            "------------------------------\n",
            "Image: test/05_img94\n",
            "  True Count: 1\n",
            "  Predicted Count: 1\n",
            "  Absolute Error: 0.0000\n",
            "------------------------------\n",
            "Image: test/05_img320\n",
            "  True Count: 1\n",
            "  Predicted Count: 1\n",
            "  Absolute Error: 0.0000\n",
            "------------------------------\n",
            "Image: test/05_img296\n",
            "  True Count: 1\n",
            "  Predicted Count: 1\n",
            "  Absolute Error: 0.0000\n",
            "------------------------------\n",
            "Image: test/06_img119\n",
            "  True Count: 1\n",
            "  Predicted Count: 1\n",
            "  Absolute Error: 0.0000\n",
            "------------------------------\n",
            "Image: test/05_img205\n",
            "  True Count: 1\n",
            "  Predicted Count: 1\n",
            "  Absolute Error: 0.0000\n",
            "------------------------------\n",
            "Image: test/05_img323\n",
            "  True Count: 1\n",
            "  Predicted Count: 1\n",
            "  Absolute Error: 0.0000\n",
            "------------------------------\n",
            "Image: test/05_img95\n",
            "  True Count: 1\n",
            "  Predicted Count: 1\n",
            "  Absolute Error: 0.0000\n",
            "------------------------------\n",
            "Image: test/05_img340\n",
            "  True Count: 1\n",
            "  Predicted Count: 1\n",
            "  Absolute Error: 0.0000\n",
            "------------------------------\n",
            "Image: test/05_img187\n",
            "  True Count: 1\n",
            "  Predicted Count: 1\n",
            "  Absolute Error: 0.0000\n",
            "------------------------------\n",
            "Image: test/04_img66\n",
            "  True Count: 4\n",
            "  Predicted Count: 4\n",
            "  Absolute Error: 0.0000\n",
            "------------------------------\n",
            "Image: test/04_img53\n",
            "  True Count: 4\n",
            "  Predicted Count: 4\n",
            "  Absolute Error: 0.0000\n",
            "------------------------------\n",
            "Image: test/05_img93\n",
            "  True Count: 1\n",
            "  Predicted Count: 1\n",
            "  Absolute Error: 0.0000\n",
            "------------------------------\n",
            "Image: test/05_img115\n",
            "  True Count: 1\n",
            "  Predicted Count: 1\n",
            "  Absolute Error: 0.0000\n",
            "------------------------------\n",
            "Image: test/05_img160\n",
            "  True Count: 1\n",
            "  Predicted Count: 1\n",
            "  Absolute Error: 0.0000\n",
            "------------------------------\n",
            "Image: test/05_img24\n",
            "  True Count: 1\n",
            "  Predicted Count: 1\n",
            "  Absolute Error: 0.0000\n",
            "------------------------------\n",
            "Image: test/05_img05\n",
            "  True Count: 1\n",
            "  Predicted Count: 1\n",
            "  Absolute Error: 0.0000\n",
            "------------------------------\n",
            "Image: test/07_img24\n",
            "  True Count: 4\n",
            "  Predicted Count: 4\n",
            "  Absolute Error: 0.0000\n",
            "------------------------------\n",
            "Image: test/08_img608\n",
            "  True Count: 3\n",
            "  Predicted Count: 3\n",
            "  Absolute Error: 0.0000\n",
            "------------------------------\n",
            "Image: test/08_img190\n",
            "  True Count: 3\n",
            "  Predicted Count: 3\n",
            "  Absolute Error: 0.0000\n",
            "------------------------------\n",
            "Image: test/08_img402\n",
            "  True Count: 3\n",
            "  Predicted Count: 3\n",
            "  Absolute Error: 0.0000\n",
            "------------------------------\n",
            "Image: test/07_img48\n",
            "  True Count: 4\n",
            "  Predicted Count: 4\n",
            "  Absolute Error: 0.0000\n",
            "------------------------------\n",
            "Image: test/08_img364\n",
            "  True Count: 3\n",
            "  Predicted Count: 3\n",
            "  Absolute Error: 0.0000\n",
            "------------------------------\n",
            "Image: test/08_img636\n",
            "  True Count: 3\n",
            "  Predicted Count: 4\n",
            "  Absolute Error: 0.3333\n",
            "------------------------------\n",
            "Image: test/08_img118\n",
            "  True Count: 3\n",
            "  Predicted Count: 3\n",
            "  Absolute Error: 0.0000\n",
            "------------------------------\n",
            "Image: test/08_img598\n",
            "  True Count: 3\n",
            "  Predicted Count: 3\n",
            "  Absolute Error: 0.0000\n",
            "------------------------------\n",
            "Image: test/08_img270\n",
            "  True Count: 3\n",
            "  Predicted Count: 3\n",
            "  Absolute Error: 0.0000\n",
            "------------------------------\n",
            "Image: test/08_img561\n",
            "  True Count: 3\n",
            "  Predicted Count: 3\n",
            "  Absolute Error: 0.0000\n",
            "------------------------------\n",
            "Image: test/08_img486\n",
            "  True Count: 3\n",
            "  Predicted Count: 3\n",
            "  Absolute Error: 0.0000\n",
            "------------------------------\n",
            "Image: test/08_img558\n",
            "  True Count: 3\n",
            "  Predicted Count: 3\n",
            "  Absolute Error: 0.0000\n",
            "------------------------------\n",
            "Image: test/08_img213\n",
            "  True Count: 3\n",
            "  Predicted Count: 3\n",
            "  Absolute Error: 0.0000\n",
            "------------------------------\n",
            "Image: test/08_img334\n",
            "  True Count: 3\n",
            "  Predicted Count: 3\n",
            "  Absolute Error: 0.0000\n",
            "------------------------------\n",
            "Image: test/08_img135\n",
            "  True Count: 3\n",
            "  Predicted Count: 3\n",
            "  Absolute Error: 0.0000\n",
            "------------------------------\n",
            "Image: test/08_img285\n",
            "  True Count: 3\n",
            "  Predicted Count: 3\n",
            "  Absolute Error: 0.0000\n",
            "------------------------------\n",
            "Image: test/08_img571\n",
            "  True Count: 3\n",
            "  Predicted Count: 3\n",
            "  Absolute Error: 0.0000\n",
            "------------------------------\n",
            "Image: test/07_img53\n",
            "  True Count: 4\n",
            "  Predicted Count: 4\n",
            "  Absolute Error: 0.0000\n",
            "------------------------------\n",
            "Image: test/08_img591\n",
            "  True Count: 3\n",
            "  Predicted Count: 3\n",
            "  Absolute Error: 0.0000\n",
            "------------------------------\n",
            "Image: test/08_img321\n",
            "  True Count: 3\n",
            "  Predicted Count: 3\n",
            "  Absolute Error: 0.0000\n",
            "------------------------------\n",
            "Image: test/08_img50\n",
            "  True Count: 3\n",
            "  Predicted Count: 3\n",
            "  Absolute Error: 0.0000\n",
            "------------------------------\n",
            "Image: test/08_img429\n",
            "  True Count: 3\n",
            "  Predicted Count: 3\n",
            "  Absolute Error: 0.0000\n",
            "------------------------------\n",
            "Image: test/08_img547\n",
            "  True Count: 3\n",
            "  Predicted Count: 3\n",
            "  Absolute Error: 0.0000\n",
            "------------------------------\n",
            "Image: test/08_img194\n",
            "  True Count: 3\n",
            "  Predicted Count: 3\n",
            "  Absolute Error: 0.0000\n",
            "------------------------------\n",
            "Image: test/08_img14\n",
            "  True Count: 3\n",
            "  Predicted Count: 3\n",
            "  Absolute Error: 0.0000\n",
            "------------------------------\n",
            "Image: test/08_img32\n",
            "  True Count: 3\n",
            "  Predicted Count: 3\n",
            "  Absolute Error: 0.0000\n",
            "------------------------------\n",
            "Image: test/08_img342\n",
            "  True Count: 3\n",
            "  Predicted Count: 3\n",
            "  Absolute Error: 0.0000\n",
            "------------------------------\n",
            "Image: test/07_img71\n",
            "  True Count: 4\n",
            "  Predicted Count: 4\n",
            "  Absolute Error: 0.0000\n",
            "------------------------------\n",
            "Image: test/08_img147\n",
            "  True Count: 3\n",
            "  Predicted Count: 3\n",
            "  Absolute Error: 0.0000\n",
            "------------------------------\n",
            "Image: test/07_img47\n",
            "  True Count: 4\n",
            "  Predicted Count: 4\n",
            "  Absolute Error: 0.0000\n",
            "------------------------------\n",
            "Image: test/08_img551\n",
            "  True Count: 3\n",
            "  Predicted Count: 3\n",
            "  Absolute Error: 0.0000\n",
            "------------------------------\n",
            "Image: test/08_img523\n",
            "  True Count: 3\n",
            "  Predicted Count: 3\n",
            "  Absolute Error: 0.0000\n",
            "------------------------------\n",
            "Image: test/08_img191\n",
            "  True Count: 3\n",
            "  Predicted Count: 3\n",
            "  Absolute Error: 0.0000\n",
            "------------------------------\n",
            "Image: test/08_img606\n",
            "  True Count: 3\n",
            "  Predicted Count: 3\n",
            "  Absolute Error: 0.0000\n",
            "------------------------------\n",
            "Image: test/07_img62\n",
            "  True Count: 4\n",
            "  Predicted Count: 3\n",
            "  Absolute Error: 0.2500\n",
            "------------------------------\n",
            "Image: test/08_img482\n",
            "  True Count: 3\n",
            "  Predicted Count: 3\n",
            "  Absolute Error: 0.0000\n",
            "------------------------------\n",
            "Image: test/08_img418\n",
            "  True Count: 3\n",
            "  Predicted Count: 3\n",
            "  Absolute Error: 0.0000\n",
            "------------------------------\n",
            "Image: test/07_img16\n",
            "  True Count: 4\n",
            "  Predicted Count: 4\n",
            "  Absolute Error: 0.0000\n",
            "------------------------------\n",
            "Image: test/08_img148\n",
            "  True Count: 3\n",
            "  Predicted Count: 3\n",
            "  Absolute Error: 0.0000\n",
            "------------------------------\n",
            "Image: test/07_img77\n",
            "  True Count: 4\n",
            "  Predicted Count: 3\n",
            "  Absolute Error: 0.2500\n",
            "------------------------------\n",
            "Image: test/08_img176\n",
            "  True Count: 3\n",
            "  Predicted Count: 3\n",
            "  Absolute Error: 0.0000\n",
            "------------------------------\n",
            "Image: test/08_img172\n",
            "  True Count: 3\n",
            "  Predicted Count: 3\n",
            "  Absolute Error: 0.0000\n",
            "------------------------------\n",
            "Image: test/08_img193\n",
            "  True Count: 3\n",
            "  Predicted Count: 3\n",
            "  Absolute Error: 0.0000\n",
            "------------------------------\n",
            "Image: test/08_img406\n",
            "  True Count: 3\n",
            "  Predicted Count: 3\n",
            "  Absolute Error: 0.0000\n",
            "------------------------------\n",
            "Image: test/08_img01\n",
            "  True Count: 3\n",
            "  Predicted Count: 3\n",
            "  Absolute Error: 0.0000\n",
            "------------------------------\n",
            "Image: test/07_img20\n",
            "  True Count: 4\n",
            "  Predicted Count: 4\n",
            "  Absolute Error: 0.0000\n",
            "------------------------------\n",
            "Image: test/08_img180\n",
            "  True Count: 3\n",
            "  Predicted Count: 3\n",
            "  Absolute Error: 0.0000\n",
            "------------------------------\n",
            "Image: test/08_img590\n",
            "  True Count: 3\n",
            "  Predicted Count: 3\n",
            "  Absolute Error: 0.0000\n",
            "------------------------------\n",
            "Image: test/08_img374\n",
            "  True Count: 3\n",
            "  Predicted Count: 3\n",
            "  Absolute Error: 0.0000\n",
            "------------------------------\n",
            "Image: test/08_img137\n",
            "  True Count: 3\n",
            "  Predicted Count: 3\n",
            "  Absolute Error: 0.0000\n",
            "------------------------------\n",
            "Image: test/08_img268\n",
            "  True Count: 3\n",
            "  Predicted Count: 3\n",
            "  Absolute Error: 0.0000\n",
            "------------------------------\n",
            "Image: test/07_img18\n",
            "  True Count: 4\n",
            "  Predicted Count: 4\n",
            "  Absolute Error: 0.0000\n",
            "------------------------------\n",
            "Image: test/08_img51\n",
            "  True Count: 3\n",
            "  Predicted Count: 3\n",
            "  Absolute Error: 0.0000\n",
            "------------------------------\n",
            "Image: test/07_img32\n",
            "  True Count: 4\n",
            "  Predicted Count: 4\n",
            "  Absolute Error: 0.0000\n",
            "------------------------------\n",
            "Image: test/08_img149\n",
            "  True Count: 3\n",
            "  Predicted Count: 3\n",
            "  Absolute Error: 0.0000\n",
            "------------------------------\n",
            "Image: test/08_img503\n",
            "  True Count: 3\n",
            "  Predicted Count: 2\n",
            "  Absolute Error: 0.3333\n",
            "------------------------------\n",
            "Image: test/07_img69\n",
            "  True Count: 5\n",
            "  Predicted Count: 4\n",
            "  Absolute Error: 0.2000\n",
            "------------------------------\n",
            "Image: test/08_img201\n",
            "  True Count: 3\n",
            "  Predicted Count: 3\n",
            "  Absolute Error: 0.0000\n",
            "------------------------------\n",
            "Image: test/08_img385\n",
            "  True Count: 3\n",
            "  Predicted Count: 3\n",
            "  Absolute Error: 0.0000\n",
            "------------------------------\n",
            "Image: test/08_img391\n",
            "  True Count: 3\n",
            "  Predicted Count: 3\n",
            "  Absolute Error: 0.0000\n",
            "------------------------------\n",
            "Image: test/08_img365\n",
            "  True Count: 3\n",
            "  Predicted Count: 3\n",
            "  Absolute Error: 0.0000\n",
            "------------------------------\n",
            "Image: test/08_img384\n",
            "  True Count: 3\n",
            "  Predicted Count: 3\n",
            "  Absolute Error: 0.0000\n",
            "------------------------------\n",
            "Image: test/08_img122\n",
            "  True Count: 3\n",
            "  Predicted Count: 3\n",
            "  Absolute Error: 0.0000\n",
            "------------------------------\n",
            "Image: test/08_img233\n",
            "  True Count: 3\n",
            "  Predicted Count: 3\n",
            "  Absolute Error: 0.0000\n",
            "------------------------------\n",
            "Image: test/08_img531\n",
            "  True Count: 3\n",
            "  Predicted Count: 3\n",
            "  Absolute Error: 0.0000\n",
            "------------------------------\n",
            "Image: test/08_img145\n",
            "  True Count: 3\n",
            "  Predicted Count: 3\n",
            "  Absolute Error: 0.0000\n",
            "------------------------------\n",
            "Image: test/08_img573\n",
            "  True Count: 3\n",
            "  Predicted Count: 3\n",
            "  Absolute Error: 0.0000\n",
            "------------------------------\n",
            "Image: test/08_img78\n",
            "  True Count: 3\n",
            "  Predicted Count: 3\n",
            "  Absolute Error: 0.0000\n",
            "------------------------------\n",
            "Image: test/08_img645\n",
            "  True Count: 3\n",
            "  Predicted Count: 3\n",
            "  Absolute Error: 0.0000\n",
            "------------------------------\n",
            "Image: test/09_img110\n",
            "  True Count: 3\n",
            "  Predicted Count: 3\n",
            "  Absolute Error: 0.0000\n",
            "------------------------------\n",
            "Image: test/10_img11\n",
            "  True Count: 4\n",
            "  Predicted Count: 4\n",
            "  Absolute Error: 0.0000\n",
            "------------------------------\n",
            "Image: test/08_img698\n",
            "  True Count: 3\n",
            "  Predicted Count: 3\n",
            "  Absolute Error: 0.0000\n",
            "------------------------------\n",
            "Image: test/10_img387\n",
            "  True Count: 4\n",
            "  Predicted Count: 4\n",
            "  Absolute Error: 0.0000\n",
            "------------------------------\n",
            "Image: test/10_img134\n",
            "  True Count: 3\n",
            "  Predicted Count: 3\n",
            "  Absolute Error: 0.0000\n",
            "------------------------------\n",
            "Image: test/10_img137\n",
            "  True Count: 3\n",
            "  Predicted Count: 3\n",
            "  Absolute Error: 0.0000\n",
            "------------------------------\n",
            "Image: test/10_img330\n",
            "  True Count: 4\n",
            "  Predicted Count: 4\n",
            "  Absolute Error: 0.0000\n",
            "------------------------------\n",
            "Image: test/10_img214\n",
            "  True Count: 3\n",
            "  Predicted Count: 4\n",
            "  Absolute Error: 0.3333\n",
            "------------------------------\n",
            "Image: test/08_img686\n",
            "  True Count: 3\n",
            "  Predicted Count: 3\n",
            "  Absolute Error: 0.0000\n",
            "------------------------------\n",
            "Image: test/10_img310\n",
            "  True Count: 4\n",
            "  Predicted Count: 4\n",
            "  Absolute Error: 0.0000\n",
            "------------------------------\n",
            "Image: test/10_img280\n",
            "  True Count: 4\n",
            "  Predicted Count: 4\n",
            "  Absolute Error: 0.0000\n",
            "------------------------------\n",
            "Image: test/10_img276\n",
            "  True Count: 4\n",
            "  Predicted Count: 4\n",
            "  Absolute Error: 0.0000\n",
            "------------------------------\n",
            "Image: test/09_img149\n",
            "  True Count: 3\n",
            "  Predicted Count: 3\n",
            "  Absolute Error: 0.0000\n",
            "------------------------------\n",
            "Image: test/10_img185\n",
            "  True Count: 3\n",
            "  Predicted Count: 3\n",
            "  Absolute Error: 0.0000\n",
            "------------------------------\n",
            "Image: test/10_img174\n",
            "  True Count: 3\n",
            "  Predicted Count: 3\n",
            "  Absolute Error: 0.0000\n",
            "------------------------------\n",
            "Image: test/10_img113\n",
            "  True Count: 3\n",
            "  Predicted Count: 3\n",
            "  Absolute Error: 0.0000\n",
            "------------------------------\n",
            "Image: test/10_img391\n",
            "  True Count: 4\n",
            "  Predicted Count: 4\n",
            "  Absolute Error: 0.0000\n",
            "------------------------------\n",
            "Image: test/09_img81\n",
            "  True Count: 3\n",
            "  Predicted Count: 3\n",
            "  Absolute Error: 0.0000\n",
            "------------------------------\n",
            "Image: test/10_img413\n",
            "  True Count: 4\n",
            "  Predicted Count: 4\n",
            "  Absolute Error: 0.0000\n",
            "------------------------------\n",
            "Image: test/10_img43\n",
            "  True Count: 4\n",
            "  Predicted Count: 4\n",
            "  Absolute Error: 0.0000\n",
            "------------------------------\n",
            "Image: test/08_img677\n",
            "  True Count: 4\n",
            "  Predicted Count: 3\n",
            "  Absolute Error: 0.2500\n",
            "------------------------------\n",
            "Image: test/10_img191\n",
            "  True Count: 3\n",
            "  Predicted Count: 3\n",
            "  Absolute Error: 0.0000\n",
            "------------------------------\n",
            "Image: test/10_img295\n",
            "  True Count: 4\n",
            "  Predicted Count: 4\n",
            "  Absolute Error: 0.0000\n",
            "------------------------------\n",
            "Image: test/10_img207\n",
            "  True Count: 3\n",
            "  Predicted Count: 3\n",
            "  Absolute Error: 0.0000\n",
            "------------------------------\n",
            "Image: test/09_img138\n",
            "  True Count: 4\n",
            "  Predicted Count: 3\n",
            "  Absolute Error: 0.2500\n",
            "------------------------------\n",
            "Image: test/09_img10\n",
            "  True Count: 3\n",
            "  Predicted Count: 3\n",
            "  Absolute Error: 0.0000\n",
            "------------------------------\n",
            "Image: test/10_img240\n",
            "  True Count: 4\n",
            "  Predicted Count: 4\n",
            "  Absolute Error: 0.0000\n",
            "------------------------------\n",
            "Image: test/10_img396\n",
            "  True Count: 4\n",
            "  Predicted Count: 4\n",
            "  Absolute Error: 0.0000\n",
            "------------------------------\n",
            "Image: test/10_img104\n",
            "  True Count: 3\n",
            "  Predicted Count: 3\n",
            "  Absolute Error: 0.0000\n",
            "------------------------------\n",
            "Image: test/10_img151\n",
            "  True Count: 3\n",
            "  Predicted Count: 3\n",
            "  Absolute Error: 0.0000\n",
            "------------------------------\n",
            "Image: test/09_img53\n",
            "  True Count: 3\n",
            "  Predicted Count: 3\n",
            "  Absolute Error: 0.0000\n",
            "------------------------------\n",
            "Image: test/10_img182\n",
            "  True Count: 3\n",
            "  Predicted Count: 3\n",
            "  Absolute Error: 0.0000\n",
            "------------------------------\n",
            "Image: test/10_img225\n",
            "  True Count: 4\n",
            "  Predicted Count: 4\n",
            "  Absolute Error: 0.0000\n",
            "------------------------------\n",
            "Image: test/09_img25\n",
            "  True Count: 3\n",
            "  Predicted Count: 3\n",
            "  Absolute Error: 0.0000\n",
            "------------------------------\n",
            "Image: test/10_img366\n",
            "  True Count: 4\n",
            "  Predicted Count: 4\n",
            "  Absolute Error: 0.0000\n",
            "------------------------------\n",
            "Image: test/10_img267\n",
            "  True Count: 4\n",
            "  Predicted Count: 4\n",
            "  Absolute Error: 0.0000\n",
            "------------------------------\n",
            "Image: test/10_img373\n",
            "  True Count: 4\n",
            "  Predicted Count: 4\n",
            "  Absolute Error: 0.0000\n",
            "------------------------------\n",
            "Image: test/10_img378\n",
            "  True Count: 4\n",
            "  Predicted Count: 4\n",
            "  Absolute Error: 0.0000\n",
            "------------------------------\n",
            "Image: test/10_img383\n",
            "  True Count: 4\n",
            "  Predicted Count: 4\n",
            "  Absolute Error: 0.0000\n",
            "------------------------------\n",
            "Image: test/10_img29\n",
            "  True Count: 4\n",
            "  Predicted Count: 4\n",
            "  Absolute Error: 0.0000\n",
            "------------------------------\n",
            "Image: test/09_img31\n",
            "  True Count: 3\n",
            "  Predicted Count: 3\n",
            "  Absolute Error: 0.0000\n",
            "------------------------------\n",
            "Image: test/09_img44\n",
            "  True Count: 3\n",
            "  Predicted Count: 3\n",
            "  Absolute Error: 0.0000\n",
            "------------------------------\n",
            "Image: test/10_img15\n",
            "  True Count: 4\n",
            "  Predicted Count: 4\n",
            "  Absolute Error: 0.0000\n",
            "------------------------------\n",
            "Image: test/10_img103\n",
            "  True Count: 3\n",
            "  Predicted Count: 3\n",
            "  Absolute Error: 0.0000\n",
            "------------------------------\n",
            "Image: test/10_img112\n",
            "  True Count: 3\n",
            "  Predicted Count: 3\n",
            "  Absolute Error: 0.0000\n",
            "------------------------------\n",
            "Image: test/09_img26\n",
            "  True Count: 3\n",
            "  Predicted Count: 3\n",
            "  Absolute Error: 0.0000\n",
            "------------------------------\n",
            "Image: test/09_img02\n",
            "  True Count: 3\n",
            "  Predicted Count: 3\n",
            "  Absolute Error: 0.0000\n",
            "------------------------------\n",
            "Image: test/08_img683\n",
            "  True Count: 3\n",
            "  Predicted Count: 3\n",
            "  Absolute Error: 0.0000\n",
            "------------------------------\n",
            "Image: test/08_img87\n",
            "  True Count: 3\n",
            "  Predicted Count: 3\n",
            "  Absolute Error: 0.0000\n",
            "------------------------------\n",
            "Image: test/09_img163\n",
            "  True Count: 3\n",
            "  Predicted Count: 3\n",
            "  Absolute Error: 0.0000\n",
            "------------------------------\n",
            "Image: test/10_img226\n",
            "  True Count: 4\n",
            "  Predicted Count: 4\n",
            "  Absolute Error: 0.0000\n",
            "------------------------------\n",
            "Image: test/08_img647\n",
            "  True Count: 3\n",
            "  Predicted Count: 3\n",
            "  Absolute Error: 0.0000\n",
            "------------------------------\n",
            "Image: test/08_img664\n",
            "  True Count: 3\n",
            "  Predicted Count: 3\n",
            "  Absolute Error: 0.0000\n",
            "------------------------------\n",
            "Image: test/10_img426\n",
            "  True Count: 4\n",
            "  Predicted Count: 4\n",
            "  Absolute Error: 0.0000\n",
            "------------------------------\n",
            "Image: test/09_img74\n",
            "  True Count: 3\n",
            "  Predicted Count: 3\n",
            "  Absolute Error: 0.0000\n",
            "------------------------------\n",
            "Image: test/10_img398\n",
            "  True Count: 4\n",
            "  Predicted Count: 4\n",
            "  Absolute Error: 0.0000\n",
            "------------------------------\n",
            "Image: test/09_img64\n",
            "  True Count: 3\n",
            "  Predicted Count: 3\n",
            "  Absolute Error: 0.0000\n",
            "------------------------------\n",
            "Image: test/08_img690\n",
            "  True Count: 3\n",
            "  Predicted Count: 3\n",
            "  Absolute Error: 0.0000\n",
            "------------------------------\n",
            "Image: test/10_img184\n",
            "  True Count: 3\n",
            "  Predicted Count: 3\n",
            "  Absolute Error: 0.0000\n",
            "------------------------------\n",
            "Image: test/08_img710\n",
            "  True Count: 3\n",
            "  Predicted Count: 3\n",
            "  Absolute Error: 0.0000\n",
            "------------------------------\n",
            "Image: test/10_img106\n",
            "  True Count: 3\n",
            "  Predicted Count: 3\n",
            "  Absolute Error: 0.0000\n",
            "------------------------------\n",
            "Image: test/10_img304\n",
            "  True Count: 4\n",
            "  Predicted Count: 4\n",
            "  Absolute Error: 0.0000\n",
            "------------------------------\n",
            "Image: test/10_img268\n",
            "  True Count: 4\n",
            "  Predicted Count: 4\n",
            "  Absolute Error: 0.0000\n",
            "------------------------------\n",
            "Image: test/09_img17\n",
            "  True Count: 3\n",
            "  Predicted Count: 3\n",
            "  Absolute Error: 0.0000\n",
            "------------------------------\n",
            "Image: test/10_img32\n",
            "  True Count: 4\n",
            "  Predicted Count: 4\n",
            "  Absolute Error: 0.0000\n",
            "------------------------------\n",
            "Image: test/09_img107\n",
            "  True Count: 3\n",
            "  Predicted Count: 3\n",
            "  Absolute Error: 0.0000\n",
            "------------------------------\n",
            "Image: test/08_img701\n",
            "  True Count: 3\n",
            "  Predicted Count: 3\n",
            "  Absolute Error: 0.0000\n",
            "------------------------------\n",
            "Image: test/09_img77\n",
            "  True Count: 3\n",
            "  Predicted Count: 3\n",
            "  Absolute Error: 0.0000\n",
            "------------------------------\n",
            "Image: test/10_img91\n",
            "  True Count: 3\n",
            "  Predicted Count: 3\n",
            "  Absolute Error: 0.0000\n",
            "------------------------------\n",
            "Image: test/10_img45\n",
            "  True Count: 4\n",
            "  Predicted Count: 4\n",
            "  Absolute Error: 0.0000\n",
            "------------------------------\n",
            "\n",
            "Final Counting Accuracy for Test Images: 92.73%\n",
            "Mean Absolute Error for Test Images: 1.93%\n"
          ]
        }
      ]
    },
    {
      "cell_type": "code",
      "source": [
        "# Load the trained YOLO model\n",
        "model = YOLO(\"/content/drive/MyDrive/yolov11/runs/experiment_unet2/weights/best.pt\")  # Path to your trained model weights\n",
        "\n",
        "results = model.val(\n",
        "    data=\"/content/drive/MyDrive/yolov11/dataset/unet_dataset_640/data.yaml\",\n",
        "    split='test',  # Explicitly specify the test split\n",
        "    project=\"/content/drive/MyDrive/yolov11/runs/experiment_unet2\",\n",
        "    name=\"unet_test2\" , # To save test evaluation results separately\n",
        "    save=True\n",
        ")\n",
        "\n",
        "# Extract evaluation metrics\n",
        "try:\n",
        "    print(\"Evaluation Results:\")\n",
        "    print(f\"mAP50: {results.box.map50 * 100:.2f}%\")  # mAP at IoU=0.50\n",
        "    print(f\"mAP50-95: {results.box.map * 100:.2f}%\")  # mAP averaged over IoU=0.50:0.95\n",
        "    print(f\"Precision: {results.box.mp * 100:.2f}%\")  # Mean Precision\n",
        "    print(f\"Recall: {results.box.mr * 100:.2f}%\")     # Mean Recall\n",
        "except AttributeError as e:\n",
        "    print(f\"Error accessing metrics: {e}\")\n"
      ],
      "metadata": {
        "id": "yCb1NxAycU5J",
        "colab": {
          "base_uri": "https://localhost:8080/"
        },
        "outputId": "993c482d-6873-4147-ad29-9a218b638fa3"
      },
      "execution_count": null,
      "outputs": [
        {
          "output_type": "stream",
          "name": "stdout",
          "text": [
            "Ultralytics 8.3.62 🚀 Python-3.10.12 torch-2.5.1+cu121 CUDA:0 (Tesla T4, 15102MiB)\n",
            "YOLO11n summary (fused): 238 layers, 2,582,347 parameters, 0 gradients, 6.3 GFLOPs\n",
            "Downloading https://ultralytics.com/assets/Arial.ttf to '/root/.config/Ultralytics/Arial.ttf'...\n"
          ]
        },
        {
          "output_type": "stream",
          "name": "stderr",
          "text": [
            "100%|██████████| 755k/755k [00:00<00:00, 3.76MB/s]\n",
            "\u001b[34m\u001b[1mval: \u001b[0mScanning /content/drive/MyDrive/yolov11/dataset/unet_dataset_640/labels/test... 289 images, 0 backgrounds, 0 corrupt: 100%|██████████| 289/289 [00:38<00:00,  7.55it/s]"
          ]
        },
        {
          "output_type": "stream",
          "name": "stdout",
          "text": [
            "\u001b[34m\u001b[1mval: \u001b[0mNew cache created: /content/drive/MyDrive/yolov11/dataset/unet_dataset_640/labels/test.cache\n"
          ]
        },
        {
          "output_type": "stream",
          "name": "stderr",
          "text": [
            "\n",
            "                 Class     Images  Instances      Box(P          R      mAP50  mAP50-95): 100%|██████████| 19/19 [00:05<00:00,  3.69it/s]\n"
          ]
        },
        {
          "output_type": "stream",
          "name": "stdout",
          "text": [
            "                   all        289        891      0.992      0.975      0.981      0.954\n",
            "Speed: 0.9ms preprocess, 4.2ms inference, 0.0ms loss, 4.5ms postprocess per image\n",
            "Results saved to \u001b[1m/content/drive/MyDrive/yolov11/runs/experiment_unet2/unet_test2\u001b[0m\n",
            "Evaluation Results:\n",
            "mAP50: 98.10%\n",
            "mAP50-95: 95.41%\n",
            "Precision: 99.19%\n",
            "Recall: 97.53%\n"
          ]
        }
      ]
    }
  ],
  "metadata": {
    "accelerator": "GPU",
    "colab": {
      "gpuType": "T4",
      "machine_shape": "hm",
      "provenance": []
    },
    "kernelspec": {
      "display_name": "Python 3",
      "name": "python3"
    },
    "language_info": {
      "name": "python"
    }
  },
  "nbformat": 4,
  "nbformat_minor": 0
}